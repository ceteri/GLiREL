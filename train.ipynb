{
 "cells": [
  {
   "cell_type": "markdown",
   "metadata": {},
   "source": [
    "# 🚞 Zero-shot RE Training"
   ]
  },
  {
   "cell_type": "code",
   "execution_count": 1,
   "metadata": {},
   "outputs": [],
   "source": [
    "%load_ext autoreload\n",
    "%autoreload 2"
   ]
  },
  {
   "cell_type": "code",
   "execution_count": null,
   "metadata": {},
   "outputs": [],
   "source": [
    "# if you're running this in a colab notebook, you can run this cell to install the necessary dependencies\n",
    "!git clone https://github.com/jackboyla/GLiREL.git\n",
    "!cd GLiREL && pip install -e .\n",
    "!python -m spacy download en_core_web_sm"
   ]
  },
  {
   "cell_type": "code",
   "execution_count": 2,
   "metadata": {},
   "outputs": [],
   "source": [
    "import os \n",
    "# os.chdir('./GLiREL')"
   ]
  },
  {
   "cell_type": "code",
   "execution_count": null,
   "metadata": {},
   "outputs": [],
   "source": [
    "!python train.py --config config_small_rel.yaml --log_dir logs --relation_extraction"
   ]
  },
  {
   "cell_type": "code",
   "execution_count": null,
   "metadata": {},
   "outputs": [],
   "source": [
    "from glirel import GLiREL\n",
    "\n",
    "save_path = 'logs/model_4000'\n",
    "model = GLiREL.from_pretrained(save_path)\n",
    "model"
   ]
  },
  {
   "cell_type": "markdown",
   "metadata": {},
   "source": [
    "# Inference\n",
    "\n",
    "To infer, the model needs `tokens`, `NER`, and `labels`."
   ]
  },
  {
   "cell_type": "markdown",
   "metadata": {},
   "source": [
    "### Eval data"
   ]
  },
  {
   "cell_type": "code",
   "execution_count": 23,
   "metadata": {},
   "outputs": [
    {
     "name": "stdout",
     "output_type": "stream",
     "text": [
      "['The', 'race', 'took', 'place', 'between', 'Godstow', 'and', 'Binsey', 'along', 'the', 'Upper', 'River', 'Thames', '.']\n",
      "\n",
      "[[7, 8, 'Q4914513', 'Binsey'], [11, 13, 'Q19686', 'River Thames']]\n",
      "['located in or next to body of water']\n"
     ]
    }
   ],
   "source": [
    "import json\n",
    "with open('./data/few_rel_eval.jsonl', 'r') as f:\n",
    "    data = [json.loads(line) for line in f]\n",
    "\n",
    "i = 0\n",
    "\n",
    "tokens = data[i]['tokenized_text']\n",
    "ner = data[i]['ner']\n",
    "labels = list(set([r['relation_text'] for r in data[i]['relations']]))\n",
    "print(tokens)\n",
    "print()\n",
    "print(ner)\n",
    "print(labels)"
   ]
  },
  {
   "cell_type": "code",
   "execution_count": 24,
   "metadata": {},
   "outputs": [
    {
     "name": "stdout",
     "output_type": "stream",
     "text": [
      "['country of origin', 'licensed to broadcast to', 'father', 'followed by', 'located in or next to body of water']\n"
     ]
    }
   ],
   "source": [
    "labels = ['country of origin', 'licensed to broadcast to', 'father', 'followed by'] + labels\n",
    "print(labels)"
   ]
  },
  {
   "cell_type": "code",
   "execution_count": 25,
   "metadata": {},
   "outputs": [
    {
     "name": "stdout",
     "output_type": "stream",
     "text": [
      "Number of relations: 4\n",
      "\n",
      "Descending Order by Score:\n",
      "{'head_pos': [7, 8], 'tail_pos': [11, 13], 'head_text': ['Binsey'], 'tail_text': ['River', 'Thames'], 'label': 'located in or next to body of water', 'score': 0.9235768914222717}\n",
      "{'head_pos': [11, 13], 'tail_pos': [7, 8], 'head_text': ['River', 'Thames'], 'tail_text': ['Binsey'], 'label': 'located in or next to body of water', 'score': 0.12615662813186646}\n",
      "{'head_pos': [11, 13], 'tail_pos': [7, 8], 'head_text': ['River', 'Thames'], 'tail_text': ['Binsey'], 'label': 'followed by', 'score': 0.024778323248028755}\n",
      "{'head_pos': [7, 8], 'tail_pos': [11, 13], 'head_text': ['Binsey'], 'tail_text': ['River', 'Thames'], 'label': 'followed by', 'score': 0.01304696500301361}\n"
     ]
    }
   ],
   "source": [
    "relations = model.predict_relations(tokens, labels, threshold=0.01, ner=ner)\n",
    "\n",
    "print('Number of relations:', len(relations))  # num entity pairs (both directions) * num classes.... provided they're over the threshold\n",
    "\n",
    "sorted_data_desc = sorted(relations, key=lambda x: x['score'], reverse=True)\n",
    "print(\"\\nDescending Order by Score:\")\n",
    "for item in sorted_data_desc:\n",
    "    print(item)"
   ]
  },
  {
   "cell_type": "code",
   "execution_count": 26,
   "metadata": {},
   "outputs": [
    {
     "name": "stdout",
     "output_type": "stream",
     "text": [
      "1 out of 4 predictions and 1 ground truths\n",
      "[['Binsey', [7, 8], 'River Thames', [11, 13], 'located in or next to body of water']]\n"
     ]
    }
   ],
   "source": [
    "# How many did the model get right?\n",
    "\n",
    "gt = [[r['head']['mention'], r['head']['position'], r['tail']['mention'], r['tail']['position'], r['relation_text']] for r in data[i]['relations']]\n",
    "pred = [[r['head_text'], r['head_pos'], r['tail_text'], r['tail_pos'], r['label']] for r in relations]\n",
    "\n",
    "\n",
    "# Function to compare entries\n",
    "def compare_entries(entry_a, entry_b):\n",
    "    # Compare head position, tail position, and label\n",
    "    return entry_a[1] == entry_b[1] and entry_a[3] == entry_b[3] and entry_a[-1] == entry_b[-1]\n",
    "\n",
    "# Find matching entries\n",
    "matches = []\n",
    "for entry_second in gt:\n",
    "    for entry_first in pred:\n",
    "        if compare_entries(entry_first, entry_second):\n",
    "            matches.append(entry_second)\n",
    "\n",
    "# Print matching entries from the second list that are found in the first list\n",
    "print(len(matches), 'out of', len(relations), 'predictions and', len(gt), 'ground truths')\n",
    "print(matches)"
   ]
  },
  {
   "cell_type": "markdown",
   "metadata": {},
   "source": [
    "### Real-world example"
   ]
  },
  {
   "cell_type": "code",
   "execution_count": 29,
   "metadata": {},
   "outputs": [
    {
     "name": "stdout",
     "output_type": "stream",
     "text": [
      "Entities detected: [[0, 2, 'PERSON', 'Jack Dorsey'], [5, 7, 'PERSON', 'Tim Dorsey'], [13, 14, 'PERSON', 'Jack'], [17, 19, 'PERSON', 'Sarah Paulson'], [20, 22, 'GPE', 'New York'], [23, 24, 'DATE', '2003'], [27, 28, 'CARDINAL', 'one'], [30, 31, 'PERSON', 'Edward']]\n",
      "Number of relations: 90\n",
      "\n",
      "Descending Order by Score:\n",
      "['Sarah', 'Paulson'] --> spouse --> ['New', 'York'] | socre: 0.6608812212944031\n",
      "['Sarah', 'Paulson'] --> spouse --> ['Jack', 'Dorsey'] | socre: 0.6601175665855408\n",
      "['Edward'] --> spouse --> ['New', 'York'] | socre: 0.6493653655052185\n",
      "['one'] --> spouse --> ['New', 'York'] | socre: 0.6480509042739868\n",
      "['Edward'] --> spouse --> ['Jack', 'Dorsey'] | socre: 0.6474933624267578\n",
      "['one'] --> spouse --> ['Jack', 'Dorsey'] | socre: 0.645997166633606\n",
      "['Sarah', 'Paulson'] --> parent --> ['Jack', 'Dorsey'] | socre: 0.6457919478416443\n",
      "['Sarah', 'Paulson'] --> parent --> ['New', 'York'] | socre: 0.6436636447906494\n",
      "['Tim', 'Dorsey'] --> spouse --> ['New', 'York'] | socre: 0.6415780186653137\n",
      "['2003'] --> spouse --> ['New', 'York'] | socre: 0.6391208171844482\n",
      "['Tim', 'Dorsey'] --> spouse --> ['Jack', 'Dorsey'] | socre: 0.63701331615448\n",
      "['2003'] --> spouse --> ['Jack', 'Dorsey'] | socre: 0.6341938972473145\n",
      "['Edward'] --> parent --> ['Jack', 'Dorsey'] | socre: 0.6297466158866882\n",
      "['one'] --> parent --> ['Jack', 'Dorsey'] | socre: 0.6295565366744995\n",
      "['one'] --> parent --> ['New', 'York'] | socre: 0.6287574768066406\n",
      "['Edward'] --> parent --> ['New', 'York'] | socre: 0.628741979598999\n",
      "['Jack'] --> spouse --> ['New', 'York'] | socre: 0.6235114932060242\n",
      "['Tim', 'Dorsey'] --> parent --> ['New', 'York'] | socre: 0.6178748607635498\n",
      "['Jack'] --> spouse --> ['Jack', 'Dorsey'] | socre: 0.617311418056488\n",
      "['Tim', 'Dorsey'] --> parent --> ['Jack', 'Dorsey'] | socre: 0.6160783767700195\n",
      "['2003'] --> parent --> ['New', 'York'] | socre: 0.615913987159729\n",
      "['2003'] --> parent --> ['Jack', 'Dorsey'] | socre: 0.6139134764671326\n",
      "['Sarah', 'Paulson'] --> spouse --> ['Jack'] | socre: 0.6134545207023621\n",
      "['Sarah', 'Paulson'] --> parent --> ['Jack'] | socre: 0.6068808436393738\n",
      "['Jack'] --> parent --> ['New', 'York'] | socre: 0.597760796546936\n",
      "['Jack'] --> parent --> ['Jack', 'Dorsey'] | socre: 0.5938688516616821\n",
      "['one'] --> spouse --> ['Jack'] | socre: 0.5666187405586243\n",
      "['one'] --> parent --> ['Jack'] | socre: 0.561690092086792\n",
      "['Edward'] --> spouse --> ['Jack'] | socre: 0.5573583841323853\n",
      "['Edward'] --> parent --> ['Jack'] | socre: 0.5519170165061951\n",
      "['Sarah', 'Paulson'] --> parent --> ['2003'] | socre: 0.5419945120811462\n",
      "['Sarah', 'Paulson'] --> spouse --> ['2003'] | socre: 0.538011372089386\n",
      "['Sarah', 'Paulson'] --> parent --> ['Tim', 'Dorsey'] | socre: 0.5305250883102417\n",
      "['Sarah', 'Paulson'] --> spouse --> ['Tim', 'Dorsey'] | socre: 0.5261394381523132\n",
      "['2003'] --> spouse --> ['Jack'] | socre: 0.469546914100647\n",
      "['2003'] --> parent --> ['Jack'] | socre: 0.46946918964385986\n",
      "['Tim', 'Dorsey'] --> parent --> ['Jack'] | socre: 0.4649246633052826\n",
      "['Tim', 'Dorsey'] --> spouse --> ['Jack'] | socre: 0.4646981358528137\n",
      "['one'] --> parent --> ['2003'] | socre: 0.4642432928085327\n",
      "['one'] --> spouse --> ['2003'] | socre: 0.45384079217910767\n",
      "['Edward'] --> parent --> ['2003'] | socre: 0.45107144117355347\n",
      "['one'] --> parent --> ['Tim', 'Dorsey'] | socre: 0.4497245252132416\n",
      "['Edward'] --> spouse --> ['2003'] | socre: 0.44043564796447754\n",
      "['one'] --> spouse --> ['Tim', 'Dorsey'] | socre: 0.4386376440525055\n",
      "['Edward'] --> parent --> ['Tim', 'Dorsey'] | socre: 0.4363727867603302\n",
      "['Sarah', 'Paulson'] --> parent --> ['Edward'] | socre: 0.4295597970485687\n",
      "['Sarah', 'Paulson'] --> parent --> ['one'] | socre: 0.42602744698524475\n",
      "['Edward'] --> spouse --> ['Tim', 'Dorsey'] | socre: 0.4249820113182068\n",
      "['Sarah', 'Paulson'] --> spouse --> ['Edward'] | socre: 0.4108309745788574\n",
      "['Sarah', 'Paulson'] --> spouse --> ['one'] | socre: 0.4057144820690155\n",
      "['Jack', 'Dorsey'] --> parent --> ['New', 'York'] | socre: 0.36462557315826416\n",
      "['Jack', 'Dorsey'] --> spouse --> ['New', 'York'] | socre: 0.36330723762512207\n",
      "['Tim', 'Dorsey'] --> parent --> ['2003'] | socre: 0.33000701665878296\n",
      "['one'] --> parent --> ['Edward'] | socre: 0.320206880569458\n",
      "['2003'] --> parent --> ['Tim', 'Dorsey'] | socre: 0.3156266510486603\n",
      "['Tim', 'Dorsey'] --> spouse --> ['2003'] | socre: 0.3109220266342163\n",
      "['Edward'] --> parent --> ['one'] | socre: 0.3006241023540497\n",
      "['2003'] --> spouse --> ['Tim', 'Dorsey'] | socre: 0.29536765813827515\n",
      "['one'] --> spouse --> ['Edward'] | socre: 0.29422464966773987\n",
      "['Edward'] --> spouse --> ['one'] | socre: 0.2735646367073059\n",
      "['Tim', 'Dorsey'] --> parent --> ['Edward'] | socre: 0.18075312674045563\n",
      "['2003'] --> parent --> ['Edward'] | socre: 0.18053320050239563\n",
      "['Tim', 'Dorsey'] --> parent --> ['one'] | socre: 0.17521248757839203\n",
      "['2003'] --> parent --> ['one'] | socre: 0.17476806044578552\n",
      "['Jack'] --> parent --> ['2003'] | socre: 0.1707545965909958\n",
      "['one'] --> parent --> ['Sarah', 'Paulson'] | socre: 0.17007070779800415\n",
      "['Jack'] --> parent --> ['Tim', 'Dorsey'] | socre: 0.16050557792186737\n",
      "['Edward'] --> parent --> ['Sarah', 'Paulson'] | socre: 0.1601042002439499\n",
      "['Tim', 'Dorsey'] --> spouse --> ['Edward'] | socre: 0.15417693555355072\n",
      "['2003'] --> spouse --> ['Edward'] | socre: 0.1535005420446396\n",
      "['Tim', 'Dorsey'] --> spouse --> ['one'] | socre: 0.1482473611831665\n",
      "['Jack'] --> spouse --> ['2003'] | socre: 0.14736764132976532\n",
      "['2003'] --> spouse --> ['one'] | socre: 0.14730527997016907\n",
      "['one'] --> spouse --> ['Sarah', 'Paulson'] | socre: 0.1395210176706314\n",
      "['New', 'York'] --> parent --> ['Jack', 'Dorsey'] | socre: 0.13930495083332062\n",
      "['Jack'] --> spouse --> ['Tim', 'Dorsey'] | socre: 0.13764588534832\n",
      "['Edward'] --> spouse --> ['Sarah', 'Paulson'] | socre: 0.13063889741897583\n",
      "['New', 'York'] --> spouse --> ['Jack', 'Dorsey'] | socre: 0.11887960135936737\n",
      "['Tim', 'Dorsey'] --> parent --> ['Sarah', 'Paulson'] | socre: 0.07847733050584793\n",
      "['2003'] --> parent --> ['Sarah', 'Paulson'] | socre: 0.07789421826601028\n",
      "['Jack'] --> parent --> ['Edward'] | socre: 0.07471675425767899\n",
      "['Jack'] --> parent --> ['one'] | socre: 0.07158920168876648\n",
      "['Tim', 'Dorsey'] --> spouse --> ['Sarah', 'Paulson'] | socre: 0.058031369000673294\n",
      "['2003'] --> spouse --> ['Sarah', 'Paulson'] | socre: 0.057293523102998734\n",
      "['Jack'] --> spouse --> ['Edward'] | socre: 0.056442681699991226\n",
      "['Jack'] --> spouse --> ['one'] | socre: 0.0535566620528698\n",
      "['Jack'] --> parent --> ['Sarah', 'Paulson'] | socre: 0.028219973668456078\n",
      "['Jack'] --> spouse --> ['Sarah', 'Paulson'] | socre: 0.01823820173740387\n",
      "['Jack', 'Dorsey'] --> parent --> ['Jack'] | socre: 0.017488349229097366\n",
      "['Jack', 'Dorsey'] --> spouse --> ['Jack'] | socre: 0.011057754047214985\n"
     ]
    }
   ],
   "source": [
    "# Real-world example\n",
    "\n",
    "text = \"Jack Dorsey's father, Tim Dorsey, is a licensed pilot. Jack met his wife Sarah Paulson in New York in 2003. They have one son, Edward.\"\n",
    "import spacy\n",
    "nlp = spacy.load('en_core_web_sm')\n",
    "doc = nlp(text)\n",
    "\n",
    "labels = ['country of origin', 'licensed to broadcast to', 'parent', 'followed by', 'located in or next to body of water', 'spouse', 'child']\n",
    "\n",
    "tokens = [token.text for token in doc]\n",
    "\n",
    "ner = [[ent.start, ent.end, ent.label_, ent.text] for ent in doc.ents]\n",
    "print(f\"Entities detected: {ner}\")\n",
    "\n",
    "relations = model.predict_relations(tokens, labels, threshold=0.01, ner=ner)\n",
    "\n",
    "print('Number of relations:', len(relations))\n",
    "\n",
    "sorted_data_desc = sorted(relations, key=lambda x: x['score'], reverse=True)\n",
    "print(\"\\nDescending Order by Score:\")\n",
    "for item in sorted_data_desc:\n",
    "    print(f\"{item['head_text']} --> {item['label']} --> {item['tail_text']} | socre: {item['score']}\")"
   ]
  },
  {
   "cell_type": "code",
   "execution_count": 6,
   "metadata": {},
   "outputs": [
    {
     "data": {
      "text/html": [
       "<span class=\"tex2jax_ignore\"><svg xmlns=\"http://www.w3.org/2000/svg\" xmlns:xlink=\"http://www.w3.org/1999/xlink\" xml:lang=\"en\" id=\"bd0bdf5becd64ba298ad144a80eb8ad6-0\" class=\"displacy\" width=\"1975\" height=\"224.5\" direction=\"ltr\" style=\"max-width: none; height: 224.5px; color: #000000; background: #ffffff; font-family: Arial; direction: ltr\">\n",
       "<text class=\"displacy-token\" fill=\"currentColor\" text-anchor=\"middle\" y=\"134.5\">\n",
       "    <tspan class=\"displacy-word\" fill=\"currentColor\" x=\"50\">Binsey</tspan>\n",
       "    <tspan class=\"displacy-tag\" dy=\"2em\" fill=\"currentColor\" x=\"50\"></tspan>\n",
       "</text>\n",
       "\n",
       "<text class=\"displacy-token\" fill=\"currentColor\" text-anchor=\"middle\" y=\"134.5\">\n",
       "    <tspan class=\"displacy-word\" fill=\"currentColor\" x=\"225\">located</tspan>\n",
       "    <tspan class=\"displacy-tag\" dy=\"2em\" fill=\"currentColor\" x=\"225\"></tspan>\n",
       "</text>\n",
       "\n",
       "<text class=\"displacy-token\" fill=\"currentColor\" text-anchor=\"middle\" y=\"134.5\">\n",
       "    <tspan class=\"displacy-word\" fill=\"currentColor\" x=\"400\">in</tspan>\n",
       "    <tspan class=\"displacy-tag\" dy=\"2em\" fill=\"currentColor\" x=\"400\"></tspan>\n",
       "</text>\n",
       "\n",
       "<text class=\"displacy-token\" fill=\"currentColor\" text-anchor=\"middle\" y=\"134.5\">\n",
       "    <tspan class=\"displacy-word\" fill=\"currentColor\" x=\"575\">or</tspan>\n",
       "    <tspan class=\"displacy-tag\" dy=\"2em\" fill=\"currentColor\" x=\"575\"></tspan>\n",
       "</text>\n",
       "\n",
       "<text class=\"displacy-token\" fill=\"currentColor\" text-anchor=\"middle\" y=\"134.5\">\n",
       "    <tspan class=\"displacy-word\" fill=\"currentColor\" x=\"750\">next</tspan>\n",
       "    <tspan class=\"displacy-tag\" dy=\"2em\" fill=\"currentColor\" x=\"750\"></tspan>\n",
       "</text>\n",
       "\n",
       "<text class=\"displacy-token\" fill=\"currentColor\" text-anchor=\"middle\" y=\"134.5\">\n",
       "    <tspan class=\"displacy-word\" fill=\"currentColor\" x=\"925\">to</tspan>\n",
       "    <tspan class=\"displacy-tag\" dy=\"2em\" fill=\"currentColor\" x=\"925\"></tspan>\n",
       "</text>\n",
       "\n",
       "<text class=\"displacy-token\" fill=\"currentColor\" text-anchor=\"middle\" y=\"134.5\">\n",
       "    <tspan class=\"displacy-word\" fill=\"currentColor\" x=\"1100\">body</tspan>\n",
       "    <tspan class=\"displacy-tag\" dy=\"2em\" fill=\"currentColor\" x=\"1100\"></tspan>\n",
       "</text>\n",
       "\n",
       "<text class=\"displacy-token\" fill=\"currentColor\" text-anchor=\"middle\" y=\"134.5\">\n",
       "    <tspan class=\"displacy-word\" fill=\"currentColor\" x=\"1275\">of</tspan>\n",
       "    <tspan class=\"displacy-tag\" dy=\"2em\" fill=\"currentColor\" x=\"1275\"></tspan>\n",
       "</text>\n",
       "\n",
       "<text class=\"displacy-token\" fill=\"currentColor\" text-anchor=\"middle\" y=\"134.5\">\n",
       "    <tspan class=\"displacy-word\" fill=\"currentColor\" x=\"1450\">water</tspan>\n",
       "    <tspan class=\"displacy-tag\" dy=\"2em\" fill=\"currentColor\" x=\"1450\"></tspan>\n",
       "</text>\n",
       "\n",
       "<text class=\"displacy-token\" fill=\"currentColor\" text-anchor=\"middle\" y=\"134.5\">\n",
       "    <tspan class=\"displacy-word\" fill=\"currentColor\" x=\"1625\">River</tspan>\n",
       "    <tspan class=\"displacy-tag\" dy=\"2em\" fill=\"currentColor\" x=\"1625\"></tspan>\n",
       "</text>\n",
       "\n",
       "<text class=\"displacy-token\" fill=\"currentColor\" text-anchor=\"middle\" y=\"134.5\">\n",
       "    <tspan class=\"displacy-word\" fill=\"currentColor\" x=\"1800\">Thames</tspan>\n",
       "    <tspan class=\"displacy-tag\" dy=\"2em\" fill=\"currentColor\" x=\"1800\"></tspan>\n",
       "</text>\n",
       "\n",
       "<g class=\"displacy-arrow\">\n",
       "    <path class=\"displacy-arc\" id=\"arrow-bd0bdf5becd64ba298ad144a80eb8ad6-0-0\" stroke-width=\"2px\" d=\"M70,89.5 C70,2.0 1625.0,2.0 1625.0,89.5\" fill=\"none\" stroke=\"currentColor\"/>\n",
       "    <text dy=\"1.25em\" style=\"font-size: 0.8em; letter-spacing: 1px\">\n",
       "        <textPath xlink:href=\"#arrow-bd0bdf5becd64ba298ad144a80eb8ad6-0-0\" class=\"displacy-label\" startOffset=\"50%\" side=\"left\" fill=\"currentColor\" text-anchor=\"middle\">rel</textPath>\n",
       "    </text>\n",
       "    <path class=\"displacy-arrowhead\" d=\"M70,91.5 L62,79.5 78,79.5\" fill=\"currentColor\"/>\n",
       "</g>\n",
       "</svg></span>"
      ],
      "text/plain": [
       "<IPython.core.display.HTML object>"
      ]
     },
     "metadata": {},
     "output_type": "display_data"
    }
   ],
   "source": [
    "import spacy\n",
    "from spacy.tokens import Span\n",
    "from spacy import displacy\n",
    "\n",
    "def visualize_relation(text, relations):\n",
    "    nlp = spacy.blank(\"en\")\n",
    "    doc = nlp(text)\n",
    "\n",
    "    # Manually set dependency relations to visualize relations\n",
    "    for token in doc:\n",
    "        token.dep_ = \"dep\"  # default to 'dep'\n",
    "\n",
    "    spans = []\n",
    "    # Calculate character offsets for each entity\n",
    "    for rel in relations:\n",
    "        head = Span(doc, rel['head_pos'][0], rel['head_pos'][1], label=rel['head_text'])\n",
    "        tail = Span(doc, rel['tail_pos'][0], rel['tail_pos'][1], label=rel['tail_text'])\n",
    "\n",
    "        doc.ents += (head, tail)\n",
    "\n",
    "        # Mock dependencies\n",
    "        head_root = head.root\n",
    "        tail_root = tail.root\n",
    "\n",
    "        head_root.dep_ = \"rel\"  # Relation type can be customized\n",
    "        head_root.head = tail_root  # Point head to tail\n",
    "\n",
    "    options = {\"fine_grained\": True}\n",
    "    displacy.render(doc, style=\"dep\", options=options, jupyter=True)\n",
    "\n",
    "# Example data\n",
    "text = \"Binsey located in or next to body of water River Thames\"\n",
    "relations = [\n",
    "    {'head_pos': [0, 1], 'tail_pos': [9, 11], 'head_text': 'Binsey', 'tail_text': 'River Thames', 'label': 'located in or next to body of water', 'score': 0.9235768914222717},\n",
    "    # {'head_pos': [9, 11], 'tail_pos': [0, 1], 'head_text': 'River Thames', 'tail_text': 'Binsey', 'label': 'located in or next to body of water', 'score': 0.12615662813186646}\n",
    "]\n",
    "\n",
    "visualize_relation(text, relations)\n"
   ]
  },
  {
   "cell_type": "code",
   "execution_count": null,
   "metadata": {},
   "outputs": [],
   "source": []
  }
 ],
 "metadata": {
  "kernelspec": {
   "display_name": "gliner_dev",
   "language": "python",
   "name": "python3"
  },
  "language_info": {
   "codemirror_mode": {
    "name": "ipython",
    "version": 3
   },
   "file_extension": ".py",
   "mimetype": "text/x-python",
   "name": "python",
   "nbconvert_exporter": "python",
   "pygments_lexer": "ipython3",
   "version": "3.10.13"
  }
 },
 "nbformat": 4,
 "nbformat_minor": 2
}
