{
 "cells": [
  {
   "cell_type": "markdown",
   "metadata": {},
   "source": [
    "## 🧐 ZeroRel data inspection"
   ]
  },
  {
   "cell_type": "code",
   "execution_count": 1,
   "metadata": {},
   "outputs": [],
   "source": [
    "import json\n",
    "with open('data/zero_rel_all.jsonl', 'r') as f:\n",
    "    # data = []\n",
    "    # for i in range(5):\n",
    "    #     data.append(json.loads(next(f)))\n",
    "    data = [json.loads(line) for line in f]"
   ]
  },
  {
   "cell_type": "code",
   "execution_count": 2,
   "metadata": {},
   "outputs": [
    {
     "name": "stdout",
     "output_type": "stream",
     "text": [
      "Number of unique labels: 916367\n"
     ]
    },
    {
     "data": {
      "text/plain": [
       "[('no relation', 1038391),\n",
       " ('location of', 704818),\n",
       " ('member of', 386934),\n",
       " ('location', 268480),\n",
       " ('location in', 257950),\n",
       " ('located in', 239440),\n",
       " ('created by', 218583),\n",
       " ('author of', 213249),\n",
       " ('hosted by', 177776),\n",
       " ('part of', 151153),\n",
       " ('produced by', 147802),\n",
       " ('self reference', 145815),\n",
       " ('worked for', 140374),\n",
       " ('reported by', 137596),\n",
       " ('supports', 133059),\n",
       " ('mentioned in', 116558),\n",
       " ('collaborator', 113567),\n",
       " ('same person', 113015),\n",
       " ('played for', 106867),\n",
       " ('publisher', 105739),\n",
       " ('written by', 104687),\n",
       " ('produces', 99504),\n",
       " ('lives in', 98620),\n",
       " ('supported by', 97468),\n",
       " ('child of', 93260),\n",
       " ('educated at', 90800),\n",
       " ('designed by', 89883),\n",
       " ('subject of', 88617),\n",
       " ('owned by', 86224),\n",
       " ('born in', 85736),\n",
       " ('sponsor', 85414),\n",
       " ('hosts', 84673),\n",
       " ('belongs to', 84605),\n",
       " ('funding', 82576),\n",
       " ('head of', 81399),\n",
       " ('published in', 78730),\n",
       " ('featured in', 75916),\n",
       " ('published by', 73839),\n",
       " ('performs at', 73569),\n",
       " ('owner', 71872),\n",
       " ('founder', 70769),\n",
       " ('leads', 69856),\n",
       " ('inspired by', 69161),\n",
       " ('owner of', 67466),\n",
       " ('caused by', 64147),\n",
       " ('same organization', 63215),\n",
       " ('the', 62807),\n",
       " ('died in', 62802),\n",
       " ('location in location', 62757),\n",
       " ('origin from', 62639)]"
      ]
     },
     "execution_count": 2,
     "metadata": {},
     "output_type": "execute_result"
    }
   ],
   "source": [
    "# relation labels in ZeroRel\n",
    "\n",
    "relationship_counts = {}\n",
    "\n",
    "for item in data:\n",
    "    relations = item['relations']\n",
    "    for relation in relations:\n",
    "        relation_text = relation['relation_text']\n",
    "        if relation_text in relationship_counts:\n",
    "            relationship_counts[relation_text] += 1\n",
    "        else:\n",
    "            relationship_counts[relation_text] = 1\n",
    "\n",
    "sorted_relationship_counts = sorted(relationship_counts.items(), key=lambda x: x[1], reverse=True)\n",
    "\n",
    "print(f\"Number of unique labels: {len(sorted_relationship_counts)}\")\n",
    "sorted_relationship_counts[:50]"
   ]
  },
  {
   "cell_type": "code",
   "execution_count": 3,
   "metadata": {},
   "outputs": [],
   "source": [
    "i = 4"
   ]
  },
  {
   "cell_type": "code",
   "execution_count": 4,
   "metadata": {},
   "outputs": [
    {
     "data": {
      "text/plain": [
       "dict_keys(['ner', 'relations', 'tokenized_text'])"
      ]
     },
     "execution_count": 4,
     "metadata": {},
     "output_type": "execute_result"
    }
   ],
   "source": [
    "data[i].keys()"
   ]
  },
  {
   "cell_type": "code",
   "execution_count": 5,
   "metadata": {},
   "outputs": [
    {
     "data": {
      "text/plain": [
       "[[0, 3, 'DATE', '30 Jan 2024'],\n",
       " [4, 9, 'ORG', 'The Bangkok North Municipal Court'],\n",
       " [16, 19, 'ORG', 'Move Forward Party'],\n",
       " [20, 22, 'PERSON', 'Rukchanok Srinork'],\n",
       " [23, 24, 'CARDINAL', 'two']]"
      ]
     },
     "execution_count": 5,
     "metadata": {},
     "output_type": "execute_result"
    }
   ],
   "source": [
    "data[i]['ner'][:5]"
   ]
  },
  {
   "cell_type": "code",
   "execution_count": 6,
   "metadata": {},
   "outputs": [
    {
     "data": {
      "text/plain": [
       "18"
      ]
     },
     "execution_count": 6,
     "metadata": {},
     "output_type": "execute_result"
    }
   ],
   "source": [
    "len(data[i]['ner'])"
   ]
  },
  {
   "cell_type": "code",
   "execution_count": 7,
   "metadata": {},
   "outputs": [
    {
     "data": {
      "text/plain": [
       "'30 Jan 2024 \\n The Bangkok North Municipal Court has dismissed a defamation lawsuit filed against Move Forward Party MP Rukchanok Srinork by two former Nation TV anchors on the ground that the two presenters are public figures and so can be criticized . \\n 10 Aug 2022 \\n The Supreme Court has dismissed a defamation lawsuit against former Voice TV reporter Suchanee Cloitre filed by the Thammakaset Company on the grounds that her report was criticism made in good faith . \\n 11 Oct 2021 \\n Art critic Pearamon Tulavardhana reports that she has received a court summons on a charge of defamation by publication filed against her by Chiang Mai University lecturer Pongsiri Kiddee , after she published an article on an exhibition organized by the Office of Contemporary Art and Culture ( OCAC ) .'"
      ]
     },
     "execution_count": 7,
     "metadata": {},
     "output_type": "execute_result"
    }
   ],
   "source": [
    "\" \".join(data[i]['tokenized_text'])"
   ]
  },
  {
   "cell_type": "code",
   "execution_count": 8,
   "metadata": {},
   "outputs": [
    {
     "data": {
      "text/plain": [
       "[{'head': {'mention': '30 Jan 2024', 'position': [0, 3], 'type': 'DATE'},\n",
       "  'tail': {'mention': 'the Thammakaset Company',\n",
       "   'position': [66, 69],\n",
       "   'type': 'ORG'},\n",
       "  'relation_text': 'no relation'},\n",
       " {'head': {'mention': '10 Aug 2022', 'position': [45, 48], 'type': 'DATE'},\n",
       "  'tail': {'mention': 'Move Forward Party',\n",
       "   'position': [16, 19],\n",
       "   'type': 'ORG'},\n",
       "  'relation_text': 'no relation'},\n",
       " {'head': {'mention': 'the Thammakaset Company',\n",
       "   'position': [66, 69],\n",
       "   'type': 'ORG'},\n",
       "  'tail': {'mention': 'Nation TV', 'position': [25, 27], 'type': 'ORG'},\n",
       "  'relation_text': 'no relation'}]"
      ]
     },
     "execution_count": 8,
     "metadata": {},
     "output_type": "execute_result"
    }
   ],
   "source": [
    "[r for r in data[i]['relations'] if r['relation_text'] == 'no relation'][-3:]"
   ]
  },
  {
   "cell_type": "code",
   "execution_count": 9,
   "metadata": {},
   "outputs": [],
   "source": [
    "# get exceptions not considered for relations\n",
    "# should include self-pairs \n",
    "\n",
    "seen_rels = set()\n",
    "\n",
    "for rel in data[i]['relations']:\n",
    "    seen_rels.add(((rel['head']['position'][0], rel['head']['position'][1]), (rel['tail']['position'][0], rel['tail']['position'][1])))\n",
    "\n",
    "exception = []\n",
    "for ent1 in data[i]['ner']:\n",
    "    for ent2 in data[i]['ner']:\n",
    "\n",
    "        if ((ent1[0], ent1[1]), (ent2[0], ent2[1])) not in seen_rels:\n",
    "            exception.append((ent1, ent2))"
   ]
  },
  {
   "cell_type": "code",
   "execution_count": 10,
   "metadata": {},
   "outputs": [
    {
     "data": {
      "text/plain": [
       "[([0, 3, 'DATE', '30 Jan 2024'], [0, 3, 'DATE', '30 Jan 2024']),\n",
       " ([4, 9, 'ORG', 'The Bangkok North Municipal Court'],\n",
       "  [4, 9, 'ORG', 'The Bangkok North Municipal Court']),\n",
       " ([16, 19, 'ORG', 'Move Forward Party'],\n",
       "  [16, 19, 'ORG', 'Move Forward Party']),\n",
       " ([20, 22, 'PERSON', 'Rukchanok Srinork'],\n",
       "  [20, 22, 'PERSON', 'Rukchanok Srinork'])]"
      ]
     },
     "execution_count": 10,
     "metadata": {},
     "output_type": "execute_result"
    }
   ],
   "source": [
    "exception[:4]"
   ]
  },
  {
   "cell_type": "code",
   "execution_count": 11,
   "metadata": {},
   "outputs": [
    {
     "data": {
      "text/plain": [
       "18"
      ]
     },
     "execution_count": 11,
     "metadata": {},
     "output_type": "execute_result"
    }
   ],
   "source": [
    "len(exception)"
   ]
  },
  {
   "cell_type": "code",
   "execution_count": 12,
   "metadata": {},
   "outputs": [
    {
     "name": "stdout",
     "output_type": "stream",
     "text": [
      "324 entity-entity pairs\n",
      "So should be 324 (entity pairs) - 18 (self-pairs) => 306\n"
     ]
    }
   ],
   "source": [
    "should_be_rels = (len(data[i]['ner']) * (len(data[i]['ner'])))\n",
    "print(f\"{should_be_rels} entity-entity pairs\")\n",
    "\n",
    "print(f\"So should be {should_be_rels} (entity pairs) - {len(exception)} (self-pairs) => {len(data[i]['relations'])}\")"
   ]
  },
  {
   "cell_type": "code",
   "execution_count": null,
   "metadata": {},
   "outputs": [],
   "source": []
  }
 ],
 "metadata": {
  "kernelspec": {
   "display_name": "glirel",
   "language": "python",
   "name": "python3"
  },
  "language_info": {
   "codemirror_mode": {
    "name": "ipython",
    "version": 3
   },
   "file_extension": ".py",
   "mimetype": "text/x-python",
   "name": "python",
   "nbconvert_exporter": "python",
   "pygments_lexer": "ipython3",
   "version": "3.10.14"
  }
 },
 "nbformat": 4,
 "nbformat_minor": 2
}
