{
 "cells": [
  {
   "cell_type": "markdown",
   "metadata": {},
   "source": [
    "## ZeroRel data inspection"
   ]
  },
  {
   "cell_type": "code",
   "execution_count": 61,
   "metadata": {},
   "outputs": [],
   "source": [
    "import json\n",
    "with open('data/zero_rel_all.jsonl', 'r') as f:\n",
    "    data = []\n",
    "    for i in range(5):\n",
    "        data.append(json.loads(next(f)))\n",
    "    # data = [json.loads(line) for line in f]"
   ]
  },
  {
   "cell_type": "code",
   "execution_count": 62,
   "metadata": {},
   "outputs": [],
   "source": [
    "i = 4"
   ]
  },
  {
   "cell_type": "code",
   "execution_count": 63,
   "metadata": {},
   "outputs": [
    {
     "data": {
      "text/plain": [
       "dict_keys(['ner', 'relations', 'tokenized_text'])"
      ]
     },
     "execution_count": 63,
     "metadata": {},
     "output_type": "execute_result"
    }
   ],
   "source": [
    "data[i].keys()"
   ]
  },
  {
   "cell_type": "code",
   "execution_count": 64,
   "metadata": {},
   "outputs": [
    {
     "data": {
      "text/plain": [
       "[[0, 1, 'CARDINAL', 'Two'],\n",
       " [1, 6, 'ORG', 'Temple University School of Medicine'],\n",
       " [11, 12, 'ORG', 'NIH'],\n",
       " [15, 16, 'GPE', 'Philadelphia'],\n",
       " [17, 18, 'GPE', 'PA']]"
      ]
     },
     "execution_count": 64,
     "metadata": {},
     "output_type": "execute_result"
    }
   ],
   "source": [
    "data[i]['ner'][:5]"
   ]
  },
  {
   "cell_type": "code",
   "execution_count": 65,
   "metadata": {},
   "outputs": [
    {
     "data": {
      "text/plain": [
       "24"
      ]
     },
     "execution_count": 65,
     "metadata": {},
     "output_type": "execute_result"
    }
   ],
   "source": [
    "len(data[i]['ner'])"
   ]
  },
  {
   "cell_type": "code",
   "execution_count": 66,
   "metadata": {},
   "outputs": [
    {
     "data": {
      "text/plain": [
       "'Two Temple University School of Medicine Faculty Members Selected for Prestigious NIH Posts \\n ( Philadelphia , PA ) – Joseph Cheung , MD , PhD , Senior Associate Dean for Research and Professor of Medicine at Temple University School of Medicine , and Xiao - Feng Yang , MD , PhD , Professor of Pharmacology , Professor at the Cardiovascular Research Center and Professor at the Sol Sherry Thrombosis Research Center at Temple University School of Medicine , have been selected for prestigious posts as members of National Institutes of Health ( NIH ) study sections . \\n Members of NIH study sections are seasoned experts in their scientific disciplines , and selected on the basis of their research accomplishments , publication records and scientific honors . Study section members review grant applications submitted to the NIH from investigators all over the country , make recommendations on the applications to national advisory councils and survey the status of research in their fields . \\n Dr. Cheung has been selected for the NIH Electrophysiology , Signal Transduction and Arrhythmias Study Section . Dr. Yang has been selected for the Atherosclerosis and Inflammation of the Cardiovascular Systems Study Section . Their selections are effective July 1 , 2013 , and carry terms of five to six years . \\n “ Membership on a study section represents a unique opportunity to contribute to the national biomedical research effort , ” said Richard Nakamura , PhD , Director of the NIH Center for Scientific Review . “ The functions are of great value to medical and allied research in this country . ”'"
      ]
     },
     "execution_count": 66,
     "metadata": {},
     "output_type": "execute_result"
    }
   ],
   "source": [
    "\" \".join(data[i]['tokenized_text'])"
   ]
  },
  {
   "cell_type": "code",
   "execution_count": 67,
   "metadata": {},
   "outputs": [
    {
     "data": {
      "text/plain": [
       "[{'head': {'mention': 'Xiao-Feng Yang',\n",
       "   'position': [44, 48],\n",
       "   'type': 'PERSON'},\n",
       "  'tail': {'mention': 'Joseph Cheung', 'position': [20, 22], 'type': 'PERSON'},\n",
       "  'relation_text': 'no_relation'},\n",
       " {'head': {'mention': 'Xiao-Feng Yang',\n",
       "   'position': [44, 48],\n",
       "   'type': 'PERSON'},\n",
       "  'tail': {'mention': 'Cheung', 'position': [166, 167], 'type': 'PERSON'},\n",
       "  'relation_text': 'no_relation'}]"
      ]
     },
     "execution_count": 67,
     "metadata": {},
     "output_type": "execute_result"
    }
   ],
   "source": [
    "[r for r in data[i]['relations'] if r['relation_text'] == 'no_relation'][-3:]"
   ]
  },
  {
   "cell_type": "code",
   "execution_count": 68,
   "metadata": {},
   "outputs": [],
   "source": [
    "# get exceptions not considered for relations\n",
    "# should include self-pairs \n",
    "\n",
    "seen_rels = set()\n",
    "\n",
    "for rel in data[i]['relations']:\n",
    "    seen_rels.add(((rel['head']['position'][0], rel['head']['position'][1]), (rel['tail']['position'][0], rel['tail']['position'][1])))\n",
    "\n",
    "exception = []\n",
    "for ent1 in data[i]['ner']:\n",
    "    for ent2 in data[i]['ner']:\n",
    "\n",
    "        if ((ent1[0], ent1[1]), (ent2[0], ent2[1])) not in seen_rels:\n",
    "            exception.append((ent1, ent2))"
   ]
  },
  {
   "cell_type": "code",
   "execution_count": 69,
   "metadata": {},
   "outputs": [
    {
     "data": {
      "text/plain": [
       "[([0, 1, 'CARDINAL', 'Two'], [0, 1, 'CARDINAL', 'Two']),\n",
       " ([1, 6, 'ORG', 'Temple University School of Medicine'],\n",
       "  [1, 6, 'ORG', 'Temple University School of Medicine']),\n",
       " ([11, 12, 'ORG', 'NIH'], [11, 12, 'ORG', 'NIH']),\n",
       " ([15, 16, 'GPE', 'Philadelphia'], [15, 16, 'GPE', 'Philadelphia'])]"
      ]
     },
     "execution_count": 69,
     "metadata": {},
     "output_type": "execute_result"
    }
   ],
   "source": [
    "exception[:4]"
   ]
  },
  {
   "cell_type": "code",
   "execution_count": 70,
   "metadata": {},
   "outputs": [
    {
     "data": {
      "text/plain": [
       "24"
      ]
     },
     "execution_count": 70,
     "metadata": {},
     "output_type": "execute_result"
    }
   ],
   "source": [
    "len(exception)"
   ]
  },
  {
   "cell_type": "code",
   "execution_count": 71,
   "metadata": {},
   "outputs": [
    {
     "name": "stdout",
     "output_type": "stream",
     "text": [
      "576 entity-entity pairs\n",
      "So should be 576 (entity pairs) - 24 (self-pairs) => 552\n"
     ]
    }
   ],
   "source": [
    "should_be_rels = (len(data[i]['ner']) * (len(data[i]['ner'])))\n",
    "print(f\"{should_be_rels} entity-entity pairs\")\n",
    "\n",
    "print(f\"So should be {should_be_rels} (entity pairs) - {len(exception)} (self-pairs) => {len(data[i]['relations'])}\")"
   ]
  },
  {
   "cell_type": "code",
   "execution_count": null,
   "metadata": {},
   "outputs": [],
   "source": []
  }
 ],
 "metadata": {
  "kernelspec": {
   "display_name": "glirel",
   "language": "python",
   "name": "python3"
  },
  "language_info": {
   "codemirror_mode": {
    "name": "ipython",
    "version": 3
   },
   "file_extension": ".py",
   "mimetype": "text/x-python",
   "name": "python",
   "nbconvert_exporter": "python",
   "pygments_lexer": "ipython3",
   "version": "3.10.14"
  }
 },
 "nbformat": 4,
 "nbformat_minor": 2
}
