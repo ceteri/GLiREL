{
 "cells": [
  {
   "cell_type": "markdown",
   "metadata": {},
   "source": [
    "## ZeroRel data inspection"
   ]
  },
  {
   "cell_type": "code",
   "execution_count": 1,
   "metadata": {},
   "outputs": [],
   "source": [
    "import json\n",
    "with open('data/zero_rel_all.jsonl', 'r') as f:\n",
    "    data = []\n",
    "    for i in range(5):\n",
    "        data.append(json.loads(next(f)))\n",
    "    # data = [json.loads(line) for line in f]"
   ]
  },
  {
   "cell_type": "code",
   "execution_count": 2,
   "metadata": {},
   "outputs": [],
   "source": [
    "i = 3"
   ]
  },
  {
   "cell_type": "code",
   "execution_count": 3,
   "metadata": {},
   "outputs": [
    {
     "data": {
      "text/plain": [
       "dict_keys(['ner', 'relations', 'tokenized_text'])"
      ]
     },
     "execution_count": 3,
     "metadata": {},
     "output_type": "execute_result"
    }
   ],
   "source": [
    "data[i].keys()"
   ]
  },
  {
   "cell_type": "code",
   "execution_count": 4,
   "metadata": {},
   "outputs": [
    {
     "data": {
      "text/plain": [
       "[[15, 17, 'FAC', 'Airport Road'],\n",
       " [18, 20, 'GPE', 'Brantley County'],\n",
       " [21, 22, 'GPE', 'GA'],\n",
       " [28, 30, 'FAC', 'Hwy 82'],\n",
       " [31, 32, 'GPE', 'Brunswick']]"
      ]
     },
     "execution_count": 4,
     "metadata": {},
     "output_type": "execute_result"
    }
   ],
   "source": [
    "data[i]['ner'][:5]"
   ]
  },
  {
   "cell_type": "code",
   "execution_count": 5,
   "metadata": {},
   "outputs": [
    {
     "data": {
      "text/plain": [
       "11"
      ]
     },
     "execution_count": 5,
     "metadata": {},
     "output_type": "execute_result"
    }
   ],
   "source": [
    "len(data[i]['ner'])"
   ]
  },
  {
   "cell_type": "code",
   "execution_count": 6,
   "metadata": {},
   "outputs": [
    {
     "data": {
      "text/plain": [
       "\"Looking for land in the country ? This mini - estate tract is located on Airport Road in Brantley County , GA . It 's conveniently located off Hwy 82 between Brunswick , GA , and Nahunta , GA . This tract has been recently clear - cut and would make a great home site . The clear - cut would be a great conversion to make a pasture or plant pines for more privacy . Plant a nice garden and enjoy the country lifestyle ! More property is available - contact Ryker Carter today at 912 - 294 - 0335 ! \\n Clicking on these links should show the files in a new browser window or tab . You will have to close that window or tab or click back on this page to return . Most browsers have the capability of viewing and printing these files . If your browser does n't allow you to view the files , or if you would like to save them to your harddrive , you can right click on them and save them with the resulting menu . \\n Disclaimer : All information is believed to be true and accurate however Carter Group Real Estate \\n does not take responsibility for errors or omissions . Price and specifications are subject to change without notice . The content of \\n this site is provided without representations or warranties .\""
      ]
     },
     "execution_count": 6,
     "metadata": {},
     "output_type": "execute_result"
    }
   ],
   "source": [
    "\" \".join(data[i]['tokenized_text'])"
   ]
  },
  {
   "cell_type": "code",
   "execution_count": 7,
   "metadata": {},
   "outputs": [
    {
     "data": {
      "text/plain": [
       "[{'head': {'mention': 'Airport Road', 'position': [15, 17], 'type': 'FAC'},\n",
       "  'tail': {'mention': 'Brantley County', 'position': [18, 20], 'type': 'GPE'},\n",
       "  'relation_text': 'located_in'},\n",
       " {'head': {'mention': 'Airport Road', 'position': [15, 17], 'type': 'FAC'},\n",
       "  'tail': {'mention': 'GA', 'position': [21, 22], 'type': 'GPE'},\n",
       "  'relation_text': 'location'},\n",
       " {'head': {'mention': 'Airport Road', 'position': [15, 17], 'type': 'FAC'},\n",
       "  'tail': {'mention': 'Brunswick', 'position': [31, 32], 'type': 'GPE'},\n",
       "  'relation_text': 'located_near'},\n",
       " {'head': {'mention': 'Airport Road', 'position': [15, 17], 'type': 'FAC'},\n",
       "  'tail': {'mention': 'GA', 'position': [33, 34], 'type': 'GPE'},\n",
       "  'relation_text': 'location'},\n",
       " {'head': {'mention': 'Airport Road', 'position': [15, 17], 'type': 'FAC'},\n",
       "  'tail': {'mention': 'Nahunta', 'position': [36, 37], 'type': 'GPE'},\n",
       "  'relation_text': 'located_near'}]"
      ]
     },
     "execution_count": 7,
     "metadata": {},
     "output_type": "execute_result"
    }
   ],
   "source": [
    "data[i]['relations'][:5]"
   ]
  },
  {
   "cell_type": "code",
   "execution_count": null,
   "metadata": {},
   "outputs": [],
   "source": [
    "# get exceptions not considered for relations\n",
    "# should include self-pairs and pairs of \"uninteresting\" entity types (specified at data generation time)\n",
    "\n",
    "seen_rels = set()\n",
    "\n",
    "for rel in data[i]['relations']:\n",
    "    seen_rels.add(((rel['head']['position'][0], rel['head']['position'][1]), (rel['tail']['position'][0], rel['tail']['position'][1])))\n",
    "\n",
    "exception = []\n",
    "for ent1 in data[i]['ner']:\n",
    "    for ent2 in data[i]['ner']:\n",
    "\n",
    "        if ((ent1[0], ent1[1]), (ent2[0], ent2[1])) not in seen_rels:\n",
    "            exception.append((ent1, ent2))"
   ]
  },
  {
   "cell_type": "code",
   "execution_count": 9,
   "metadata": {},
   "outputs": [
    {
     "data": {
      "text/plain": [
       "17"
      ]
     },
     "execution_count": 9,
     "metadata": {},
     "output_type": "execute_result"
    }
   ],
   "source": [
    "len(exception)"
   ]
  },
  {
   "cell_type": "code",
   "execution_count": 12,
   "metadata": {},
   "outputs": [
    {
     "name": "stdout",
     "output_type": "stream",
     "text": [
      "121 entity-entity pairs\n",
      "So should be 121 (entity pairs) - 17 (self-pairs + uninteresting ents) => 104\n"
     ]
    }
   ],
   "source": [
    "should_be_rels = (len(data[i]['ner']) * (len(data[i]['ner'])))\n",
    "print(f\"{should_be_rels} entity-entity pairs\")\n",
    "\n",
    "print(f\"So should be {should_be_rels} (entity pairs) - {len(exception)} (self-pairs + uninteresting ents) => {len(data[i]['relations'])}\")"
   ]
  },
  {
   "cell_type": "code",
   "execution_count": null,
   "metadata": {},
   "outputs": [],
   "source": []
  }
 ],
 "metadata": {
  "kernelspec": {
   "display_name": "glirel",
   "language": "python",
   "name": "python3"
  },
  "language_info": {
   "codemirror_mode": {
    "name": "ipython",
    "version": 3
   },
   "file_extension": ".py",
   "mimetype": "text/x-python",
   "name": "python",
   "nbconvert_exporter": "python",
   "pygments_lexer": "ipython3",
   "version": "3.10.14"
  }
 },
 "nbformat": 4,
 "nbformat_minor": 2
}
