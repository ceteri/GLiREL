{
 "cells": [
  {
   "cell_type": "markdown",
   "metadata": {},
   "source": [
    "## 🧐 ZeroRel data inspection"
   ]
  },
  {
   "cell_type": "code",
   "execution_count": 1,
   "metadata": {},
   "outputs": [],
   "source": [
    "import json\n",
    "with open('data/zero_rel_all.jsonl', 'r') as f:\n",
    "    # data = []\n",
    "    # for i in range(5):\n",
    "    #     data.append(json.loads(next(f)))\n",
    "    data = [json.loads(line) for line in f]"
   ]
  },
  {
   "cell_type": "code",
   "execution_count": 11,
   "metadata": {},
   "outputs": [
    {
     "name": "stdout",
     "output_type": "stream",
     "text": [
      "Number of unique labels: 327703\n"
     ]
    },
    {
     "data": {
      "text/plain": [
       "[('no relation', 294612),\n",
       " ('location of', 200588),\n",
       " ('member of', 104258),\n",
       " ('location', 77447),\n",
       " ('location in', 75358),\n",
       " ('author of', 65698),\n",
       " ('located in', 64409),\n",
       " ('created by', 63424),\n",
       " ('[{', 49686),\n",
       " ('produced by', 45733),\n",
       " ('reported by', 43428),\n",
       " ('hosted by', 42880),\n",
       " ('part of', 42318),\n",
       " ('self reference', 40707),\n",
       " ('supports', 38431),\n",
       " ('worked for', 37266),\n",
       " ('collaborator', 35232),\n",
       " ('publisher', 32530),\n",
       " ('mentioned in', 31527),\n",
       " ('same person', 31480),\n",
       " ('produces', 31099),\n",
       " ('supported by', 29970),\n",
       " ('written by', 29527),\n",
       " ('played for', 29064),\n",
       " ('subject of', 28427),\n",
       " ('child of', 26222),\n",
       " ('lives in', 26180),\n",
       " ('owned by', 26030),\n",
       " ('funding', 25543),\n",
       " ('published in', 25415),\n",
       " ('belongs to', 24444),\n",
       " ('designed by', 24360),\n",
       " ('born in', 23576),\n",
       " ('educated at', 23371),\n",
       " ('performs at', 23014),\n",
       " ('published by', 22488),\n",
       " ('head of', 22475),\n",
       " ('hosts', 21387),\n",
       " ('owner of', 20800),\n",
       " ('founder', 20390),\n",
       " ('featured in', 20362),\n",
       " ('sponsor', 19959),\n",
       " ('caused by', 19855),\n",
       " ('died in', 19741),\n",
       " ('location in location', 19735),\n",
       " ('owner', 19714),\n",
       " ('lived in', 19323),\n",
       " ('origin from', 19040),\n",
       " ('same organization', 18572),\n",
       " ('leads', 18252)]"
      ]
     },
     "execution_count": 11,
     "metadata": {},
     "output_type": "execute_result"
    }
   ],
   "source": [
    "# relation labels in ZeroRel\n",
    "\n",
    "relationship_counts = {}\n",
    "\n",
    "for item in data:\n",
    "    relations = item['relations']\n",
    "    for relation in relations:\n",
    "        relation_text = relation['relation_text']\n",
    "        if relation_text in relationship_counts:\n",
    "            relationship_counts[relation_text] += 1\n",
    "        else:\n",
    "            relationship_counts[relation_text] = 1\n",
    "\n",
    "sorted_relationship_counts = sorted(relationship_counts.items(), key=lambda x: x[1], reverse=True)\n",
    "\n",
    "print(f\"Number of unique labels: {len(sorted_relationship_counts)}\")\n",
    "sorted_relationship_counts[:50]"
   ]
  },
  {
   "cell_type": "code",
   "execution_count": 12,
   "metadata": {},
   "outputs": [],
   "source": [
    "i = 4"
   ]
  },
  {
   "cell_type": "code",
   "execution_count": 13,
   "metadata": {},
   "outputs": [
    {
     "data": {
      "text/plain": [
       "dict_keys(['ner', 'relations', 'tokenized_text'])"
      ]
     },
     "execution_count": 13,
     "metadata": {},
     "output_type": "execute_result"
    }
   ],
   "source": [
    "data[i].keys()"
   ]
  },
  {
   "cell_type": "code",
   "execution_count": 14,
   "metadata": {},
   "outputs": [
    {
     "data": {
      "text/plain": [
       "[[27, 31, 'DATE', 'a few months ago'],\n",
       " [138, 140, 'PERSON', 'Chicken Man'],\n",
       " [143, 144, 'ORDINAL', 'first']]"
      ]
     },
     "execution_count": 14,
     "metadata": {},
     "output_type": "execute_result"
    }
   ],
   "source": [
    "data[i]['ner'][:5]"
   ]
  },
  {
   "cell_type": "code",
   "execution_count": 15,
   "metadata": {},
   "outputs": [
    {
     "data": {
      "text/plain": [
       "3"
      ]
     },
     "execution_count": 15,
     "metadata": {},
     "output_type": "execute_result"
    }
   ],
   "source": [
    "len(data[i]['ner'])"
   ]
  },
  {
   "cell_type": "code",
   "execution_count": 16,
   "metadata": {},
   "outputs": [
    {
     "data": {
      "text/plain": [
       "'There ’s nothing sadder than a neglected animal . And believe it or not , it really hits them hard . This neglected parrot found himself abandoned a few months ago . \\n He had passed through several foster families and they all returned him because he had some serious aggression issues . \\n Over time , this adorable looking creature became so stressed and overwhelmed that he started to pluck out his feathers . \\n Undeterred by his brutish behavior and slightly harrowing exterior , a kind - hearted woman decided to take him in . And surprisingly , his new mom managed to bond with him ! \\n The little bird , which she lovingly named Chicken Man , has found a forever home with her and the pair could n’t be happier . \\n Though Chicken Man was anxious at first , he started to warm to his new home and bonded with the family . Not only that , but his feathers started to grow back too ! \\n Do n’t forget to watch this heartwarming friendship blossom between a parrot and its human in the video below . Also , we love hearing all of your opinions . So please let us know what you thought of the article in the comment section .'"
      ]
     },
     "execution_count": 16,
     "metadata": {},
     "output_type": "execute_result"
    }
   ],
   "source": [
    "\" \".join(data[i]['tokenized_text'])"
   ]
  },
  {
   "cell_type": "code",
   "execution_count": 22,
   "metadata": {},
   "outputs": [
    {
     "data": {
      "text/plain": [
       "[]"
      ]
     },
     "execution_count": 22,
     "metadata": {},
     "output_type": "execute_result"
    }
   ],
   "source": [
    "[r for r in data[i]['relations'] if r['relation_text'] == 'no relation'][-3:]"
   ]
  },
  {
   "cell_type": "code",
   "execution_count": 23,
   "metadata": {},
   "outputs": [],
   "source": [
    "# get exceptions not considered for relations\n",
    "# should include self-pairs \n",
    "\n",
    "seen_rels = set()\n",
    "\n",
    "for rel in data[i]['relations']:\n",
    "    seen_rels.add(((rel['head']['position'][0], rel['head']['position'][1]), (rel['tail']['position'][0], rel['tail']['position'][1])))\n",
    "\n",
    "exception = []\n",
    "for ent1 in data[i]['ner']:\n",
    "    for ent2 in data[i]['ner']:\n",
    "\n",
    "        if ((ent1[0], ent1[1]), (ent2[0], ent2[1])) not in seen_rels:\n",
    "            exception.append((ent1, ent2))"
   ]
  },
  {
   "cell_type": "code",
   "execution_count": 24,
   "metadata": {},
   "outputs": [
    {
     "data": {
      "text/plain": [
       "[([27, 31, 'DATE', 'a few months ago'], [27, 31, 'DATE', 'a few months ago']),\n",
       " ([138, 140, 'PERSON', 'Chicken Man'], [138, 140, 'PERSON', 'Chicken Man']),\n",
       " ([143, 144, 'ORDINAL', 'first'], [143, 144, 'ORDINAL', 'first'])]"
      ]
     },
     "execution_count": 24,
     "metadata": {},
     "output_type": "execute_result"
    }
   ],
   "source": [
    "exception[:4]"
   ]
  },
  {
   "cell_type": "code",
   "execution_count": 25,
   "metadata": {},
   "outputs": [
    {
     "data": {
      "text/plain": [
       "3"
      ]
     },
     "execution_count": 25,
     "metadata": {},
     "output_type": "execute_result"
    }
   ],
   "source": [
    "len(exception)"
   ]
  },
  {
   "cell_type": "code",
   "execution_count": 26,
   "metadata": {},
   "outputs": [
    {
     "name": "stdout",
     "output_type": "stream",
     "text": [
      "9 entity-entity pairs\n",
      "So should be 9 (entity pairs) - 3 (self-pairs) => 6\n"
     ]
    }
   ],
   "source": [
    "should_be_rels = (len(data[i]['ner']) * (len(data[i]['ner'])))\n",
    "print(f\"{should_be_rels} entity-entity pairs\")\n",
    "\n",
    "print(f\"So should be {should_be_rels} (entity pairs) - {len(exception)} (self-pairs) => {len(data[i]['relations'])}\")"
   ]
  },
  {
   "cell_type": "code",
   "execution_count": null,
   "metadata": {},
   "outputs": [],
   "source": []
  }
 ],
 "metadata": {
  "kernelspec": {
   "display_name": "glirel",
   "language": "python",
   "name": "python3"
  },
  "language_info": {
   "codemirror_mode": {
    "name": "ipython",
    "version": 3
   },
   "file_extension": ".py",
   "mimetype": "text/x-python",
   "name": "python",
   "nbconvert_exporter": "python",
   "pygments_lexer": "ipython3",
   "version": "3.10.14"
  }
 },
 "nbformat": 4,
 "nbformat_minor": 2
}
