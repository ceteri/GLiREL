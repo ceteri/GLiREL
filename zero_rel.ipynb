{
 "cells": [
  {
   "cell_type": "code",
   "execution_count": 1,
   "metadata": {},
   "outputs": [],
   "source": [
    "import json\n",
    "with open('data/zero_rel_all.jsonl', 'r') as f:\n",
    "    data = json.loads(next(f))\n",
    "    # data = [json.loads(line) for line in f]"
   ]
  },
  {
   "cell_type": "code",
   "execution_count": 4,
   "metadata": {},
   "outputs": [
    {
     "data": {
      "text/plain": [
       "dict_keys(['ner', 'relations', 'tokenized_text'])"
      ]
     },
     "execution_count": 4,
     "metadata": {},
     "output_type": "execute_result"
    }
   ],
   "source": [
    "data.keys()"
   ]
  },
  {
   "cell_type": "code",
   "execution_count": 16,
   "metadata": {},
   "outputs": [
    {
     "data": {
      "text/plain": [
       "'SEOUL - South Korean and U.S. forces began their largest - ever live - fire exercises on Thursday , simulating a \" full - scale attack \" from North Korea , South Korea \\'s defence ministry said . \\n Some 2,500 troops from the South and the United States participated as the five - day drills kicked off in Pocheon near the border with the North , the ministry said . Multiple tanks , howitzers and fighter jets were also involved , it added . \\n \" The exercise demonstrated our military \\'s capability and readiness to strongly respond to North Korea \\'s nuclear and missile threats and to a full - scale attack , \" the ministry said in a news release . \\n Last week , North Korea \\'s state media reported that leader Kim Jong Un had approved final preparations for the launch of the North \\'s first military spy satellite . Analysts say the satellite will advancing the country \\'s surveillance capability enabling it to strike targets more accurately in the event of a conflict . \\n U.S. and South Korean forces have been carrying out various types of military training , including air and sea drills involving American B-1B bombers in recent months after diplomatic efforts and COVID-19 restrictions led to many drills being scaled back . \\n North Korea has reacted furiously to those drills , and Kim has said the planned launch of its first spy satellite was necessary to counter perceived threats from the U.S. and South Korea . \\n ( Reporting by Soo - hyang Choi in Seoul and Daewoung Kim in Pocheon ; Editing by Simon Cameron - Moore )'"
      ]
     },
     "execution_count": 16,
     "metadata": {},
     "output_type": "execute_result"
    }
   ],
   "source": [
    "\" \".join(data['tokenized_text'])"
   ]
  },
  {
   "cell_type": "code",
   "execution_count": 14,
   "metadata": {},
   "outputs": [
    {
     "data": {
      "text/plain": [
       "[{'head': {'mention': 'SEOUL', 'position': ['0', '1'], 'type': 'GPE'},\n",
       "  'tail': {'mention': 'South Korean', 'position': ['2', '4'], 'type': 'NORP'},\n",
       "  'relation_text': 'location_of'},\n",
       " {'head': {'mention': 'SEOUL', 'position': ['0', '1'], 'type': 'GPE'},\n",
       "  'tail': {'mention': 'U.S.', 'position': ['5', '6'], 'type': 'GPE'},\n",
       "  'relation_text': 'exercises_with'},\n",
       " {'head': {'mention': 'SEOUL', 'position': ['0', '1'], 'type': 'GPE'},\n",
       "  'tail': {'mention': 'Thursday', 'position': ['17', '18'], 'type': 'DATE'},\n",
       "  'relation_text': 'exercise_started_on'},\n",
       " {'head': {'mention': 'SEOUL', 'position': ['0', '1'], 'type': 'GPE'},\n",
       "  'tail': {'mention': 'North Korea', 'position': ['28', '30'], 'type': 'GPE'},\n",
       "  'relation_text': 'near_location'},\n",
       " {'head': {'mention': 'SEOUL', 'position': ['0', '1'], 'type': 'GPE'},\n",
       "  'tail': {'mention': \"South Korea's\",\n",
       "   'position': ['31', '34'],\n",
       "   'type': 'GPE'},\n",
       "  'relation_text': 'location_of'},\n",
       " {'head': {'mention': 'SEOUL', 'position': ['0', '1'], 'type': 'GPE'},\n",
       "  'tail': {'mention': 'Some 2,500',\n",
       "   'position': ['39', '41'],\n",
       "   'type': 'CARDINAL'},\n",
       "  'relation_text': 'exercises_with_num_participants'},\n",
       " {'head': {'mention': 'SEOUL', 'position': ['0', '1'], 'type': 'GPE'},\n",
       "  'tail': {'mention': 'South', 'position': ['44', '45'], 'type': 'LOC'},\n",
       "  'relation_text': 'location_of'},\n",
       " {'head': {'mention': 'SEOUL', 'position': ['0', '1'], 'type': 'GPE'},\n",
       "  'tail': {'mention': 'the United States',\n",
       "   'position': ['46', '49'],\n",
       "   'type': 'GPE'},\n",
       "  'relation_text': 'exercises_with'},\n",
       " {'head': {'mention': 'SEOUL', 'position': ['0', '1'], 'type': 'GPE'},\n",
       "  'tail': {'mention': 'five-day', 'position': ['52', '55'], 'type': 'DATE'},\n",
       "  'relation_text': 'exercise_started_on'},\n",
       " {'head': {'mention': 'SEOUL', 'position': ['0', '1'], 'type': 'GPE'},\n",
       "  'tail': {'mention': 'Pocheon', 'position': ['59', '60'], 'type': 'GPE'},\n",
       "  'relation_text': 'exercise_location'}]"
      ]
     },
     "execution_count": 14,
     "metadata": {},
     "output_type": "execute_result"
    }
   ],
   "source": [
    "data['relations'][:10]"
   ]
  },
  {
   "cell_type": "code",
   "execution_count": null,
   "metadata": {},
   "outputs": [],
   "source": []
  }
 ],
 "metadata": {
  "kernelspec": {
   "display_name": "glirel",
   "language": "python",
   "name": "python3"
  },
  "language_info": {
   "codemirror_mode": {
    "name": "ipython",
    "version": 3
   },
   "file_extension": ".py",
   "mimetype": "text/x-python",
   "name": "python",
   "nbconvert_exporter": "python",
   "pygments_lexer": "ipython3",
   "version": "3.10.14"
  }
 },
 "nbformat": 4,
 "nbformat_minor": 2
}
