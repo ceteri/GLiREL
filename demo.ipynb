{
 "cells": [
  {
   "cell_type": "markdown",
   "metadata": {},
   "source": [
    "# 🚞 Zero-shot RE Training"
   ]
  },
  {
   "cell_type": "code",
   "execution_count": 16,
   "metadata": {},
   "outputs": [
    {
     "name": "stdout",
     "output_type": "stream",
     "text": [
      "The autoreload extension is already loaded. To reload it, use:\n",
      "  %reload_ext autoreload\n"
     ]
    }
   ],
   "source": [
    "%load_ext autoreload\n",
    "%autoreload 2"
   ]
  },
  {
   "cell_type": "code",
   "execution_count": 17,
   "metadata": {},
   "outputs": [],
   "source": [
    "# # if you're running this in a colab notebook, you can run this cell to install the necessary dependencies\n",
    "# pip install glirel\n",
    "# !python -m spacy download en_core_web_sm"
   ]
  },
  {
   "cell_type": "code",
   "execution_count": 18,
   "metadata": {},
   "outputs": [],
   "source": [
    "from glirel import GLiREL\n",
    "\n",
    "# save_path = 'logs/zero_rel/zero_rel-2024-06-07__20-37-25/model_42000'\n",
    "model = GLiREL.from_pretrained('jackboyla/glirel_beta')"
   ]
  },
  {
   "cell_type": "markdown",
   "metadata": {},
   "source": [
    "# Inference\n",
    "\n",
    "To infer, the model needs `tokens`, `NER`, and `zero shot labels`."
   ]
  },
  {
   "cell_type": "markdown",
   "metadata": {},
   "source": [
    "### Eval data"
   ]
  },
  {
   "cell_type": "code",
   "execution_count": 19,
   "metadata": {},
   "outputs": [
    {
     "name": "stdout",
     "output_type": "stream",
     "text": [
      "['Derren', 'Nesbitt', 'had', 'a', 'history', 'of', 'being', 'cast', 'in', '\"', 'Doctor', 'Who', '\"', ',', 'having', 'played', 'villainous', 'warlord', 'Tegana', 'in', 'the', '1964', 'First', 'Doctor', 'serial', '\"', 'Marco', 'Polo', '\"', '.']\n",
      "\n",
      "[[26, 28, 'Q2989881', 'Marco Polo'], [22, 24, 'Q2989412', 'First Doctor']]\n",
      "['characters']\n"
     ]
    }
   ],
   "source": [
    "import json\n",
    "with open('./data/few_rel_all.jsonl', 'r') as f:\n",
    "    data = [json.loads(line) for line in f]\n",
    "\n",
    "i = 0\n",
    "\n",
    "tokens = data[i]['tokenized_text']\n",
    "ner = data[i]['ner']\n",
    "labels = list(set([r['relation_text'] for r in data[i]['relations']]))\n",
    "print(tokens)\n",
    "print()\n",
    "print(ner)\n",
    "print(labels)"
   ]
  },
  {
   "cell_type": "code",
   "execution_count": 20,
   "metadata": {},
   "outputs": [
    {
     "name": "stdout",
     "output_type": "stream",
     "text": [
      "['country of origin', 'licensed to broadcast to', 'father', 'followed by', 'characters']\n"
     ]
    }
   ],
   "source": [
    "labels = ['country of origin', 'licensed to broadcast to', 'father', 'followed by'] + labels\n",
    "print(labels)"
   ]
  },
  {
   "cell_type": "code",
   "execution_count": 21,
   "metadata": {},
   "outputs": [
    {
     "name": "stdout",
     "output_type": "stream",
     "text": [
      "Number of relations: 1\n",
      "\n",
      "Descending Order by Score:\n",
      "{'head_pos': [26, 29], 'tail_pos': [22, 25], 'head_text': ['Marco', 'Polo', '\"'], 'tail_text': ['First', 'Doctor', 'serial'], 'label': 'characters', 'score': 0.9807606935501099}\n"
     ]
    }
   ],
   "source": [
    "relations = model.predict_relations(tokens, labels, threshold=0.01, ner=ner)\n",
    "\n",
    "print('Number of relations:', len(relations))  # num entity pairs (both directions) * num classes.... provided they're over the threshold\n",
    "\n",
    "sorted_data_desc = sorted(relations, key=lambda x: x['score'], reverse=True)\n",
    "print(\"\\nDescending Order by Score:\")\n",
    "for item in sorted_data_desc:\n",
    "    print(item)"
   ]
  },
  {
   "cell_type": "markdown",
   "metadata": {},
   "source": [
    "### Real-world example\n",
    "\n",
    "Constrain the entity types that can associated with a relationship.\n",
    "e.g:\n",
    "\n",
    "`co-founder` can only have a head `PERSON` entity and a tail `ORG` entity."
   ]
  },
  {
   "cell_type": "code",
   "execution_count": 30,
   "metadata": {},
   "outputs": [
    {
     "name": "stdout",
     "output_type": "stream",
     "text": [
      "Text: Apple Inc. was founded by Steve Jobs, Steve Wozniak, and Ronald Wayne in April 1976. The company is headquartered in Cupertino, California.\n",
      "Entities detected: [[0, 1, 'ORG', 'Apple Inc.'], [5, 6, 'PERSON', 'Steve Jobs'], [8, 9, 'PERSON', 'Steve Wozniak'], [12, 13, 'PERSON', 'Ronald Wayne'], [15, 16, 'DATE', 'April 1976'], [23, 23, 'GPE', 'Cupertino'], [25, 25, 'GPE', 'California']]\n",
      "Constraining relations by entity type\n",
      "Number of relations: 5\n",
      "\n",
      "Descending Order by Score:\n",
      "['Apple', 'Inc.'] --> headquartered in --> ['California'] | score: 0.9854260683059692\n",
      "['Apple', 'Inc.'] --> headquartered in --> ['Cupertino'] | score: 0.9569842219352722\n",
      "['Steve', 'Wozniak'] --> co-founder --> ['Apple', 'Inc.'] | score: 0.09025531262159348\n",
      "['Steve', 'Jobs'] --> co-founder --> ['Apple', 'Inc.'] | score: 0.08805838227272034\n",
      "['Ronald', 'Wayne'] --> co-founder --> ['Apple', 'Inc.'] | score: 0.0799667164683342\n"
     ]
    }
   ],
   "source": [
    "# Real-world example\n",
    "import spacy\n",
    "from glirel.modules.utils import constrain_relations_by_entity_type\n",
    "\n",
    "nlp = spacy.load('en_core_web_sm')\n",
    "\n",
    "\n",
    "text = \"Apple Inc. was founded by Steve Jobs, Steve Wozniak, and Ronald Wayne in April 1976. The company is headquartered in Cupertino, California.\"\n",
    "\n",
    "# text = \"Jack Dorsey's father, Tim Dorsey, is a licensed pilot. Jack met his wife Sarah Paulson in New York in 2003. They have one son, Edward.\"\n",
    "\n",
    "labels = {\"glirel_labels\": {\n",
    "    'co-founder': {\"allowed_head\": [\"PERSON\"], \"allowed_tail\": [\"ORG\"]}, \n",
    "    'country of origin': {\"allowed_head\": [\"PERSON\", \"ORG\"], \"allowed_tail\": [\"LOC\", \"GPE\"]}, \n",
    "    'licensed to broadcast to': {\"allowed_head\": [\"ORG\"]},  \n",
    "    'no relation': {},  \n",
    "    'parent': {\"allowed_head\": [\"PERSON\"], \"allowed_tail\": [\"PERSON\"]}, \n",
    "    'followed by': {\"allowed_head\": [\"PERSON\", \"ORG\"], \"allowed_tail\": [\"PERSON\", \"ORG\"]},  \n",
    "    'located in or next to body of water': {\"allowed_head\": [\"LOC\", \"GPE\", \"FAC\"], \"allowed_tail\": [\"LOC\", \"GPE\"]},  \n",
    "    'spouse': {\"allowed_head\": [\"PERSON\"], \"allowed_tail\": [\"PERSON\"]},  \n",
    "    'child': {\"allowed_head\": [\"PERSON\"], \"allowed_tail\": [\"PERSON\"]},  \n",
    "    'founder': {\"allowed_head\": [\"PERSON\"], \"allowed_tail\": [\"ORG\"]},  \n",
    "    'founded on date': {\"allowed_head\": [\"ORG\"], \"allowed_tail\": [\"DATE\"]},\n",
    "    'headquartered in': {\"allowed_head\": [\"ORG\"], \"allowed_tail\": [\"LOC\", \"GPE\", \"FAC\"]},  \n",
    "    'acquired by': {\"allowed_head\": [\"ORG\"], \"allowed_tail\": [\"ORG\", \"PERSON\"]},  \n",
    "    'subsidiary of': {\"allowed_head\": [\"ORG\"], \"allowed_tail\": [\"ORG\", \"PERSON\"]}, \n",
    "    }\n",
    "}\n",
    "\n",
    "\n",
    "def predict_and_show(text, labels):\n",
    "    doc = nlp(text)\n",
    "    print(f\"Text: {text}\")\n",
    "\n",
    "    tokens = [token.text for token in doc]\n",
    "\n",
    "    # NOTE: the end index should be inclusive\n",
    "    ner = [[ent.start, (ent.end - 1), ent.label_, ent.text] for ent in doc.ents]\n",
    "    print(f\"Entities detected: {ner}\")\n",
    "\n",
    "    labels_and_constraints = None\n",
    "    if isinstance(labels, dict):\n",
    "        labels = labels[\"glirel_labels\"]\n",
    "        labels_and_constraints = labels\n",
    "        labels = list(labels.keys())\n",
    "\n",
    "    relations = model.predict_relations(tokens, labels, threshold=0.0, ner=ner, top_k=1)\n",
    "\n",
    "    if isinstance(labels_and_constraints, dict):\n",
    "        print('Constraining relations by entity type')\n",
    "        relations = constrain_relations_by_entity_type(doc.ents, labels_and_constraints, relations)\n",
    "\n",
    "    print('Number of relations:', len(relations))\n",
    "\n",
    "    sorted_data_desc = sorted(relations, key=lambda x: x['score'], reverse=True)\n",
    "    print(\"\\nDescending Order by Score:\")\n",
    "    for item in sorted_data_desc:\n",
    "        print(f\"{item['head_text']} --> {item['label']} --> {item['tail_text']} | score: {item['score']}\")\n",
    "\n",
    "predict_and_show(text, labels)"
   ]
  },
  {
   "cell_type": "markdown",
   "metadata": {},
   "source": [
    "A simple list of relation types can also be passed, although this generally results in noisier results."
   ]
  },
  {
   "cell_type": "code",
   "execution_count": 31,
   "metadata": {},
   "outputs": [
    {
     "name": "stdout",
     "output_type": "stream",
     "text": [
      "Text: Jack knows Gill. They live in the same house in London. They are not related.\n",
      "Entities detected: [[0, 0, 'PERSON', 'Jack'], [2, 2, 'PERSON', 'Gill'], [11, 11, 'GPE', 'London']]\n",
      "Number of relations: 6\n",
      "\n",
      "Descending Order by Score:\n",
      "['Gill'] --> lives in --> ['London'] | score: 0.9827661514282227\n",
      "['Jack'] --> lives in --> ['London'] | score: 0.9812079668045044\n",
      "['Jack'] --> lives with --> ['Gill'] | score: 0.2834802567958832\n",
      "['Gill'] --> lives with --> ['Jack'] | score: 0.2016850709915161\n",
      "['London'] --> lives with --> ['Gill'] | score: 0.005766733083873987\n",
      "['London'] --> lives with --> ['Jack'] | score: 0.005634463392198086\n"
     ]
    }
   ],
   "source": [
    "text = \"Jack knows Gill. They live in the same house in London. They are not related.\"\n",
    "labels = ['family relation', 'knows', 'lives with', 'loves', 'licensed to broadcast to', 'father', 'followed by', 'no relation', 'lives in',]\n",
    "predict_and_show(text, labels)"
   ]
  },
  {
   "cell_type": "code",
   "execution_count": 32,
   "metadata": {},
   "outputs": [],
   "source": [
    "# model.save_pretrained(\n",
    "#     './release_model/glirel_beta', \n",
    "#     push_to_hub=True, \n",
    "#     repo_id='jackboyla/glirel_beta'\n",
    "# )"
   ]
  },
  {
   "cell_type": "code",
   "execution_count": null,
   "metadata": {},
   "outputs": [],
   "source": []
  }
 ],
 "metadata": {
  "kernelspec": {
   "display_name": "gliner_dev",
   "language": "python",
   "name": "python3"
  },
  "language_info": {
   "codemirror_mode": {
    "name": "ipython",
    "version": 3
   },
   "file_extension": ".py",
   "mimetype": "text/x-python",
   "name": "python",
   "nbconvert_exporter": "python",
   "pygments_lexer": "ipython3",
   "version": "3.10.14"
  }
 },
 "nbformat": 4,
 "nbformat_minor": 2
}
