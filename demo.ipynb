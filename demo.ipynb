{
 "cells": [
  {
   "cell_type": "markdown",
   "metadata": {},
   "source": [
    "# 🚞 Zero-shot RE Training"
   ]
  },
  {
   "cell_type": "code",
   "execution_count": 1,
   "metadata": {},
   "outputs": [],
   "source": [
    "%load_ext autoreload\n",
    "%autoreload 2"
   ]
  },
  {
   "cell_type": "code",
   "execution_count": 2,
   "metadata": {},
   "outputs": [],
   "source": [
    "# # if you're running this in a colab notebook, you can run this cell to install the necessary dependencies\n",
    "# !git clone https://github.com/jackboyla/GLiREL.git\n",
    "# !cd GLiREL && pip install -e .\n",
    "# !python -m spacy download en_core_web_sm"
   ]
  },
  {
   "cell_type": "code",
   "execution_count": 3,
   "metadata": {},
   "outputs": [
    {
     "name": "stderr",
     "output_type": "stream",
     "text": [
      "config.json not found in /home/jackboylan/GLiREL/logs/few_rel/few_rel-2024-05-31__08-29-45/model_9000\n",
      "2024-06-01 01:04:23,368 - huggingface_hub.hub_mixin - WARNING - config.json not found in /home/jackboylan/GLiREL/logs/few_rel/few_rel-2024-05-31__08-29-45/model_9000\n",
      "/opt/conda/envs/glirel/lib/python3.10/site-packages/transformers/convert_slow_tokenizer.py:560: UserWarning: The sentencepiece tokenizer that you are converting to a fast tokenizer uses the byte fallback option which is not implemented in the fast tokenizers. In practice this means that the fast version of the tokenizer can produce unknown tokens whereas the sentencepiece version would have converted these unknown tokens into a sequence of byte tokens matching the original piece of text.\n",
      "  warnings.warn(\n",
      "/opt/conda/envs/glirel/lib/python3.10/site-packages/huggingface_hub/file_download.py:1132: FutureWarning: `resume_download` is deprecated and will be removed in version 1.0.0. Downloads always resume when possible. If you want to force a new download, use `force_download=True`.\n",
      "  warnings.warn(\n"
     ]
    }
   ],
   "source": [
    "from glirel import GLiREL\n",
    "\n",
    "save_path = 'logs/few_rel/few_rel-2024-05-31__08-29-45/model_9000'\n",
    "model = GLiREL.from_pretrained(save_path, map_location='cpu')\n",
    "# model"
   ]
  },
  {
   "cell_type": "markdown",
   "metadata": {},
   "source": [
    "# Inference\n",
    "\n",
    "To infer, the model needs `tokens`, `NER`, and `zero shot labels`."
   ]
  },
  {
   "cell_type": "markdown",
   "metadata": {},
   "source": [
    "### Eval data"
   ]
  },
  {
   "cell_type": "code",
   "execution_count": 5,
   "metadata": {},
   "outputs": [
    {
     "name": "stdout",
     "output_type": "stream",
     "text": [
      "['Derren', 'Nesbitt', 'had', 'a', 'history', 'of', 'being', 'cast', 'in', '\"', 'Doctor', 'Who', '\"', ',', 'having', 'played', 'villainous', 'warlord', 'Tegana', 'in', 'the', '1964', 'First', 'Doctor', 'serial', '\"', 'Marco', 'Polo', '\"', '.']\n",
      "\n",
      "[[26, 28, 'Q2989881', 'Marco Polo'], [22, 24, 'Q2989412', 'First Doctor']]\n",
      "['characters']\n"
     ]
    }
   ],
   "source": [
    "import json\n",
    "with open('./data/few_rel_all.jsonl', 'r') as f:\n",
    "    data = [json.loads(line) for line in f]\n",
    "\n",
    "i = 0\n",
    "\n",
    "tokens = data[i]['tokenized_text']\n",
    "ner = data[i]['ner']\n",
    "labels = list(set([r['relation_text'] for r in data[i]['relations']]))\n",
    "print(tokens)\n",
    "print()\n",
    "print(ner)\n",
    "print(labels)"
   ]
  },
  {
   "cell_type": "code",
   "execution_count": 6,
   "metadata": {},
   "outputs": [
    {
     "name": "stdout",
     "output_type": "stream",
     "text": [
      "['country of origin', 'licensed to broadcast to', 'father', 'followed by', 'characters']\n"
     ]
    }
   ],
   "source": [
    "labels = ['country of origin', 'licensed to broadcast to', 'father', 'followed by'] + labels\n",
    "print(labels)"
   ]
  },
  {
   "cell_type": "code",
   "execution_count": 7,
   "metadata": {},
   "outputs": [
    {
     "name": "stdout",
     "output_type": "stream",
     "text": [
      "Number of relations: 1\n",
      "\n",
      "Descending Order by Score:\n",
      "{'head_pos': [26, 28], 'tail_pos': [22, 24], 'head_text': ['Marco', 'Polo'], 'tail_text': ['First', 'Doctor'], 'label': 'characters', 'score': 0.9807606935501099}\n"
     ]
    }
   ],
   "source": [
    "relations = model.predict_relations(tokens, labels, threshold=0.01, ner=ner)\n",
    "\n",
    "print('Number of relations:', len(relations))  # num entity pairs (both directions) * num classes.... provided they're over the threshold\n",
    "\n",
    "sorted_data_desc = sorted(relations, key=lambda x: x['score'], reverse=True)\n",
    "print(\"\\nDescending Order by Score:\")\n",
    "for item in sorted_data_desc:\n",
    "    print(item)"
   ]
  },
  {
   "cell_type": "markdown",
   "metadata": {},
   "source": [
    "### Real-world example"
   ]
  },
  {
   "cell_type": "code",
   "execution_count": 8,
   "metadata": {},
   "outputs": [
    {
     "name": "stdout",
     "output_type": "stream",
     "text": [
      "Entities detected: [[0, 2, 'ORG', 'Apple Inc.'], [5, 7, 'PERSON', 'Steve Jobs'], [8, 10, 'PERSON', 'Steve Wozniak'], [12, 14, 'PERSON', 'Ronald Wayne'], [15, 17, 'DATE', 'April 1976'], [23, 24, 'GPE', 'Cupertino'], [25, 26, 'GPE', 'California']]\n",
      "Number of relations: 80\n",
      "\n",
      "Descending Order by Score:\n",
      "['Steve', 'Wozniak'] --> headquartered in --> ['California'] | score: 0.9892545938491821\n",
      "['Steve', 'Jobs'] --> headquartered in --> ['California'] | score: 0.9890961050987244\n",
      "['Ronald', 'Wayne'] --> headquartered in --> ['California'] | score: 0.9890897870063782\n",
      "['Apple', 'Inc.'] --> headquartered in --> ['California'] | score: 0.9884379506111145\n",
      "['April', '1976'] --> headquartered in --> ['California'] | score: 0.9883624911308289\n",
      "['Steve', 'Wozniak'] --> headquartered in --> ['Cupertino'] | score: 0.9531661868095398\n",
      "['Steve', 'Jobs'] --> headquartered in --> ['Cupertino'] | score: 0.9524778723716736\n",
      "['Ronald', 'Wayne'] --> headquartered in --> ['Cupertino'] | score: 0.9524572491645813\n",
      "['April', '1976'] --> headquartered in --> ['Cupertino'] | score: 0.9465289115905762\n",
      "['Apple', 'Inc.'] --> headquartered in --> ['Cupertino'] | score: 0.9451561570167542\n",
      "['Apple', 'Inc.'] --> co-founder --> ['Steve', 'Wozniak'] | score: 0.9118792414665222\n",
      "['Apple', 'Inc.'] --> co-founder --> ['Steve', 'Jobs'] | score: 0.9090766906738281\n",
      "['Apple', 'Inc.'] --> co-founder --> ['Ronald', 'Wayne'] | score: 0.9085575342178345\n",
      "['April', '1976'] --> co-founder --> ['Steve', 'Wozniak'] | score: 0.903599739074707\n",
      "['April', '1976'] --> co-founder --> ['Steve', 'Jobs'] | score: 0.9006480574607849\n",
      "['April', '1976'] --> co-founder --> ['Ronald', 'Wayne'] | score: 0.9000646471977234\n",
      "['Cupertino'] --> headquartered in --> ['California'] | score: 0.8512040972709656\n",
      "['Apple', 'Inc.'] --> co-founder --> ['April', '1976'] | score: 0.6938782930374146\n",
      "['Ronald', 'Wayne'] --> co-founder --> ['Steve', 'Wozniak'] | score: 0.6088582873344421\n",
      "['Ronald', 'Wayne'] --> co-founder --> ['Steve', 'Jobs'] | score: 0.6071626543998718\n",
      "['Steve', 'Wozniak'] --> co-founder --> ['Steve', 'Jobs'] | score: 0.5940830707550049\n",
      "['Steve', 'Jobs'] --> co-founder --> ['Steve', 'Wozniak'] | score: 0.5914313793182373\n",
      "['Steve', 'Wozniak'] --> co-founder --> ['Ronald', 'Wayne'] | score: 0.5825679302215576\n",
      "['Steve', 'Jobs'] --> co-founder --> ['Ronald', 'Wayne'] | score: 0.5782116055488586\n",
      "['April', '1976'] --> co-founder --> ['Apple', 'Inc.'] | score: 0.5602768063545227\n",
      "['Apple', 'Inc.'] --> founder --> ['Steve', 'Wozniak'] | score: 0.38774195313453674\n",
      "['April', '1976'] --> founder --> ['Steve', 'Wozniak'] | score: 0.3869035840034485\n",
      "['Apple', 'Inc.'] --> founder --> ['Ronald', 'Wayne'] | score: 0.3841438889503479\n",
      "['April', '1976'] --> founder --> ['Ronald', 'Wayne'] | score: 0.3836226463317871\n",
      "['Apple', 'Inc.'] --> founder --> ['Steve', 'Jobs'] | score: 0.38215360045433044\n",
      "['April', '1976'] --> founder --> ['Steve', 'Jobs'] | score: 0.38132917881011963\n",
      "['Ronald', 'Wayne'] --> founder --> ['Steve', 'Wozniak'] | score: 0.272249698638916\n",
      "['Ronald', 'Wayne'] --> founder --> ['Steve', 'Jobs'] | score: 0.2709943652153015\n",
      "['Steve', 'Jobs'] --> founder --> ['Steve', 'Wozniak'] | score: 0.26705238223075867\n",
      "['Steve', 'Wozniak'] --> founder --> ['Steve', 'Jobs'] | score: 0.2659952938556671\n",
      "['Steve', 'Wozniak'] --> founder --> ['Ronald', 'Wayne'] | score: 0.26270535588264465\n",
      "['Steve', 'Jobs'] --> founder --> ['Ronald', 'Wayne'] | score: 0.2625293731689453\n",
      "['Apple', 'Inc.'] --> founder --> ['April', '1976'] | score: 0.2512606978416443\n",
      "['April', '1976'] --> founder --> ['Apple', 'Inc.'] | score: 0.2004414051771164\n",
      "['California'] --> founder --> ['Cupertino'] | score: 0.12620334327220917\n",
      "['California'] --> headquartered in --> ['Cupertino'] | score: 0.1071157157421112\n",
      "['Cupertino'] --> co-founder --> ['Steve', 'Jobs'] | score: 0.0930505245923996\n",
      "['Cupertino'] --> co-founder --> ['Steve', 'Wozniak'] | score: 0.08982143551111221\n",
      "['Cupertino'] --> co-founder --> ['Ronald', 'Wayne'] | score: 0.08572488278150558\n",
      "['Cupertino'] --> founder --> ['Steve', 'Jobs'] | score: 0.08368369936943054\n",
      "['Cupertino'] --> founder --> ['Steve', 'Wozniak'] | score: 0.08096033334732056\n",
      "['Cupertino'] --> founder --> ['Ronald', 'Wayne'] | score: 0.07848209142684937\n",
      "['California'] --> co-founder --> ['Cupertino'] | score: 0.07401061058044434\n",
      "['Cupertino'] --> founder --> ['California'] | score: 0.05839184671640396\n",
      "['Ronald', 'Wayne'] --> co-founder --> ['April', '1976'] | score: 0.05477707087993622\n",
      "['Steve', 'Wozniak'] --> co-founder --> ['April', '1976'] | score: 0.05184588581323624\n",
      "['Steve', 'Jobs'] --> co-founder --> ['April', '1976'] | score: 0.04993150755763054\n",
      "['April', '1976'] --> co-founder --> ['Cupertino'] | score: 0.049552593380212784\n",
      "['Apple', 'Inc.'] --> co-founder --> ['Cupertino'] | score: 0.049022138118743896\n",
      "['Ronald', 'Wayne'] --> co-founder --> ['Cupertino'] | score: 0.04489723965525627\n",
      "['Steve', 'Jobs'] --> co-founder --> ['Cupertino'] | score: 0.04477785527706146\n",
      "['Steve', 'Wozniak'] --> co-founder --> ['Cupertino'] | score: 0.044383011758327484\n",
      "['Ronald', 'Wayne'] --> founder --> ['April', '1976'] | score: 0.04404434189200401\n",
      "['Steve', 'Wozniak'] --> founder --> ['April', '1976'] | score: 0.04269793629646301\n",
      "['Steve', 'Jobs'] --> founder --> ['April', '1976'] | score: 0.04163115844130516\n",
      "['California'] --> founder --> ['Steve', 'Jobs'] | score: 0.03988748788833618\n",
      "['California'] --> founder --> ['Steve', 'Wozniak'] | score: 0.0385093167424202\n",
      "['California'] --> founder --> ['Ronald', 'Wayne'] | score: 0.03722809627652168\n",
      "['Ronald', 'Wayne'] --> co-founder --> ['Apple', 'Inc.'] | score: 0.036662425845861435\n",
      "['Steve', 'Wozniak'] --> co-founder --> ['Apple', 'Inc.'] | score: 0.03471428528428078\n",
      "['Steve', 'Jobs'] --> co-founder --> ['Apple', 'Inc.'] | score: 0.033403877168893814\n",
      "['Ronald', 'Wayne'] --> founder --> ['Apple', 'Inc.'] | score: 0.032833654433488846\n",
      "['Steve', 'Wozniak'] --> founder --> ['Apple', 'Inc.'] | score: 0.03183523565530777\n",
      "['Cupertino'] --> co-founder --> ['California'] | score: 0.03172587603330612\n",
      "['Steve', 'Jobs'] --> founder --> ['Apple', 'Inc.'] | score: 0.031013617292046547\n",
      "['Steve', 'Jobs'] --> founder --> ['Cupertino'] | score: 0.030331704765558243\n",
      "['Ronald', 'Wayne'] --> founder --> ['Cupertino'] | score: 0.03001180849969387\n",
      "['Steve', 'Wozniak'] --> founder --> ['Cupertino'] | score: 0.029863916337490082\n",
      "['California'] --> co-founder --> ['Steve', 'Jobs'] | score: 0.027601197361946106\n",
      "['California'] --> co-founder --> ['Steve', 'Wozniak'] | score: 0.02660662680864334\n",
      "['California'] --> co-founder --> ['Ronald', 'Wayne'] | score: 0.025302449241280556\n",
      "['April', '1976'] --> founder --> ['Cupertino'] | score: 0.022613544017076492\n",
      "['Apple', 'Inc.'] --> founder --> ['Cupertino'] | score: 0.021527813747525215\n",
      "['Cupertino'] --> country of origin --> ['California'] | score: 0.011456305161118507\n",
      "['California'] --> subsidiary of --> ['Cupertino'] | score: 0.010967482812702656\n"
     ]
    }
   ],
   "source": [
    "# Real-world example\n",
    "import spacy\n",
    "nlp = spacy.load('en_core_web_sm')\n",
    "\n",
    "text = \"Apple Inc. was founded by Steve Jobs, Steve Wozniak, and Ronald Wayne in April 1976. The company is headquartered in Cupertino, California.\"\n",
    "\n",
    "# text = \"Jack Dorsey's father, Tim Dorsey, is a licensed pilot. Jack met his wife Sarah Paulson in New York in 2003. They have one son, Edward.\"\n",
    "\n",
    "labels = [\n",
    "    'co-founder', \n",
    "    'country of origin', \n",
    "    'licensed to broadcast to', \n",
    "    'no relation', \n",
    "    'parent', \n",
    "    'followed by', \n",
    "    'located in or next to body of water', \n",
    "    'spouse', \n",
    "    'child', \n",
    "    'founder', \n",
    "    'headquartered in', \n",
    "    'acquired by', \n",
    "    'subsidiary of'\n",
    "    ]\n",
    "\n",
    "\n",
    "\n",
    "def predict_and_show(text, labels):\n",
    "    doc = nlp(text)\n",
    "\n",
    "    tokens = [token.text for token in doc]\n",
    "\n",
    "    ner = [[ent.start, ent.end, ent.label_, ent.text] for ent in doc.ents]\n",
    "    print(f\"Entities detected: {ner}\")\n",
    "\n",
    "    relations = model.predict_relations(tokens, labels, threshold=0.01, ner=ner)\n",
    "\n",
    "    print('Number of relations:', len(relations))\n",
    "\n",
    "    sorted_data_desc = sorted(relations, key=lambda x: x['score'], reverse=True)\n",
    "    print(\"\\nDescending Order by Score:\")\n",
    "    for item in sorted_data_desc:\n",
    "        print(f\"{item['head_text']} --> {item['label']} --> {item['tail_text']} | score: {item['score']}\")\n",
    "\n",
    "predict_and_show(text, labels)"
   ]
  },
  {
   "cell_type": "code",
   "execution_count": 9,
   "metadata": {},
   "outputs": [
    {
     "name": "stdout",
     "output_type": "stream",
     "text": [
      "Entities detected: [[0, 1, 'PERSON', 'Jack'], [2, 3, 'PERSON', 'Gill'], [11, 12, 'GPE', 'London']]\n",
      "Number of relations: 8\n",
      "\n",
      "Descending Order by Score:\n",
      "['Gill'] --> lives in --> ['London'] | score: 0.9845479130744934\n",
      "['Jack'] --> lives in --> ['London'] | score: 0.9842474460601807\n",
      "['Jack'] --> lives with --> ['Gill'] | score: 0.33038315176963806\n",
      "['Gill'] --> lives with --> ['Jack'] | score: 0.23151880502700806\n",
      "['Jack'] --> knows --> ['Gill'] | score: 0.09202353656291962\n",
      "['Gill'] --> knows --> ['Jack'] | score: 0.06196396425366402\n",
      "['Jack'] --> no relation --> ['Gill'] | score: 0.028537264093756676\n",
      "['Gill'] --> no relation --> ['Jack'] | score: 0.02333051897585392\n"
     ]
    }
   ],
   "source": [
    "text = \"Jack knows Gill. They live in the same house in London. They are not related.\"\n",
    "labels = ['family relation', 'knows', 'lives with', 'loves', 'licensed to broadcast to', 'father', 'followed by', 'no relation', 'lives in',]\n",
    "predict_and_show(text, labels)"
   ]
  },
  {
   "cell_type": "code",
   "execution_count": 10,
   "metadata": {},
   "outputs": [
    {
     "data": {
      "text/html": [
       "<span class=\"tex2jax_ignore\"><svg xmlns=\"http://www.w3.org/2000/svg\" xmlns:xlink=\"http://www.w3.org/1999/xlink\" xml:lang=\"en\" id=\"1e0717fb84944f17bab40a3486b076b9-0\" class=\"displacy\" width=\"1975\" height=\"224.5\" direction=\"ltr\" style=\"max-width: none; height: 224.5px; color: #000000; background: #ffffff; font-family: Arial; direction: ltr\">\n",
       "<text class=\"displacy-token\" fill=\"currentColor\" text-anchor=\"middle\" y=\"134.5\">\n",
       "    <tspan class=\"displacy-word\" fill=\"currentColor\" x=\"50\">Binsey</tspan>\n",
       "    <tspan class=\"displacy-tag\" dy=\"2em\" fill=\"currentColor\" x=\"50\"></tspan>\n",
       "</text>\n",
       "\n",
       "<text class=\"displacy-token\" fill=\"currentColor\" text-anchor=\"middle\" y=\"134.5\">\n",
       "    <tspan class=\"displacy-word\" fill=\"currentColor\" x=\"225\">located</tspan>\n",
       "    <tspan class=\"displacy-tag\" dy=\"2em\" fill=\"currentColor\" x=\"225\"></tspan>\n",
       "</text>\n",
       "\n",
       "<text class=\"displacy-token\" fill=\"currentColor\" text-anchor=\"middle\" y=\"134.5\">\n",
       "    <tspan class=\"displacy-word\" fill=\"currentColor\" x=\"400\">in</tspan>\n",
       "    <tspan class=\"displacy-tag\" dy=\"2em\" fill=\"currentColor\" x=\"400\"></tspan>\n",
       "</text>\n",
       "\n",
       "<text class=\"displacy-token\" fill=\"currentColor\" text-anchor=\"middle\" y=\"134.5\">\n",
       "    <tspan class=\"displacy-word\" fill=\"currentColor\" x=\"575\">or</tspan>\n",
       "    <tspan class=\"displacy-tag\" dy=\"2em\" fill=\"currentColor\" x=\"575\"></tspan>\n",
       "</text>\n",
       "\n",
       "<text class=\"displacy-token\" fill=\"currentColor\" text-anchor=\"middle\" y=\"134.5\">\n",
       "    <tspan class=\"displacy-word\" fill=\"currentColor\" x=\"750\">next</tspan>\n",
       "    <tspan class=\"displacy-tag\" dy=\"2em\" fill=\"currentColor\" x=\"750\"></tspan>\n",
       "</text>\n",
       "\n",
       "<text class=\"displacy-token\" fill=\"currentColor\" text-anchor=\"middle\" y=\"134.5\">\n",
       "    <tspan class=\"displacy-word\" fill=\"currentColor\" x=\"925\">to</tspan>\n",
       "    <tspan class=\"displacy-tag\" dy=\"2em\" fill=\"currentColor\" x=\"925\"></tspan>\n",
       "</text>\n",
       "\n",
       "<text class=\"displacy-token\" fill=\"currentColor\" text-anchor=\"middle\" y=\"134.5\">\n",
       "    <tspan class=\"displacy-word\" fill=\"currentColor\" x=\"1100\">body</tspan>\n",
       "    <tspan class=\"displacy-tag\" dy=\"2em\" fill=\"currentColor\" x=\"1100\"></tspan>\n",
       "</text>\n",
       "\n",
       "<text class=\"displacy-token\" fill=\"currentColor\" text-anchor=\"middle\" y=\"134.5\">\n",
       "    <tspan class=\"displacy-word\" fill=\"currentColor\" x=\"1275\">of</tspan>\n",
       "    <tspan class=\"displacy-tag\" dy=\"2em\" fill=\"currentColor\" x=\"1275\"></tspan>\n",
       "</text>\n",
       "\n",
       "<text class=\"displacy-token\" fill=\"currentColor\" text-anchor=\"middle\" y=\"134.5\">\n",
       "    <tspan class=\"displacy-word\" fill=\"currentColor\" x=\"1450\">water</tspan>\n",
       "    <tspan class=\"displacy-tag\" dy=\"2em\" fill=\"currentColor\" x=\"1450\"></tspan>\n",
       "</text>\n",
       "\n",
       "<text class=\"displacy-token\" fill=\"currentColor\" text-anchor=\"middle\" y=\"134.5\">\n",
       "    <tspan class=\"displacy-word\" fill=\"currentColor\" x=\"1625\">River</tspan>\n",
       "    <tspan class=\"displacy-tag\" dy=\"2em\" fill=\"currentColor\" x=\"1625\"></tspan>\n",
       "</text>\n",
       "\n",
       "<text class=\"displacy-token\" fill=\"currentColor\" text-anchor=\"middle\" y=\"134.5\">\n",
       "    <tspan class=\"displacy-word\" fill=\"currentColor\" x=\"1800\">Thames</tspan>\n",
       "    <tspan class=\"displacy-tag\" dy=\"2em\" fill=\"currentColor\" x=\"1800\"></tspan>\n",
       "</text>\n",
       "\n",
       "<g class=\"displacy-arrow\">\n",
       "    <path class=\"displacy-arc\" id=\"arrow-1e0717fb84944f17bab40a3486b076b9-0-0\" stroke-width=\"2px\" d=\"M70,89.5 C70,2.0 1625.0,2.0 1625.0,89.5\" fill=\"none\" stroke=\"currentColor\"/>\n",
       "    <text dy=\"1.25em\" style=\"font-size: 0.8em; letter-spacing: 1px\">\n",
       "        <textPath xlink:href=\"#arrow-1e0717fb84944f17bab40a3486b076b9-0-0\" class=\"displacy-label\" startOffset=\"50%\" side=\"left\" fill=\"currentColor\" text-anchor=\"middle\">rel</textPath>\n",
       "    </text>\n",
       "    <path class=\"displacy-arrowhead\" d=\"M70,91.5 L62,79.5 78,79.5\" fill=\"currentColor\"/>\n",
       "</g>\n",
       "</svg></span>"
      ],
      "text/plain": [
       "<IPython.core.display.HTML object>"
      ]
     },
     "metadata": {},
     "output_type": "display_data"
    }
   ],
   "source": [
    "import spacy\n",
    "from spacy.tokens import Span\n",
    "from spacy import displacy\n",
    "\n",
    "def visualize_relation(text, relations):\n",
    "    nlp = spacy.blank(\"en\")\n",
    "    doc = nlp(text)\n",
    "\n",
    "    # Manually set dependency relations to visualize relations\n",
    "    for token in doc:\n",
    "        token.dep_ = \"dep\"  # default to 'dep'\n",
    "\n",
    "    spans = []\n",
    "    # Calculate character offsets for each entity\n",
    "    for rel in relations:\n",
    "        head = Span(doc, rel['head_pos'][0], rel['head_pos'][1], label=rel['head_text'])\n",
    "        tail = Span(doc, rel['tail_pos'][0], rel['tail_pos'][1], label=rel['tail_text'])\n",
    "\n",
    "        doc.ents += (head, tail)\n",
    "\n",
    "        # Mock dependencies\n",
    "        head_root = head.root\n",
    "        tail_root = tail.root\n",
    "\n",
    "        head_root.dep_ = \"rel\"  # Relation type can be customized\n",
    "        head_root.head = tail_root  # Point head to tail\n",
    "\n",
    "    options = {\"fine_grained\": True}\n",
    "    displacy.render(doc, style=\"dep\", options=options, jupyter=True)\n",
    "\n",
    "# Example data\n",
    "text = \"Binsey located in or next to body of water River Thames\"\n",
    "relations = [\n",
    "    {'head_pos': [0, 1], 'tail_pos': [9, 11], 'head_text': 'Binsey', 'tail_text': 'River Thames', 'label': 'located in or next to body of water', 'score': 0.9235768914222717},\n",
    "    # {'head_pos': [9, 11], 'tail_pos': [0, 1], 'head_text': 'River Thames', 'tail_text': 'Binsey', 'label': 'located in or next to body of water', 'score': 0.12615662813186646}\n",
    "]\n",
    "\n",
    "visualize_relation(text, relations)\n"
   ]
  },
  {
   "cell_type": "code",
   "execution_count": null,
   "metadata": {},
   "outputs": [],
   "source": []
  }
 ],
 "metadata": {
  "kernelspec": {
   "display_name": "gliner_dev",
   "language": "python",
   "name": "python3"
  },
  "language_info": {
   "codemirror_mode": {
    "name": "ipython",
    "version": 3
   },
   "file_extension": ".py",
   "mimetype": "text/x-python",
   "name": "python",
   "nbconvert_exporter": "python",
   "pygments_lexer": "ipython3",
   "version": "3.10.14"
  }
 },
 "nbformat": 4,
 "nbformat_minor": 2
}
