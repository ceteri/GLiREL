{
 "cells": [
  {
   "cell_type": "markdown",
   "metadata": {},
   "source": [
    "# 🚞 Zero-shot RE Training"
   ]
  },
  {
   "cell_type": "code",
   "execution_count": 3,
   "metadata": {},
   "outputs": [
    {
     "name": "stdout",
     "output_type": "stream",
     "text": [
      "The autoreload extension is already loaded. To reload it, use:\n",
      "  %reload_ext autoreload\n"
     ]
    }
   ],
   "source": [
    "%load_ext autoreload\n",
    "%autoreload 2"
   ]
  },
  {
   "cell_type": "code",
   "execution_count": 4,
   "metadata": {},
   "outputs": [],
   "source": [
    "# # if you're running this in a colab notebook, you can run this cell to install the necessary dependencies\n",
    "# !git clone https://github.com/jackboyla/GLiREL.git\n",
    "# !cd GLiREL && pip install -e .\n",
    "# !python -m spacy download en_core_web_sm"
   ]
  },
  {
   "cell_type": "code",
   "execution_count": 5,
   "metadata": {},
   "outputs": [
    {
     "name": "stderr",
     "output_type": "stream",
     "text": [
      "2024-05-28 19:38:55,999 - datasets - INFO - PyTorch version 2.3.0 available.\n",
      "config.json not found in /home/jackboylan/GLiREL/logs/few_rel-12-04-47__2024-05-28/model_3000\n",
      "2024-05-28 19:38:56,273 - huggingface_hub.hub_mixin - WARNING - config.json not found in /home/jackboylan/GLiREL/logs/few_rel-12-04-47__2024-05-28/model_3000\n",
      "/opt/conda/envs/glirel/lib/python3.10/site-packages/transformers/convert_slow_tokenizer.py:560: UserWarning: The sentencepiece tokenizer that you are converting to a fast tokenizer uses the byte fallback option which is not implemented in the fast tokenizers. In practice this means that the fast version of the tokenizer can produce unknown tokens whereas the sentencepiece version would have converted these unknown tokens into a sequence of byte tokens matching the original piece of text.\n",
      "  warnings.warn(\n",
      "/opt/conda/envs/glirel/lib/python3.10/site-packages/huggingface_hub/file_download.py:1132: FutureWarning: `resume_download` is deprecated and will be removed in version 1.0.0. Downloads always resume when possible. If you want to force a new download, use `force_download=True`.\n",
      "  warnings.warn(\n"
     ]
    }
   ],
   "source": [
    "from glirel import GLiREL\n",
    "\n",
    "save_path = 'logs/few_rel-12-04-47__2024-05-28/model_3000'\n",
    "model = GLiREL.from_pretrained(save_path)\n",
    "# model"
   ]
  },
  {
   "cell_type": "markdown",
   "metadata": {},
   "source": [
    "# Inference\n",
    "\n",
    "To infer, the model needs `tokens`, `NER`, and `zero shot labels`."
   ]
  },
  {
   "cell_type": "markdown",
   "metadata": {},
   "source": [
    "### Eval data"
   ]
  },
  {
   "cell_type": "code",
   "execution_count": 6,
   "metadata": {},
   "outputs": [
    {
     "name": "stdout",
     "output_type": "stream",
     "text": [
      "['The', 'race', 'took', 'place', 'between', 'Godstow', 'and', 'Binsey', 'along', 'the', 'Upper', 'River', 'Thames', '.']\n",
      "\n",
      "[[7, 8, 'Q4914513', 'Binsey'], [11, 13, 'Q19686', 'River Thames']]\n",
      "['located in or next to body of water']\n"
     ]
    }
   ],
   "source": [
    "import json\n",
    "with open('./data/few_rel_eval.jsonl', 'r') as f:\n",
    "    data = [json.loads(line) for line in f]\n",
    "\n",
    "i = 0\n",
    "\n",
    "tokens = data[i]['tokenized_text']\n",
    "ner = data[i]['ner']\n",
    "labels = list(set([r['relation_text'] for r in data[i]['relations']]))\n",
    "print(tokens)\n",
    "print()\n",
    "print(ner)\n",
    "print(labels)"
   ]
  },
  {
   "cell_type": "code",
   "execution_count": 7,
   "metadata": {},
   "outputs": [
    {
     "name": "stdout",
     "output_type": "stream",
     "text": [
      "['country of origin', 'licensed to broadcast to', 'father', 'followed by', 'located in or next to body of water']\n"
     ]
    }
   ],
   "source": [
    "labels = ['country of origin', 'licensed to broadcast to', 'father', 'followed by'] + labels\n",
    "print(labels)"
   ]
  },
  {
   "cell_type": "code",
   "execution_count": 8,
   "metadata": {},
   "outputs": [
    {
     "name": "stdout",
     "output_type": "stream",
     "text": [
      "Number of relations: 2\n",
      "\n",
      "Descending Order by Score:\n",
      "{'head_pos': [7, 8], 'tail_pos': [11, 13], 'head_text': ['Binsey'], 'tail_text': ['River', 'Thames'], 'label': 'located in or next to body of water', 'score': 0.27859365940093994}\n",
      "{'head_pos': [11, 13], 'tail_pos': [7, 8], 'head_text': ['River', 'Thames'], 'tail_text': ['Binsey'], 'label': 'located in or next to body of water', 'score': 0.023074651136994362}\n"
     ]
    }
   ],
   "source": [
    "relations = model.predict_relations(tokens, labels, threshold=0.01, ner=ner)\n",
    "\n",
    "print('Number of relations:', len(relations))  # num entity pairs (both directions) * num classes.... provided they're over the threshold\n",
    "\n",
    "sorted_data_desc = sorted(relations, key=lambda x: x['score'], reverse=True)\n",
    "print(\"\\nDescending Order by Score:\")\n",
    "for item in sorted_data_desc:\n",
    "    print(item)"
   ]
  },
  {
   "cell_type": "markdown",
   "metadata": {},
   "source": [
    "### Real-world example"
   ]
  },
  {
   "cell_type": "code",
   "execution_count": 9,
   "metadata": {},
   "outputs": [
    {
     "name": "stdout",
     "output_type": "stream",
     "text": [
      "Entities detected: [[0, 2, 'ORG', 'Apple Inc.'], [5, 7, 'PERSON', 'Steve Jobs'], [8, 10, 'PERSON', 'Steve Wozniak'], [12, 14, 'PERSON', 'Ronald Wayne'], [15, 17, 'DATE', 'April 1976'], [23, 24, 'GPE', 'Cupertino'], [25, 26, 'GPE', 'California']]\n",
      "Number of relations: 161\n",
      "\n",
      "Descending Order by Score:\n",
      "['April', '1976'] --> founder --> ['Steve', 'Jobs'] | score: 0.5961831212043762\n",
      "['Apple', 'Inc.'] --> founder --> ['Steve', 'Jobs'] | score: 0.5939394235610962\n",
      "['April', '1976'] --> founder --> ['Steve', 'Wozniak'] | score: 0.5938780307769775\n",
      "['Apple', 'Inc.'] --> founder --> ['Steve', 'Wozniak'] | score: 0.5915560126304626\n",
      "['April', '1976'] --> founder --> ['Ronald', 'Wayne'] | score: 0.5826694369316101\n",
      "['Apple', 'Inc.'] --> founder --> ['Ronald', 'Wayne'] | score: 0.5799620151519775\n",
      "['April', '1976'] --> founder --> ['California'] | score: 0.5521637797355652\n",
      "['April', '1976'] --> founder --> ['Cupertino'] | score: 0.5492367148399353\n",
      "['Apple', 'Inc.'] --> founder --> ['California'] | score: 0.5488370060920715\n",
      "['Apple', 'Inc.'] --> founder --> ['Cupertino'] | score: 0.545753002166748\n",
      "['Cupertino'] --> founder --> ['Steve', 'Jobs'] | score: 0.5245251059532166\n",
      "['California'] --> founder --> ['Steve', 'Jobs'] | score: 0.5193517208099365\n",
      "['Cupertino'] --> founder --> ['Steve', 'Wozniak'] | score: 0.5171012282371521\n",
      "['California'] --> founder --> ['Steve', 'Wozniak'] | score: 0.5115628242492676\n",
      "['Cupertino'] --> founder --> ['Ronald', 'Wayne'] | score: 0.4728945195674896\n",
      "['California'] --> founder --> ['Ronald', 'Wayne'] | score: 0.4655292332172394\n",
      "['Ronald', 'Wayne'] --> founder --> ['Steve', 'Jobs'] | score: 0.43352794647216797\n",
      "['Ronald', 'Wayne'] --> founder --> ['Steve', 'Wozniak'] | score: 0.41988661885261536\n",
      "['April', '1976'] --> headquartered in --> ['Cupertino'] | score: 0.3977395296096802\n",
      "['April', '1976'] --> headquartered in --> ['California'] | score: 0.39753884077072144\n",
      "['Apple', 'Inc.'] --> headquartered in --> ['Cupertino'] | score: 0.3951931893825531\n",
      "['Apple', 'Inc.'] --> headquartered in --> ['California'] | score: 0.3951636850833893\n",
      "['April', '1976'] --> headquartered in --> ['Ronald', 'Wayne'] | score: 0.39181289076805115\n",
      "['Apple', 'Inc.'] --> headquartered in --> ['Ronald', 'Wayne'] | score: 0.3900648057460785\n",
      "['April', '1976'] --> headquartered in --> ['Steve', 'Wozniak'] | score: 0.3802792429924011\n",
      "['Apple', 'Inc.'] --> headquartered in --> ['Steve', 'Wozniak'] | score: 0.3791169822216034\n",
      "['April', '1976'] --> headquartered in --> ['Steve', 'Jobs'] | score: 0.377517968416214\n",
      "['Apple', 'Inc.'] --> headquartered in --> ['Steve', 'Jobs'] | score: 0.37644246220588684\n",
      "['Cupertino'] --> founder --> ['California'] | score: 0.3571516275405884\n",
      "['Steve', 'Wozniak'] --> founder --> ['Steve', 'Jobs'] | score: 0.35399818420410156\n",
      "['Cupertino'] --> headquartered in --> ['Steve', 'Jobs'] | score: 0.3392733335494995\n",
      "['California'] --> founder --> ['Cupertino'] | score: 0.33737912774086\n",
      "['Cupertino'] --> headquartered in --> ['Steve', 'Wozniak'] | score: 0.33688658475875854\n",
      "['California'] --> headquartered in --> ['Steve', 'Jobs'] | score: 0.33686763048171997\n",
      "['California'] --> headquartered in --> ['Steve', 'Wozniak'] | score: 0.33420202136039734\n",
      "['April', '1976'] --> founder --> ['Apple', 'Inc.'] | score: 0.3161090016365051\n",
      "['Cupertino'] --> headquartered in --> ['Ronald', 'Wayne'] | score: 0.31569603085517883\n",
      "['Steve', 'Jobs'] --> founder --> ['Steve', 'Wozniak'] | score: 0.3156002163887024\n",
      "['California'] --> headquartered in --> ['Ronald', 'Wayne'] | score: 0.311598539352417\n",
      "['Apple', 'Inc.'] --> founder --> ['April', '1976'] | score: 0.2940581738948822\n",
      "['Ronald', 'Wayne'] --> headquartered in --> ['Steve', 'Jobs'] | score: 0.29290035367012024\n",
      "['Ronald', 'Wayne'] --> headquartered in --> ['Steve', 'Wozniak'] | score: 0.2855483889579773\n",
      "['Steve', 'Wozniak'] --> founder --> ['Ronald', 'Wayne'] | score: 0.25989222526550293\n",
      "['Steve', 'Wozniak'] --> headquartered in --> ['Steve', 'Jobs'] | score: 0.24352465569972992\n",
      "['Cupertino'] --> headquartered in --> ['California'] | score: 0.24211911857128143\n",
      "['Steve', 'Jobs'] --> founder --> ['Ronald', 'Wayne'] | score: 0.23937511444091797\n",
      "['April', '1976'] --> headquartered in --> ['Apple', 'Inc.'] | score: 0.23546390235424042\n",
      "['California'] --> headquartered in --> ['Cupertino'] | score: 0.2295025885105133\n",
      "['Ronald', 'Wayne'] --> founder --> ['California'] | score: 0.22160305082798004\n",
      "['Apple', 'Inc.'] --> headquartered in --> ['April', '1976'] | score: 0.21790437400341034\n",
      "['Steve', 'Jobs'] --> headquartered in --> ['Steve', 'Wozniak'] | score: 0.21753822267055511\n",
      "['Ronald', 'Wayne'] --> founder --> ['Cupertino'] | score: 0.21211709082126617\n",
      "['Steve', 'Wozniak'] --> headquartered in --> ['Ronald', 'Wayne'] | score: 0.17869019508361816\n",
      "['Steve', 'Jobs'] --> headquartered in --> ['Ronald', 'Wayne'] | score: 0.16411739587783813\n",
      "['Ronald', 'Wayne'] --> headquartered in --> ['California'] | score: 0.15016433596611023\n",
      "['Steve', 'Wozniak'] --> founder --> ['California'] | score: 0.14851194620132446\n",
      "['Ronald', 'Wayne'] --> headquartered in --> ['Cupertino'] | score: 0.14360728859901428\n",
      "['Steve', 'Wozniak'] --> founder --> ['Cupertino'] | score: 0.14099320769309998\n",
      "['Steve', 'Jobs'] --> founder --> ['California'] | score: 0.13337315618991852\n",
      "['Steve', 'Jobs'] --> founder --> ['Cupertino'] | score: 0.12640154361724854\n",
      "['April', '1976'] --> subsidiary of --> ['Cupertino'] | score: 0.11080928891897202\n",
      "['Apple', 'Inc.'] --> subsidiary of --> ['Cupertino'] | score: 0.11009498685598373\n",
      "['April', '1976'] --> subsidiary of --> ['California'] | score: 0.10845606029033661\n",
      "['Apple', 'Inc.'] --> subsidiary of --> ['California'] | score: 0.10787177830934525\n",
      "['Steve', 'Wozniak'] --> headquartered in --> ['California'] | score: 0.09964921325445175\n",
      "['Steve', 'Wozniak'] --> headquartered in --> ['Cupertino'] | score: 0.09442166239023209\n",
      "['Steve', 'Jobs'] --> headquartered in --> ['California'] | score: 0.08909779042005539\n",
      "['Steve', 'Jobs'] --> headquartered in --> ['Cupertino'] | score: 0.08429375290870667\n",
      "['April', '1976'] --> subsidiary of --> ['Ronald', 'Wayne'] | score: 0.08354783058166504\n",
      "['Apple', 'Inc.'] --> subsidiary of --> ['Ronald', 'Wayne'] | score: 0.08341120183467865\n",
      "['Apple', 'Inc.'] --> subsidiary of --> ['Steve', 'Wozniak'] | score: 0.06799469143152237\n",
      "['April', '1976'] --> subsidiary of --> ['Steve', 'Wozniak'] | score: 0.06778806447982788\n",
      "['California'] --> subsidiary of --> ['Steve', 'Wozniak'] | score: 0.0673319399356842\n",
      "['Cupertino'] --> subsidiary of --> ['Steve', 'Wozniak'] | score: 0.06721771508455276\n",
      "['Cupertino'] --> subsidiary of --> ['Ronald', 'Wayne'] | score: 0.0665658712387085\n",
      "['California'] --> subsidiary of --> ['Steve', 'Jobs'] | score: 0.06644491106271744\n",
      "['Cupertino'] --> subsidiary of --> ['Steve', 'Jobs'] | score: 0.06623633205890656\n",
      "['California'] --> subsidiary of --> ['Ronald', 'Wayne'] | score: 0.06607545912265778\n",
      "['Apple', 'Inc.'] --> subsidiary of --> ['Steve', 'Jobs'] | score: 0.06483498960733414\n",
      "['April', '1976'] --> subsidiary of --> ['Steve', 'Jobs'] | score: 0.0646025687456131\n",
      "['Ronald', 'Wayne'] --> subsidiary of --> ['Steve', 'Jobs'] | score: 0.06453807651996613\n",
      "['Ronald', 'Wayne'] --> subsidiary of --> ['Steve', 'Wozniak'] | score: 0.06337574124336243\n",
      "['Cupertino'] --> founder --> ['Apple', 'Inc.'] | score: 0.055257685482501984\n",
      "['April', '1976'] --> subsidiary of --> ['Apple', 'Inc.'] | score: 0.05495934188365936\n",
      "['Steve', 'Wozniak'] --> subsidiary of --> ['Steve', 'Jobs'] | score: 0.05254817381501198\n",
      "['California'] --> founder --> ['Apple', 'Inc.'] | score: 0.0523344986140728\n",
      "['April', '1976'] --> acquired by --> ['Cupertino'] | score: 0.0519409142434597\n",
      "['Apple', 'Inc.'] --> acquired by --> ['Cupertino'] | score: 0.05170096084475517\n",
      "['April', '1976'] --> acquired by --> ['California'] | score: 0.05084069073200226\n",
      "['Apple', 'Inc.'] --> acquired by --> ['California'] | score: 0.05067484825849533\n",
      "['Cupertino'] --> founder --> ['April', '1976'] | score: 0.0506032332777977\n",
      "['April', '1976'] --> located in or next to body of water --> ['Cupertino'] | score: 0.050262678414583206\n",
      "['Apple', 'Inc.'] --> located in or next to body of water --> ['Cupertino'] | score: 0.05005735903978348\n",
      "['April', '1976'] --> located in or next to body of water --> ['California'] | score: 0.04960455372929573\n",
      "['Apple', 'Inc.'] --> located in or next to body of water --> ['California'] | score: 0.049468692392110825\n",
      "['Apple', 'Inc.'] --> subsidiary of --> ['April', '1976'] | score: 0.04822256788611412\n",
      "['California'] --> founder --> ['April', '1976'] | score: 0.047902923077344894\n",
      "['Cupertino'] --> subsidiary of --> ['California'] | score: 0.04762203246355057\n",
      "['Steve', 'Jobs'] --> subsidiary of --> ['Steve', 'Wozniak'] | score: 0.04456491768360138\n",
      "['California'] --> subsidiary of --> ['Cupertino'] | score: 0.04452098160982132\n",
      "['Apple', 'Inc.'] --> located in or next to body of water --> ['Ronald', 'Wayne'] | score: 0.042603280395269394\n",
      "['April', '1976'] --> located in or next to body of water --> ['Ronald', 'Wayne'] | score: 0.04251300171017647\n",
      "['Apple', 'Inc.'] --> acquired by --> ['Ronald', 'Wayne'] | score: 0.039557889103889465\n",
      "['April', '1976'] --> acquired by --> ['Ronald', 'Wayne'] | score: 0.03949613869190216\n",
      "['Cupertino'] --> located in or next to body of water --> ['Steve', 'Jobs'] | score: 0.03890501707792282\n",
      "['California'] --> located in or next to body of water --> ['Steve', 'Jobs'] | score: 0.0388992503285408\n",
      "['Cupertino'] --> located in or next to body of water --> ['Steve', 'Wozniak'] | score: 0.03860773518681526\n",
      "['California'] --> located in or next to body of water --> ['Steve', 'Wozniak'] | score: 0.03852391242980957\n",
      "['Apple', 'Inc.'] --> located in or next to body of water --> ['Steve', 'Wozniak'] | score: 0.03675227612257004\n",
      "['April', '1976'] --> located in or next to body of water --> ['Steve', 'Wozniak'] | score: 0.03649817407131195\n",
      "['Apple', 'Inc.'] --> located in or next to body of water --> ['Steve', 'Jobs'] | score: 0.03550104796886444\n",
      "['Ronald', 'Wayne'] --> located in or next to body of water --> ['Steve', 'Jobs'] | score: 0.03531957045197487\n",
      "['April', '1976'] --> located in or next to body of water --> ['Steve', 'Jobs'] | score: 0.0352373868227005\n",
      "['Cupertino'] --> headquartered in --> ['Apple', 'Inc.'] | score: 0.03459259122610092\n",
      "['California'] --> acquired by --> ['Steve', 'Wozniak'] | score: 0.03397456556558609\n",
      "['Cupertino'] --> acquired by --> ['Steve', 'Wozniak'] | score: 0.03391086310148239\n",
      "['California'] --> acquired by --> ['Steve', 'Jobs'] | score: 0.033808622509241104\n",
      "['Cupertino'] --> located in or next to body of water --> ['Ronald', 'Wayne'] | score: 0.03375168889760971\n",
      "['Cupertino'] --> acquired by --> ['Steve', 'Jobs'] | score: 0.03368254750967026\n",
      "['Ronald', 'Wayne'] --> located in or next to body of water --> ['Steve', 'Wozniak'] | score: 0.033500369638204575\n",
      "['California'] --> located in or next to body of water --> ['Ronald', 'Wayne'] | score: 0.033258821815252304\n",
      "['California'] --> headquartered in --> ['Apple', 'Inc.'] | score: 0.032616108655929565\n",
      "['Steve', 'Wozniak'] --> subsidiary of --> ['Ronald', 'Wayne'] | score: 0.03255763277411461\n",
      "['Ronald', 'Wayne'] --> acquired by --> ['Steve', 'Jobs'] | score: 0.0324699729681015\n",
      "['Apple', 'Inc.'] --> acquired by --> ['Steve', 'Wozniak'] | score: 0.03214419633150101\n",
      "['April', '1976'] --> acquired by --> ['Steve', 'Wozniak'] | score: 0.03192439675331116\n",
      "['Cupertino'] --> acquired by --> ['Ronald', 'Wayne'] | score: 0.03170936927199364\n",
      "['Cupertino'] --> headquartered in --> ['April', '1976'] | score: 0.03161448985338211\n",
      "['California'] --> acquired by --> ['Ronald', 'Wayne'] | score: 0.03139743581414223\n",
      "['Ronald', 'Wayne'] --> acquired by --> ['Steve', 'Wozniak'] | score: 0.031331971287727356\n",
      "['Apple', 'Inc.'] --> acquired by --> ['Steve', 'Jobs'] | score: 0.030624914914369583\n",
      "['April', '1976'] --> acquired by --> ['Steve', 'Jobs'] | score: 0.030399417504668236\n",
      "['California'] --> headquartered in --> ['April', '1976'] | score: 0.02979220636188984\n",
      "['Steve', 'Jobs'] --> subsidiary of --> ['Ronald', 'Wayne'] | score: 0.02844756282866001\n",
      "['Steve', 'Wozniak'] --> located in or next to body of water --> ['Steve', 'Jobs'] | score: 0.025858188048005104\n",
      "['Steve', 'Wozniak'] --> acquired by --> ['Steve', 'Jobs'] | score: 0.024873074144124985\n",
      "['Ronald', 'Wayne'] --> founder --> ['Apple', 'Inc.'] | score: 0.02470734529197216\n",
      "['Ronald', 'Wayne'] --> subsidiary of --> ['California'] | score: 0.023771295323967934\n",
      "['Ronald', 'Wayne'] --> founder --> ['April', '1976'] | score: 0.02252553030848503\n",
      "['Ronald', 'Wayne'] --> subsidiary of --> ['Cupertino'] | score: 0.0221768319606781\n",
      "['Steve', 'Jobs'] --> located in or next to body of water --> ['Steve', 'Wozniak'] | score: 0.020104721188545227\n",
      "['Steve', 'Jobs'] --> acquired by --> ['Steve', 'Wozniak'] | score: 0.019905829802155495\n",
      "['Cupertino'] --> acquired by --> ['California'] | score: 0.018823888152837753\n",
      "['Cupertino'] --> located in or next to body of water --> ['California'] | score: 0.017590152099728584\n",
      "['California'] --> acquired by --> ['Cupertino'] | score: 0.017160287126898766\n",
      "['April', '1976'] --> acquired by --> ['Apple', 'Inc.'] | score: 0.016558758914470673\n",
      "['California'] --> located in or next to body of water --> ['Cupertino'] | score: 0.01577090658247471\n",
      "['Ronald', 'Wayne'] --> headquartered in --> ['Apple', 'Inc.'] | score: 0.01454837154597044\n",
      "['Steve', 'Wozniak'] --> founder --> ['Apple', 'Inc.'] | score: 0.014476485550403595\n",
      "['Apple', 'Inc.'] --> acquired by --> ['April', '1976'] | score: 0.013929186388850212\n",
      "['Ronald', 'Wayne'] --> headquartered in --> ['April', '1976'] | score: 0.013227314688265324\n",
      "['Steve', 'Wozniak'] --> founder --> ['April', '1976'] | score: 0.013178856112062931\n",
      "['Steve', 'Wozniak'] --> acquired by --> ['Ronald', 'Wayne'] | score: 0.012710812501609325\n",
      "['Steve', 'Jobs'] --> founder --> ['Apple', 'Inc.'] | score: 0.012670430354773998\n",
      "['Steve', 'Wozniak'] --> subsidiary of --> ['California'] | score: 0.012629764154553413\n",
      "['April', '1976'] --> located in or next to body of water --> ['Apple', 'Inc.'] | score: 0.012046224437654018\n",
      "['Steve', 'Wozniak'] --> located in or next to body of water --> ['Ronald', 'Wayne'] | score: 0.011993641033768654\n",
      "['Steve', 'Wozniak'] --> subsidiary of --> ['Cupertino'] | score: 0.01159550342708826\n",
      "['Steve', 'Jobs'] --> founder --> ['April', '1976'] | score: 0.011531561613082886\n",
      "['Steve', 'Jobs'] --> acquired by --> ['Ronald', 'Wayne'] | score: 0.010714840143918991\n",
      "['Steve', 'Jobs'] --> subsidiary of --> ['California'] | score: 0.010583567433059216\n"
     ]
    }
   ],
   "source": [
    "# Real-world example\n",
    "import spacy\n",
    "nlp = spacy.load('en_core_web_sm')\n",
    "\n",
    "text = \"Apple Inc. was founded by Steve Jobs, Steve Wozniak, and Ronald Wayne in April 1976. The company is headquartered in Cupertino, California.\"\n",
    "\n",
    "# text = \"Jack Dorsey's father, Tim Dorsey, is a licensed pilot. Jack met his wife Sarah Paulson in New York in 2003. They have one son, Edward.\"\n",
    "\n",
    "doc = nlp(text)\n",
    "\n",
    "labels = ['country of origin', 'licensed to broadcast to', 'parent', 'followed by', 'located in or next to body of water', 'spouse', 'child', 'founder', 'headquartered in', 'acquired by', 'subsidiary of']\n",
    "\n",
    "tokens = [token.text for token in doc]\n",
    "\n",
    "ner = [[ent.start, ent.end, ent.label_, ent.text] for ent in doc.ents]\n",
    "print(f\"Entities detected: {ner}\")\n",
    "\n",
    "relations = model.predict_relations(tokens, labels, threshold=0.01, ner=ner)\n",
    "\n",
    "print('Number of relations:', len(relations))\n",
    "\n",
    "sorted_data_desc = sorted(relations, key=lambda x: x['score'], reverse=True)\n",
    "print(\"\\nDescending Order by Score:\")\n",
    "for item in sorted_data_desc:\n",
    "    print(f\"{item['head_text']} --> {item['label']} --> {item['tail_text']} | score: {item['score']}\")"
   ]
  },
  {
   "cell_type": "code",
   "execution_count": null,
   "metadata": {},
   "outputs": [],
   "source": []
  },
  {
   "cell_type": "code",
   "execution_count": 10,
   "metadata": {},
   "outputs": [
    {
     "data": {
      "text/html": [
       "<span class=\"tex2jax_ignore\"><svg xmlns=\"http://www.w3.org/2000/svg\" xmlns:xlink=\"http://www.w3.org/1999/xlink\" xml:lang=\"en\" id=\"9cb9f466d0e94f6c99e975a900a0a407-0\" class=\"displacy\" width=\"1975\" height=\"224.5\" direction=\"ltr\" style=\"max-width: none; height: 224.5px; color: #000000; background: #ffffff; font-family: Arial; direction: ltr\">\n",
       "<text class=\"displacy-token\" fill=\"currentColor\" text-anchor=\"middle\" y=\"134.5\">\n",
       "    <tspan class=\"displacy-word\" fill=\"currentColor\" x=\"50\">Binsey</tspan>\n",
       "    <tspan class=\"displacy-tag\" dy=\"2em\" fill=\"currentColor\" x=\"50\"></tspan>\n",
       "</text>\n",
       "\n",
       "<text class=\"displacy-token\" fill=\"currentColor\" text-anchor=\"middle\" y=\"134.5\">\n",
       "    <tspan class=\"displacy-word\" fill=\"currentColor\" x=\"225\">located</tspan>\n",
       "    <tspan class=\"displacy-tag\" dy=\"2em\" fill=\"currentColor\" x=\"225\"></tspan>\n",
       "</text>\n",
       "\n",
       "<text class=\"displacy-token\" fill=\"currentColor\" text-anchor=\"middle\" y=\"134.5\">\n",
       "    <tspan class=\"displacy-word\" fill=\"currentColor\" x=\"400\">in</tspan>\n",
       "    <tspan class=\"displacy-tag\" dy=\"2em\" fill=\"currentColor\" x=\"400\"></tspan>\n",
       "</text>\n",
       "\n",
       "<text class=\"displacy-token\" fill=\"currentColor\" text-anchor=\"middle\" y=\"134.5\">\n",
       "    <tspan class=\"displacy-word\" fill=\"currentColor\" x=\"575\">or</tspan>\n",
       "    <tspan class=\"displacy-tag\" dy=\"2em\" fill=\"currentColor\" x=\"575\"></tspan>\n",
       "</text>\n",
       "\n",
       "<text class=\"displacy-token\" fill=\"currentColor\" text-anchor=\"middle\" y=\"134.5\">\n",
       "    <tspan class=\"displacy-word\" fill=\"currentColor\" x=\"750\">next</tspan>\n",
       "    <tspan class=\"displacy-tag\" dy=\"2em\" fill=\"currentColor\" x=\"750\"></tspan>\n",
       "</text>\n",
       "\n",
       "<text class=\"displacy-token\" fill=\"currentColor\" text-anchor=\"middle\" y=\"134.5\">\n",
       "    <tspan class=\"displacy-word\" fill=\"currentColor\" x=\"925\">to</tspan>\n",
       "    <tspan class=\"displacy-tag\" dy=\"2em\" fill=\"currentColor\" x=\"925\"></tspan>\n",
       "</text>\n",
       "\n",
       "<text class=\"displacy-token\" fill=\"currentColor\" text-anchor=\"middle\" y=\"134.5\">\n",
       "    <tspan class=\"displacy-word\" fill=\"currentColor\" x=\"1100\">body</tspan>\n",
       "    <tspan class=\"displacy-tag\" dy=\"2em\" fill=\"currentColor\" x=\"1100\"></tspan>\n",
       "</text>\n",
       "\n",
       "<text class=\"displacy-token\" fill=\"currentColor\" text-anchor=\"middle\" y=\"134.5\">\n",
       "    <tspan class=\"displacy-word\" fill=\"currentColor\" x=\"1275\">of</tspan>\n",
       "    <tspan class=\"displacy-tag\" dy=\"2em\" fill=\"currentColor\" x=\"1275\"></tspan>\n",
       "</text>\n",
       "\n",
       "<text class=\"displacy-token\" fill=\"currentColor\" text-anchor=\"middle\" y=\"134.5\">\n",
       "    <tspan class=\"displacy-word\" fill=\"currentColor\" x=\"1450\">water</tspan>\n",
       "    <tspan class=\"displacy-tag\" dy=\"2em\" fill=\"currentColor\" x=\"1450\"></tspan>\n",
       "</text>\n",
       "\n",
       "<text class=\"displacy-token\" fill=\"currentColor\" text-anchor=\"middle\" y=\"134.5\">\n",
       "    <tspan class=\"displacy-word\" fill=\"currentColor\" x=\"1625\">River</tspan>\n",
       "    <tspan class=\"displacy-tag\" dy=\"2em\" fill=\"currentColor\" x=\"1625\"></tspan>\n",
       "</text>\n",
       "\n",
       "<text class=\"displacy-token\" fill=\"currentColor\" text-anchor=\"middle\" y=\"134.5\">\n",
       "    <tspan class=\"displacy-word\" fill=\"currentColor\" x=\"1800\">Thames</tspan>\n",
       "    <tspan class=\"displacy-tag\" dy=\"2em\" fill=\"currentColor\" x=\"1800\"></tspan>\n",
       "</text>\n",
       "\n",
       "<g class=\"displacy-arrow\">\n",
       "    <path class=\"displacy-arc\" id=\"arrow-9cb9f466d0e94f6c99e975a900a0a407-0-0\" stroke-width=\"2px\" d=\"M70,89.5 C70,2.0 1625.0,2.0 1625.0,89.5\" fill=\"none\" stroke=\"currentColor\"/>\n",
       "    <text dy=\"1.25em\" style=\"font-size: 0.8em; letter-spacing: 1px\">\n",
       "        <textPath xlink:href=\"#arrow-9cb9f466d0e94f6c99e975a900a0a407-0-0\" class=\"displacy-label\" startOffset=\"50%\" side=\"left\" fill=\"currentColor\" text-anchor=\"middle\">rel</textPath>\n",
       "    </text>\n",
       "    <path class=\"displacy-arrowhead\" d=\"M70,91.5 L62,79.5 78,79.5\" fill=\"currentColor\"/>\n",
       "</g>\n",
       "</svg></span>"
      ],
      "text/plain": [
       "<IPython.core.display.HTML object>"
      ]
     },
     "metadata": {},
     "output_type": "display_data"
    }
   ],
   "source": [
    "import spacy\n",
    "from spacy.tokens import Span\n",
    "from spacy import displacy\n",
    "\n",
    "def visualize_relation(text, relations):\n",
    "    nlp = spacy.blank(\"en\")\n",
    "    doc = nlp(text)\n",
    "\n",
    "    # Manually set dependency relations to visualize relations\n",
    "    for token in doc:\n",
    "        token.dep_ = \"dep\"  # default to 'dep'\n",
    "\n",
    "    spans = []\n",
    "    # Calculate character offsets for each entity\n",
    "    for rel in relations:\n",
    "        head = Span(doc, rel['head_pos'][0], rel['head_pos'][1], label=rel['head_text'])\n",
    "        tail = Span(doc, rel['tail_pos'][0], rel['tail_pos'][1], label=rel['tail_text'])\n",
    "\n",
    "        doc.ents += (head, tail)\n",
    "\n",
    "        # Mock dependencies\n",
    "        head_root = head.root\n",
    "        tail_root = tail.root\n",
    "\n",
    "        head_root.dep_ = \"rel\"  # Relation type can be customized\n",
    "        head_root.head = tail_root  # Point head to tail\n",
    "\n",
    "    options = {\"fine_grained\": True}\n",
    "    displacy.render(doc, style=\"dep\", options=options, jupyter=True)\n",
    "\n",
    "# Example data\n",
    "text = \"Binsey located in or next to body of water River Thames\"\n",
    "relations = [\n",
    "    {'head_pos': [0, 1], 'tail_pos': [9, 11], 'head_text': 'Binsey', 'tail_text': 'River Thames', 'label': 'located in or next to body of water', 'score': 0.9235768914222717},\n",
    "    # {'head_pos': [9, 11], 'tail_pos': [0, 1], 'head_text': 'River Thames', 'tail_text': 'Binsey', 'label': 'located in or next to body of water', 'score': 0.12615662813186646}\n",
    "]\n",
    "\n",
    "visualize_relation(text, relations)\n"
   ]
  },
  {
   "cell_type": "code",
   "execution_count": null,
   "metadata": {},
   "outputs": [],
   "source": []
  }
 ],
 "metadata": {
  "kernelspec": {
   "display_name": "gliner_dev",
   "language": "python",
   "name": "python3"
  },
  "language_info": {
   "codemirror_mode": {
    "name": "ipython",
    "version": 3
   },
   "file_extension": ".py",
   "mimetype": "text/x-python",
   "name": "python",
   "nbconvert_exporter": "python",
   "pygments_lexer": "ipython3",
   "version": "3.10.14"
  }
 },
 "nbformat": 4,
 "nbformat_minor": 2
}
