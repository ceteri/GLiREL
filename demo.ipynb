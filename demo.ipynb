{
 "cells": [
  {
   "cell_type": "markdown",
   "metadata": {},
   "source": [
    "# 🚞 Zero-shot RE Training"
   ]
  },
  {
   "cell_type": "code",
   "execution_count": 4,
   "metadata": {},
   "outputs": [
    {
     "name": "stdout",
     "output_type": "stream",
     "text": [
      "The autoreload extension is already loaded. To reload it, use:\n",
      "  %reload_ext autoreload\n"
     ]
    }
   ],
   "source": [
    "%load_ext autoreload\n",
    "%autoreload 2"
   ]
  },
  {
   "cell_type": "code",
   "execution_count": 5,
   "metadata": {},
   "outputs": [],
   "source": [
    "# # if you're running this in a colab notebook, you can run this cell to install the necessary dependencies\n",
    "# !git clone https://github.com/jackboyla/GLiREL.git\n",
    "# !cd GLiREL && pip install -e .\n",
    "# !python -m spacy download en_core_web_sm"
   ]
  },
  {
   "cell_type": "code",
   "execution_count": 6,
   "metadata": {},
   "outputs": [
    {
     "name": "stderr",
     "output_type": "stream",
     "text": [
      "config.json not found in /home/jackboylan/GLiREL/logs/zero_rel/zero_rel-2024-06-02__07-59-38/model_39000\n",
      "2024-06-03 16:13:12,801 - huggingface_hub.hub_mixin - WARNING - config.json not found in /home/jackboylan/GLiREL/logs/zero_rel/zero_rel-2024-06-02__07-59-38/model_39000\n"
     ]
    }
   ],
   "source": [
    "from glirel import GLiREL\n",
    "\n",
    "save_path = 'logs/zero_rel/zero_rel-2024-06-02__07-59-38/model_39000'\n",
    "model = GLiREL.from_pretrained(save_path)\n",
    "# model"
   ]
  },
  {
   "cell_type": "markdown",
   "metadata": {},
   "source": [
    "# Inference\n",
    "\n",
    "To infer, the model needs `tokens`, `NER`, and `zero shot labels`."
   ]
  },
  {
   "cell_type": "markdown",
   "metadata": {},
   "source": [
    "### Eval data"
   ]
  },
  {
   "cell_type": "code",
   "execution_count": 7,
   "metadata": {},
   "outputs": [
    {
     "name": "stdout",
     "output_type": "stream",
     "text": [
      "['Derren', 'Nesbitt', 'had', 'a', 'history', 'of', 'being', 'cast', 'in', '\"', 'Doctor', 'Who', '\"', ',', 'having', 'played', 'villainous', 'warlord', 'Tegana', 'in', 'the', '1964', 'First', 'Doctor', 'serial', '\"', 'Marco', 'Polo', '\"', '.']\n",
      "\n",
      "[[26, 28, 'Q2989881', 'Marco Polo'], [22, 24, 'Q2989412', 'First Doctor']]\n",
      "['characters']\n"
     ]
    }
   ],
   "source": [
    "import json\n",
    "with open('./data/few_rel_all.jsonl', 'r') as f:\n",
    "    data = [json.loads(line) for line in f]\n",
    "\n",
    "i = 0\n",
    "\n",
    "tokens = data[i]['tokenized_text']\n",
    "ner = data[i]['ner']\n",
    "labels = list(set([r['relation_text'] for r in data[i]['relations']]))\n",
    "print(tokens)\n",
    "print()\n",
    "print(ner)\n",
    "print(labels)"
   ]
  },
  {
   "cell_type": "code",
   "execution_count": 8,
   "metadata": {},
   "outputs": [
    {
     "name": "stdout",
     "output_type": "stream",
     "text": [
      "['country of origin', 'licensed to broadcast to', 'father', 'followed by', 'characters']\n"
     ]
    }
   ],
   "source": [
    "labels = ['country of origin', 'licensed to broadcast to', 'father', 'followed by'] + labels\n",
    "print(labels)"
   ]
  },
  {
   "cell_type": "code",
   "execution_count": 9,
   "metadata": {},
   "outputs": [
    {
     "name": "stdout",
     "output_type": "stream",
     "text": [
      "Number of relations: 6\n",
      "\n",
      "Descending Order by Score:\n",
      "{'head_pos': [22, 24], 'tail_pos': [26, 28], 'head_text': ['First', 'Doctor'], 'tail_text': ['Marco', 'Polo'], 'label': 'characters', 'score': 0.06290033459663391}\n",
      "{'head_pos': [26, 28], 'tail_pos': [22, 24], 'head_text': ['Marco', 'Polo'], 'tail_text': ['First', 'Doctor'], 'label': 'characters', 'score': 0.06271035224199295}\n",
      "{'head_pos': [26, 28], 'tail_pos': [22, 24], 'head_text': ['Marco', 'Polo'], 'tail_text': ['First', 'Doctor'], 'label': 'followed by', 'score': 0.017688073217868805}\n",
      "{'head_pos': [22, 24], 'tail_pos': [26, 28], 'head_text': ['First', 'Doctor'], 'tail_text': ['Marco', 'Polo'], 'label': 'followed by', 'score': 0.01758633926510811}\n",
      "{'head_pos': [26, 28], 'tail_pos': [22, 24], 'head_text': ['Marco', 'Polo'], 'tail_text': ['First', 'Doctor'], 'label': 'father', 'score': 0.012392115779221058}\n",
      "{'head_pos': [22, 24], 'tail_pos': [26, 28], 'head_text': ['First', 'Doctor'], 'tail_text': ['Marco', 'Polo'], 'label': 'father', 'score': 0.012201717123389244}\n"
     ]
    }
   ],
   "source": [
    "relations = model.predict_relations(tokens, labels, threshold=0.01, ner=ner)\n",
    "\n",
    "print('Number of relations:', len(relations))  # num entity pairs (both directions) * num classes.... provided they're over the threshold\n",
    "\n",
    "sorted_data_desc = sorted(relations, key=lambda x: x['score'], reverse=True)\n",
    "print(\"\\nDescending Order by Score:\")\n",
    "for item in sorted_data_desc:\n",
    "    print(item)"
   ]
  },
  {
   "cell_type": "markdown",
   "metadata": {},
   "source": [
    "### Real-world example"
   ]
  },
  {
   "cell_type": "code",
   "execution_count": 13,
   "metadata": {},
   "outputs": [
    {
     "name": "stdout",
     "output_type": "stream",
     "text": [
      "Text: Apple Inc. was founded by Steve Jobs, Steve Wozniak, and Ronald Wayne in April 1976. The company is headquartered in Cupertino, California.\n",
      "Entities detected: [[0, 2, 'ORG', 'Apple Inc.'], [5, 7, 'PERSON', 'Steve Jobs'], [8, 10, 'PERSON', 'Steve Wozniak'], [12, 14, 'PERSON', 'Ronald Wayne'], [15, 17, 'DATE', 'April 1976'], [23, 24, 'GPE', 'Cupertino'], [25, 26, 'GPE', 'California']]\n",
      "Number of relations: 42\n",
      "\n",
      "Descending Order by Score:\n",
      "['Steve', 'Jobs'] --> headquartered in --> ['Cupertino'] | score: 0.9002836346626282\n",
      "['Steve', 'Jobs'] --> headquartered in --> ['California'] | score: 0.8964382410049438\n",
      "['Steve', 'Wozniak'] --> headquartered in --> ['Cupertino'] | score: 0.8919743299484253\n",
      "['Steve', 'Wozniak'] --> headquartered in --> ['California'] | score: 0.888839840888977\n",
      "['Apple', 'Inc.'] --> headquartered in --> ['Cupertino'] | score: 0.8876587748527527\n",
      "['Apple', 'Inc.'] --> headquartered in --> ['California'] | score: 0.8779582381248474\n",
      "['Cupertino'] --> headquartered in --> ['Steve', 'Jobs'] | score: 0.8444250822067261\n",
      "['California'] --> headquartered in --> ['Steve', 'Jobs'] | score: 0.8379043936729431\n",
      "['Cupertino'] --> headquartered in --> ['Apple', 'Inc.'] | score: 0.8304458856582642\n",
      "['Cupertino'] --> headquartered in --> ['California'] | score: 0.8277337551116943\n",
      "['California'] --> headquartered in --> ['Cupertino'] | score: 0.825127124786377\n",
      "['Ronald', 'Wayne'] --> headquartered in --> ['California'] | score: 0.8249913454055786\n",
      "['Cupertino'] --> headquartered in --> ['Steve', 'Wozniak'] | score: 0.8202585577964783\n",
      "['Ronald', 'Wayne'] --> headquartered in --> ['Cupertino'] | score: 0.8176149725914001\n",
      "['California'] --> headquartered in --> ['Apple', 'Inc.'] | score: 0.8172692060470581\n",
      "['California'] --> headquartered in --> ['Steve', 'Wozniak'] | score: 0.8146849274635315\n",
      "['April', '1976'] --> headquartered in --> ['Cupertino'] | score: 0.7865687608718872\n",
      "['April', '1976'] --> headquartered in --> ['California'] | score: 0.7660194039344788\n",
      "['April', '1976'] --> founder --> ['Ronald', 'Wayne'] | score: 0.7015038728713989\n",
      "['Cupertino'] --> headquartered in --> ['April', '1976'] | score: 0.6581650972366333\n",
      "['Apple', 'Inc.'] --> founder --> ['Ronald', 'Wayne'] | score: 0.6464535593986511\n",
      "['California'] --> headquartered in --> ['Ronald', 'Wayne'] | score: 0.6395562291145325\n",
      "['Apple', 'Inc.'] --> founder --> ['Steve', 'Jobs'] | score: 0.6386523246765137\n",
      "['Apple', 'Inc.'] --> founder --> ['Steve', 'Wozniak'] | score: 0.6378927230834961\n",
      "['California'] --> headquartered in --> ['April', '1976'] | score: 0.6355636119842529\n",
      "['Cupertino'] --> headquartered in --> ['Ronald', 'Wayne'] | score: 0.6218078136444092\n",
      "['April', '1976'] --> founder --> ['Steve', 'Wozniak'] | score: 0.5950607657432556\n",
      "['Steve', 'Jobs'] --> founder --> ['Ronald', 'Wayne'] | score: 0.5897735953330994\n",
      "['April', '1976'] --> founder --> ['Steve', 'Jobs'] | score: 0.5642319321632385\n",
      "['Steve', 'Wozniak'] --> founder --> ['Ronald', 'Wayne'] | score: 0.5632927417755127\n",
      "['Ronald', 'Wayne'] --> founder --> ['Steve', 'Jobs'] | score: 0.5397118330001831\n",
      "['Steve', 'Jobs'] --> founder --> ['Apple', 'Inc.'] | score: 0.5395198464393616\n",
      "['Steve', 'Wozniak'] --> founder --> ['Apple', 'Inc.'] | score: 0.5344420671463013\n",
      "['Ronald', 'Wayne'] --> founder --> ['Steve', 'Wozniak'] | score: 0.5197508931159973\n",
      "['Ronald', 'Wayne'] --> founder --> ['Apple', 'Inc.'] | score: 0.5158081650733948\n",
      "['Steve', 'Wozniak'] --> founder --> ['Steve', 'Jobs'] | score: 0.5010665655136108\n",
      "['Steve', 'Jobs'] --> founder --> ['Steve', 'Wozniak'] | score: 0.5000602602958679\n",
      "['April', '1976'] --> founder --> ['Apple', 'Inc.'] | score: 0.39245840907096863\n",
      "['Ronald', 'Wayne'] --> founder --> ['April', '1976'] | score: 0.17637228965759277\n",
      "['Apple', 'Inc.'] --> headquartered in --> ['April', '1976'] | score: 0.1451190710067749\n",
      "['Steve', 'Wozniak'] --> no relation --> ['April', '1976'] | score: 0.1360974907875061\n",
      "['Steve', 'Jobs'] --> no relation --> ['April', '1976'] | score: 0.12953899800777435\n"
     ]
    }
   ],
   "source": [
    "# Real-world example\n",
    "import spacy\n",
    "nlp = spacy.load('en_core_web_sm')\n",
    "\n",
    "text = \"Apple Inc. was founded by Steve Jobs, Steve Wozniak, and Ronald Wayne in April 1976. The company is headquartered in Cupertino, California.\"\n",
    "\n",
    "# text = \"Jack Dorsey's father, Tim Dorsey, is a licensed pilot. Jack met his wife Sarah Paulson in New York in 2003. They have one son, Edward.\"\n",
    "\n",
    "labels = [\n",
    "    'co-founder', \n",
    "    'country of origin', \n",
    "    'licensed to broadcast to', \n",
    "    'no relation', \n",
    "    'parent', \n",
    "    'followed by', \n",
    "    'located in or next to body of water', \n",
    "    'spouse', \n",
    "    'child', \n",
    "    'founder', \n",
    "    'headquartered in', \n",
    "    'acquired by', \n",
    "    'subsidiary of'\n",
    "    ]\n",
    "\n",
    "\n",
    "\n",
    "def predict_and_show(text, labels):\n",
    "    doc = nlp(text)\n",
    "    print(f\"Text: {text}\")\n",
    "\n",
    "    tokens = [token.text for token in doc]\n",
    "\n",
    "    # NOTE: the end index should be inclusive\n",
    "    ner = [[ent.start, (ent.end - 1), ent.label_, ent.text] for ent in doc.ents]\n",
    "    print(f\"Entities detected: {ner}\")\n",
    "\n",
    "    relations = model.predict_relations(tokens, labels, threshold=0.0, ner=ner, top_k=1)\n",
    "\n",
    "    print('Number of relations:', len(relations))\n",
    "\n",
    "    sorted_data_desc = sorted(relations, key=lambda x: x['score'], reverse=True)\n",
    "    print(\"\\nDescending Order by Score:\")\n",
    "    for item in sorted_data_desc:\n",
    "        print(f\"{item['head_text']} --> {item['label']} --> {item['tail_text']} | score: {item['score']}\")\n",
    "\n",
    "predict_and_show(text, labels)"
   ]
  },
  {
   "cell_type": "code",
   "execution_count": 11,
   "metadata": {},
   "outputs": [
    {
     "name": "stdout",
     "output_type": "stream",
     "text": [
      "Text: Jack knows Gill. They live in the same house in London. They are not related.\n",
      "Entities detected: [[0, 1, 'PERSON', 'Jack'], [2, 3, 'PERSON', 'Gill'], [11, 12, 'GPE', 'London']]\n",
      "Number of relations: 6\n",
      "\n",
      "Descending Order by Score:\n",
      "['Jack'] --> lives in --> ['London'] | score: 0.8900772929191589\n",
      "['Gill'] --> lives in --> ['London'] | score: 0.8764218688011169\n",
      "['London'] --> lives in --> ['Jack'] | score: 0.7262811064720154\n",
      "['London'] --> lives in --> ['Gill'] | score: 0.663715660572052\n",
      "['Jack'] --> knows --> ['Gill'] | score: 0.5179734826087952\n",
      "['Gill'] --> knows --> ['Jack'] | score: 0.5167464017868042\n"
     ]
    }
   ],
   "source": [
    "text = \"Jack knows Gill. They live in the same house in London. They are not related.\"\n",
    "labels = ['family relation', 'knows', 'lives with', 'loves', 'licensed to broadcast to', 'father', 'followed by', 'no relation', 'lives in',]\n",
    "predict_and_show(text, labels)"
   ]
  },
  {
   "cell_type": "code",
   "execution_count": 12,
   "metadata": {},
   "outputs": [
    {
     "data": {
      "text/html": [
       "<span class=\"tex2jax_ignore\"><svg xmlns=\"http://www.w3.org/2000/svg\" xmlns:xlink=\"http://www.w3.org/1999/xlink\" xml:lang=\"en\" id=\"50d83eb205bc4e8a8528cbb70e8dda11-0\" class=\"displacy\" width=\"1975\" height=\"224.5\" direction=\"ltr\" style=\"max-width: none; height: 224.5px; color: #000000; background: #ffffff; font-family: Arial; direction: ltr\">\n",
       "<text class=\"displacy-token\" fill=\"currentColor\" text-anchor=\"middle\" y=\"134.5\">\n",
       "    <tspan class=\"displacy-word\" fill=\"currentColor\" x=\"50\">Binsey</tspan>\n",
       "    <tspan class=\"displacy-tag\" dy=\"2em\" fill=\"currentColor\" x=\"50\"></tspan>\n",
       "</text>\n",
       "\n",
       "<text class=\"displacy-token\" fill=\"currentColor\" text-anchor=\"middle\" y=\"134.5\">\n",
       "    <tspan class=\"displacy-word\" fill=\"currentColor\" x=\"225\">located</tspan>\n",
       "    <tspan class=\"displacy-tag\" dy=\"2em\" fill=\"currentColor\" x=\"225\"></tspan>\n",
       "</text>\n",
       "\n",
       "<text class=\"displacy-token\" fill=\"currentColor\" text-anchor=\"middle\" y=\"134.5\">\n",
       "    <tspan class=\"displacy-word\" fill=\"currentColor\" x=\"400\">in</tspan>\n",
       "    <tspan class=\"displacy-tag\" dy=\"2em\" fill=\"currentColor\" x=\"400\"></tspan>\n",
       "</text>\n",
       "\n",
       "<text class=\"displacy-token\" fill=\"currentColor\" text-anchor=\"middle\" y=\"134.5\">\n",
       "    <tspan class=\"displacy-word\" fill=\"currentColor\" x=\"575\">or</tspan>\n",
       "    <tspan class=\"displacy-tag\" dy=\"2em\" fill=\"currentColor\" x=\"575\"></tspan>\n",
       "</text>\n",
       "\n",
       "<text class=\"displacy-token\" fill=\"currentColor\" text-anchor=\"middle\" y=\"134.5\">\n",
       "    <tspan class=\"displacy-word\" fill=\"currentColor\" x=\"750\">next</tspan>\n",
       "    <tspan class=\"displacy-tag\" dy=\"2em\" fill=\"currentColor\" x=\"750\"></tspan>\n",
       "</text>\n",
       "\n",
       "<text class=\"displacy-token\" fill=\"currentColor\" text-anchor=\"middle\" y=\"134.5\">\n",
       "    <tspan class=\"displacy-word\" fill=\"currentColor\" x=\"925\">to</tspan>\n",
       "    <tspan class=\"displacy-tag\" dy=\"2em\" fill=\"currentColor\" x=\"925\"></tspan>\n",
       "</text>\n",
       "\n",
       "<text class=\"displacy-token\" fill=\"currentColor\" text-anchor=\"middle\" y=\"134.5\">\n",
       "    <tspan class=\"displacy-word\" fill=\"currentColor\" x=\"1100\">body</tspan>\n",
       "    <tspan class=\"displacy-tag\" dy=\"2em\" fill=\"currentColor\" x=\"1100\"></tspan>\n",
       "</text>\n",
       "\n",
       "<text class=\"displacy-token\" fill=\"currentColor\" text-anchor=\"middle\" y=\"134.5\">\n",
       "    <tspan class=\"displacy-word\" fill=\"currentColor\" x=\"1275\">of</tspan>\n",
       "    <tspan class=\"displacy-tag\" dy=\"2em\" fill=\"currentColor\" x=\"1275\"></tspan>\n",
       "</text>\n",
       "\n",
       "<text class=\"displacy-token\" fill=\"currentColor\" text-anchor=\"middle\" y=\"134.5\">\n",
       "    <tspan class=\"displacy-word\" fill=\"currentColor\" x=\"1450\">water</tspan>\n",
       "    <tspan class=\"displacy-tag\" dy=\"2em\" fill=\"currentColor\" x=\"1450\"></tspan>\n",
       "</text>\n",
       "\n",
       "<text class=\"displacy-token\" fill=\"currentColor\" text-anchor=\"middle\" y=\"134.5\">\n",
       "    <tspan class=\"displacy-word\" fill=\"currentColor\" x=\"1625\">River</tspan>\n",
       "    <tspan class=\"displacy-tag\" dy=\"2em\" fill=\"currentColor\" x=\"1625\"></tspan>\n",
       "</text>\n",
       "\n",
       "<text class=\"displacy-token\" fill=\"currentColor\" text-anchor=\"middle\" y=\"134.5\">\n",
       "    <tspan class=\"displacy-word\" fill=\"currentColor\" x=\"1800\">Thames</tspan>\n",
       "    <tspan class=\"displacy-tag\" dy=\"2em\" fill=\"currentColor\" x=\"1800\"></tspan>\n",
       "</text>\n",
       "\n",
       "<g class=\"displacy-arrow\">\n",
       "    <path class=\"displacy-arc\" id=\"arrow-50d83eb205bc4e8a8528cbb70e8dda11-0-0\" stroke-width=\"2px\" d=\"M70,89.5 C70,2.0 1625.0,2.0 1625.0,89.5\" fill=\"none\" stroke=\"currentColor\"/>\n",
       "    <text dy=\"1.25em\" style=\"font-size: 0.8em; letter-spacing: 1px\">\n",
       "        <textPath xlink:href=\"#arrow-50d83eb205bc4e8a8528cbb70e8dda11-0-0\" class=\"displacy-label\" startOffset=\"50%\" side=\"left\" fill=\"currentColor\" text-anchor=\"middle\">rel</textPath>\n",
       "    </text>\n",
       "    <path class=\"displacy-arrowhead\" d=\"M70,91.5 L62,79.5 78,79.5\" fill=\"currentColor\"/>\n",
       "</g>\n",
       "</svg></span>"
      ],
      "text/plain": [
       "<IPython.core.display.HTML object>"
      ]
     },
     "metadata": {},
     "output_type": "display_data"
    }
   ],
   "source": [
    "import spacy\n",
    "from spacy.tokens import Span\n",
    "from spacy import displacy\n",
    "\n",
    "def visualize_relation(text, relations):\n",
    "    nlp = spacy.blank(\"en\")\n",
    "    doc = nlp(text)\n",
    "\n",
    "    # Manually set dependency relations to visualize relations\n",
    "    for token in doc:\n",
    "        token.dep_ = \"dep\"  # default to 'dep'\n",
    "\n",
    "    spans = []\n",
    "    # Calculate character offsets for each entity\n",
    "    for rel in relations:\n",
    "        head = Span(doc, rel['head_pos'][0], rel['head_pos'][1], label=rel['head_text'])\n",
    "        tail = Span(doc, rel['tail_pos'][0], rel['tail_pos'][1], label=rel['tail_text'])\n",
    "\n",
    "        doc.ents += (head, tail)\n",
    "\n",
    "        # Mock dependencies\n",
    "        head_root = head.root\n",
    "        tail_root = tail.root\n",
    "\n",
    "        head_root.dep_ = \"rel\"  # Relation type can be customized\n",
    "        head_root.head = tail_root  # Point head to tail\n",
    "\n",
    "    options = {\"fine_grained\": True}\n",
    "    displacy.render(doc, style=\"dep\", options=options, jupyter=True)\n",
    "\n",
    "# Example data\n",
    "text = \"Binsey located in or next to body of water River Thames\"\n",
    "relations = [\n",
    "    {'head_pos': [0, 1], 'tail_pos': [9, 11], 'head_text': 'Binsey', 'tail_text': 'River Thames', 'label': 'located in or next to body of water', 'score': 0.9235768914222717},\n",
    "    # {'head_pos': [9, 11], 'tail_pos': [0, 1], 'head_text': 'River Thames', 'tail_text': 'Binsey', 'label': 'located in or next to body of water', 'score': 0.12615662813186646}\n",
    "]\n",
    "\n",
    "visualize_relation(text, relations)\n"
   ]
  },
  {
   "cell_type": "code",
   "execution_count": null,
   "metadata": {},
   "outputs": [],
   "source": []
  }
 ],
 "metadata": {
  "kernelspec": {
   "display_name": "gliner_dev",
   "language": "python",
   "name": "python3"
  },
  "language_info": {
   "codemirror_mode": {
    "name": "ipython",
    "version": 3
   },
   "file_extension": ".py",
   "mimetype": "text/x-python",
   "name": "python",
   "nbconvert_exporter": "python",
   "pygments_lexer": "ipython3",
   "version": "3.10.14"
  }
 },
 "nbformat": 4,
 "nbformat_minor": 2
}
