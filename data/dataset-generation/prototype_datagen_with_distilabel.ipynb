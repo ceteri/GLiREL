{
 "cells": [
  {
   "cell_type": "code",
   "execution_count": 21,
   "metadata": {},
   "outputs": [],
   "source": [
    "from distilabel.llms import OpenAILLM\n",
    "from distilabel.pipeline import Pipeline\n",
    "from distilabel.steps import LoadHubDataset, LoadDataFromDicts\n",
    "from distilabel.steps.tasks import TextGeneration"
   ]
  },
  {
   "cell_type": "code",
   "execution_count": 4,
   "metadata": {},
   "outputs": [],
   "source": [
    "# !wget https://huggingface.co/datasets/urchade/pile-mistral-v0.1/resolve/main/data.json?download=true -O pile-mistral-v0.1.json"
   ]
  },
  {
   "cell_type": "code",
   "execution_count": 24,
   "metadata": {},
   "outputs": [
    {
     "name": "stdout",
     "output_type": "stream",
     "text": [
      "Collecting openai\n",
      "  Downloading openai-1.23.2-py3-none-any.whl.metadata (21 kB)\n",
      "Requirement already satisfied: anyio<5,>=3.5.0 in /home/demiangholipour/miniconda3/envs/glirel/lib/python3.10/site-packages (from openai) (4.3.0)\n",
      "Collecting distro<2,>=1.7.0 (from openai)\n",
      "  Using cached distro-1.9.0-py3-none-any.whl.metadata (6.8 kB)\n",
      "Requirement already satisfied: httpx<1,>=0.23.0 in /home/demiangholipour/miniconda3/envs/glirel/lib/python3.10/site-packages (from openai) (0.27.0)\n",
      "Requirement already satisfied: pydantic<3,>=1.9.0 in /home/demiangholipour/miniconda3/envs/glirel/lib/python3.10/site-packages (from openai) (2.7.1)\n",
      "Requirement already satisfied: sniffio in /home/demiangholipour/miniconda3/envs/glirel/lib/python3.10/site-packages (from openai) (1.3.1)\n",
      "Requirement already satisfied: tqdm>4 in /home/demiangholipour/miniconda3/envs/glirel/lib/python3.10/site-packages (from openai) (4.66.2)\n",
      "Requirement already satisfied: typing-extensions<5,>=4.7 in /home/demiangholipour/miniconda3/envs/glirel/lib/python3.10/site-packages (from openai) (4.11.0)\n",
      "Requirement already satisfied: idna>=2.8 in /home/demiangholipour/miniconda3/envs/glirel/lib/python3.10/site-packages (from anyio<5,>=3.5.0->openai) (3.7)\n",
      "Requirement already satisfied: exceptiongroup>=1.0.2 in /home/demiangholipour/miniconda3/envs/glirel/lib/python3.10/site-packages (from anyio<5,>=3.5.0->openai) (1.2.0)\n",
      "Requirement already satisfied: certifi in /home/demiangholipour/miniconda3/envs/glirel/lib/python3.10/site-packages (from httpx<1,>=0.23.0->openai) (2024.2.2)\n",
      "Requirement already satisfied: httpcore==1.* in /home/demiangholipour/miniconda3/envs/glirel/lib/python3.10/site-packages (from httpx<1,>=0.23.0->openai) (1.0.5)\n",
      "Requirement already satisfied: h11<0.15,>=0.13 in /home/demiangholipour/miniconda3/envs/glirel/lib/python3.10/site-packages (from httpcore==1.*->httpx<1,>=0.23.0->openai) (0.14.0)\n",
      "Requirement already satisfied: annotated-types>=0.4.0 in /home/demiangholipour/miniconda3/envs/glirel/lib/python3.10/site-packages (from pydantic<3,>=1.9.0->openai) (0.6.0)\n",
      "Requirement already satisfied: pydantic-core==2.18.2 in /home/demiangholipour/miniconda3/envs/glirel/lib/python3.10/site-packages (from pydantic<3,>=1.9.0->openai) (2.18.2)\n",
      "Downloading openai-1.23.2-py3-none-any.whl (311 kB)\n",
      "\u001b[2K   \u001b[90m━━━━━━━━━━━━━━━━━━━━━━━━━━━━━━━━━━━━━━━━\u001b[0m \u001b[32m311.2/311.2 kB\u001b[0m \u001b[31m9.4 MB/s\u001b[0m eta \u001b[36m0:00:00\u001b[0m\n",
      "\u001b[?25hUsing cached distro-1.9.0-py3-none-any.whl (20 kB)\n",
      "Installing collected packages: distro, openai\n",
      "Successfully installed distro-1.9.0 openai-1.23.2\n"
     ]
    }
   ],
   "source": [
    "# !pip install openai"
   ]
  },
  {
   "cell_type": "code",
   "execution_count": 6,
   "metadata": {},
   "outputs": [
    {
     "name": "stdout",
     "output_type": "stream",
     "text": [
      "Token has not been saved to git credential helper. Pass `add_to_git_credential=True` if you want to set the git credential as well.\n",
      "Token is valid (permission: read).\n",
      "Your token has been saved to /home/demiangholipour/.cache/huggingface/token\n",
      "Login successful\n"
     ]
    }
   ],
   "source": [
    "import huggingface_hub\n",
    "# from google.colab import userdata\n",
    "huggingface_hub.login(token='<token>') "
   ]
  },
  {
   "cell_type": "code",
   "execution_count": 13,
   "metadata": {},
   "outputs": [
    {
     "data": {
      "text/plain": [
       "19783"
      ]
     },
     "execution_count": 13,
     "metadata": {},
     "output_type": "execute_result"
    }
   ],
   "source": [
    "with open('pile-mistral-v0.1.json') as f:\n",
    "    data = json.load(f)\n",
    "for x in data:\n",
    "    x[\"text\"] = \" \".join(x[\"tokenized_text\"])\n",
    "len(data)"
   ]
  },
  {
   "cell_type": "code",
   "execution_count": 15,
   "metadata": {},
   "outputs": [
    {
     "data": {
      "text/plain": [
       "\"Historic shipwreck identified in Lake Michigan MUSKEGON – The bottom of Lake Michigan is literally a graveyard of shipwrecks . Local maritime historians say 1 , 200 of the 2 , 000 sunken vessels in Lake Michigan no longer exist because they hit shore and broke apart . Experts add that about 360 wrecks have been found in the lake ' s deeper water , but there are still many wrecks out there that remain undiscovered . A group of explorers recently found a historic steamship off the coast of Muskegon more than a century after it sank . Members of the Michigan Shipwreck Research Association say this is one of the deepest wrecks ever discovered in Lake Michigan . The story begins around midnight on Feb . 9 , 1899 . Lake Michigan was ice-caked and the 214-foot John V . Moran bucked the ice floes on its run from Milwaukee to Muskegon to deliver a cargo of barreled flour and package goods . The ship was only 11 years old and had an iron-reinforced hull for winter transit , but the conditions on this particular day were too much for the steamer . Ice struck a hole in the hull and water began pouring in . Capt . John McLeod dumped as much of the cargo as he could to lighten the load and try to keep the ship afloat , but it began slipping underneath the ice .\""
      ]
     },
     "execution_count": 15,
     "metadata": {},
     "output_type": "execute_result"
    }
   ],
   "source": [
    "data[0]['text']"
   ]
  },
  {
   "cell_type": "code",
   "execution_count": 19,
   "metadata": {},
   "outputs": [],
   "source": [
    "template = \"\"\"\n",
    "Extract all relations between the given entities in the below text, if a relationship exists.\n",
    "Return your anwer in JSON format with keys `head`, `tail`, and `relation`.\\n\\nEntities: {ner}\\n\\nText: {text}\n",
    "\"\"\".strip()\n",
    "\n",
    "DATA = [\n",
    "    template.format(**item) for item in data[:10]\n",
    "]"
   ]
  },
  {
   "cell_type": "code",
   "execution_count": 20,
   "metadata": {},
   "outputs": [
    {
     "name": "stdout",
     "output_type": "stream",
     "text": [
      "Extract all relations between the given entities in the below text, if a relationship exists.\n",
      "Return your anwer in JSON format with keys `head`, `tail`, and `relation`.\n",
      "\n",
      "Entities: [[139, 142, 'Steamer'], [208, 211, 'Captain'], [126, 130, 'Date'], [151, 151, 'Location'], [6, 6, 'Location'], [90, 90, 'Location'], [153, 153, 'Location'], [4, 5, 'Location'], [11, 12, 'Location'], [35, 36, 'Location'], [117, 118, 'Location'], [132, 133, 'Location'], [138, 138, 'Quantity'], [26, 26, 'Quantity'], [24, 26, 'Quantity'], [29, 31, 'Quantity'], [102, 105, 'Organization']]\n",
      "\n",
      "Text: Historic shipwreck identified in Lake Michigan MUSKEGON – The bottom of Lake Michigan is literally a graveyard of shipwrecks . Local maritime historians say 1 , 200 of the 2 , 000 sunken vessels in Lake Michigan no longer exist because they hit shore and broke apart . Experts add that about 360 wrecks have been found in the lake ' s deeper water , but there are still many wrecks out there that remain undiscovered . A group of explorers recently found a historic steamship off the coast of Muskegon more than a century after it sank . Members of the Michigan Shipwreck Research Association say this is one of the deepest wrecks ever discovered in Lake Michigan . The story begins around midnight on Feb . 9 , 1899 . Lake Michigan was ice-caked and the 214-foot John V . Moran bucked the ice floes on its run from Milwaukee to Muskegon to deliver a cargo of barreled flour and package goods . The ship was only 11 years old and had an iron-reinforced hull for winter transit , but the conditions on this particular day were too much for the steamer . Ice struck a hole in the hull and water began pouring in . Capt . John McLeod dumped as much of the cargo as he could to lighten the load and try to keep the ship afloat , but it began slipping underneath the ice .\n"
     ]
    }
   ],
   "source": [
    "print(DATA[0])"
   ]
  },
  {
   "cell_type": "code",
   "execution_count": 48,
   "metadata": {},
   "outputs": [],
   "source": [
    "llm = OpenAILLM(model=\"gpt-3.5-turbo\")"
   ]
  },
  {
   "cell_type": "code",
   "execution_count": 51,
   "metadata": {},
   "outputs": [
    {
     "data": {
      "text/plain": [
       "['__abstractmethods__',\n",
       " '__annotations__',\n",
       " '__class__',\n",
       " '__class_getitem__',\n",
       " '__class_vars__',\n",
       " '__copy__',\n",
       " '__deepcopy__',\n",
       " '__del__',\n",
       " '__delattr__',\n",
       " '__dict__',\n",
       " '__dir__',\n",
       " '__doc__',\n",
       " '__eq__',\n",
       " '__fields__',\n",
       " '__fields_set__',\n",
       " '__format__',\n",
       " '__ge__',\n",
       " '__get_pydantic_core_schema__',\n",
       " '__get_pydantic_json_schema__',\n",
       " '__getattr__',\n",
       " '__getattribute__',\n",
       " '__getstate__',\n",
       " '__gt__',\n",
       " '__hash__',\n",
       " '__init__',\n",
       " '__init_subclass__',\n",
       " '__iter__',\n",
       " '__le__',\n",
       " '__lt__',\n",
       " '__module__',\n",
       " '__ne__',\n",
       " '__new__',\n",
       " '__pretty__',\n",
       " '__private_attributes__',\n",
       " '__pydantic_complete__',\n",
       " '__pydantic_core_schema__',\n",
       " '__pydantic_custom_init__',\n",
       " '__pydantic_decorators__',\n",
       " '__pydantic_extra__',\n",
       " '__pydantic_fields_set__',\n",
       " '__pydantic_generic_metadata__',\n",
       " '__pydantic_init_subclass__',\n",
       " '__pydantic_parent_namespace__',\n",
       " '__pydantic_post_init__',\n",
       " '__pydantic_private__',\n",
       " '__pydantic_root_model__',\n",
       " '__pydantic_serializer__',\n",
       " '__pydantic_validator__',\n",
       " '__reduce__',\n",
       " '__reduce_ex__',\n",
       " '__repr__',\n",
       " '__repr_args__',\n",
       " '__repr_name__',\n",
       " '__repr_str__',\n",
       " '__rich_repr__',\n",
       " '__setattr__',\n",
       " '__setstate__',\n",
       " '__signature__',\n",
       " '__sizeof__',\n",
       " '__slots__',\n",
       " '__str__',\n",
       " '__subclasshook__',\n",
       " '__weakref__',\n",
       " '_abc_impl',\n",
       " '_calculate_keys',\n",
       " '_check_frozen',\n",
       " '_copy_and_set_values',\n",
       " '_get_value',\n",
       " '_iter',\n",
       " '_model_dump',\n",
       " '_type_info',\n",
       " 'agenerate',\n",
       " 'api_key',\n",
       " 'base_url',\n",
       " 'construct',\n",
       " 'copy',\n",
       " 'dict',\n",
       " 'dump',\n",
       " 'event_loop',\n",
       " 'from_dict',\n",
       " 'from_file',\n",
       " 'from_json',\n",
       " 'from_orm',\n",
       " 'from_yaml',\n",
       " 'generate',\n",
       " 'generate_parameters',\n",
       " 'generate_parsed_docstring',\n",
       " 'generation_kwargs',\n",
       " 'get_last_hidden_states',\n",
       " 'get_runtime_parameters_info',\n",
       " 'json',\n",
       " 'load',\n",
       " 'max_retries',\n",
       " 'model',\n",
       " 'model_computed_fields',\n",
       " 'model_config',\n",
       " 'model_construct',\n",
       " 'model_copy',\n",
       " 'model_dump',\n",
       " 'model_dump_json',\n",
       " 'model_extra',\n",
       " 'model_fields',\n",
       " 'model_fields_set',\n",
       " 'model_json_schema',\n",
       " 'model_name',\n",
       " 'model_parametrized_name',\n",
       " 'model_post_init',\n",
       " 'model_rebuild',\n",
       " 'model_validate',\n",
       " 'model_validate_json',\n",
       " 'model_validate_strings',\n",
       " 'parse_file',\n",
       " 'parse_obj',\n",
       " 'parse_raw',\n",
       " 'runtime_parameters_names',\n",
       " 'save',\n",
       " 'schema',\n",
       " 'schema_json',\n",
       " 'set_runtime_parameters',\n",
       " 'timeout',\n",
       " 'update_forward_refs',\n",
       " 'validate']"
      ]
     },
     "execution_count": 51,
     "metadata": {},
     "output_type": "execute_result"
    }
   ],
   "source": [
    "dir(llm)"
   ]
  },
  {
   "cell_type": "code",
   "execution_count": 22,
   "metadata": {},
   "outputs": [],
   "source": [
    "with Pipeline(\n",
    "    name=\"simple-text-generation-pipeline\",\n",
    "    description=\"A simple text generation pipeline\",\n",
    ") as pipeline:\n",
    "    # load_dataset = LoadHubDataset(\n",
    "    #     name=\"load_dataset\",\n",
    "    #     output_mappings={\"prompt\": \"instruction\"},\n",
    "    # )\n",
    "    load_dataset = LoadDataFromDicts(\n",
    "        name=\"load_data\",\n",
    "        data=[\n",
    "            {\n",
    "                \"instruction\": sample,\n",
    "            } for sample in DATA\n",
    "        ],\n",
    "        batch_size=1,\n",
    "    )\n",
    "    generate_with_openai = TextGeneration(\n",
    "        name=\"generate_with_gpt35\", llm=OpenAILLM(model=\"gpt-3.5-turbo\")\n",
    "    )\n",
    "    load_dataset.connect(generate_with_openai)\n"
   ]
  },
  {
   "cell_type": "code",
   "execution_count": 25,
   "metadata": {},
   "outputs": [
    {
     "data": {
      "text/html": [
       "<pre style=\"white-space:pre;overflow-x:auto;line-height:normal;font-family:Menlo,'DejaVu Sans Mono',consolas,'Courier New',monospace\"><span style=\"color: #7fbfbf; text-decoration-color: #7fbfbf\">[04/23/24 14:59:36] </span><span style=\"color: #000080; text-decoration-color: #000080\">INFO    </span> <span style=\"font-weight: bold\">[</span><span style=\"color: #008000; text-decoration-color: #008000\">'distilabel.pipeline.local'</span><span style=\"font-weight: bold\">]</span> 📝 Pipeline data will be written to         <a href=\"file:///home/demiangholipour/miniconda3/envs/glirel/lib/python3.10/site-packages/distilabel/pipeline/local.py\" target=\"_blank\"><span style=\"color: #7f7f7f; text-decoration-color: #7f7f7f\">local.py</span></a><span style=\"color: #7f7f7f; text-decoration-color: #7f7f7f\">:</span><a href=\"file:///home/demiangholipour/miniconda3/envs/glirel/lib/python3.10/site-packages/distilabel/pipeline/local.py#113\" target=\"_blank\"><span style=\"color: #7f7f7f; text-decoration-color: #7f7f7f\">113</span></a>\n",
       "<span style=\"color: #7fbfbf; text-decoration-color: #7fbfbf\">                    </span>         <span style=\"color: #008000; text-decoration-color: #008000\">'/home/demiangholipour/.cache/distilabel/pipelines/b19c2d04bd92b8faf8e30d</span> <span style=\"color: #7f7f7f; text-decoration-color: #7f7f7f\">            </span>\n",
       "<span style=\"color: #7fbfbf; text-decoration-color: #7fbfbf\">                    </span>         <span style=\"color: #008000; text-decoration-color: #008000\">272f875f9c2fc27e21/data'</span>                                                  <span style=\"color: #7f7f7f; text-decoration-color: #7f7f7f\">            </span>\n",
       "</pre>\n"
      ],
      "text/plain": [
       "\u001b[2;36m[04/23/24 14:59:36]\u001b[0m\u001b[2;36m \u001b[0m\u001b[34mINFO    \u001b[0m \u001b[1m[\u001b[0m\u001b[32m'distilabel.pipeline.local'\u001b[0m\u001b[1m]\u001b[0m 📝 Pipeline data will be written to         \u001b]8;id=53167;file:///home/demiangholipour/miniconda3/envs/glirel/lib/python3.10/site-packages/distilabel/pipeline/local.py\u001b\\\u001b[2mlocal.py\u001b[0m\u001b]8;;\u001b\\\u001b[2m:\u001b[0m\u001b]8;id=387488;file:///home/demiangholipour/miniconda3/envs/glirel/lib/python3.10/site-packages/distilabel/pipeline/local.py#113\u001b\\\u001b[2m113\u001b[0m\u001b]8;;\u001b\\\n",
       "\u001b[2;36m                    \u001b[0m         \u001b[32m'/home/demiangholipour/.cache/distilabel/pipelines/b19c2d04bd92b8faf8e30d\u001b[0m \u001b[2m            \u001b[0m\n",
       "\u001b[2;36m                    \u001b[0m         \u001b[32m272f875f9c2fc27e21/data'\u001b[0m                                                  \u001b[2m            \u001b[0m\n"
      ]
     },
     "metadata": {},
     "output_type": "display_data"
    },
    {
     "data": {
      "text/html": [
       "<pre style=\"white-space:pre;overflow-x:auto;line-height:normal;font-family:Menlo,'DejaVu Sans Mono',consolas,'Courier New',monospace\"><span style=\"color: #7fbfbf; text-decoration-color: #7fbfbf\">                    </span><span style=\"color: #000080; text-decoration-color: #000080\">INFO    </span> <span style=\"font-weight: bold\">[</span><span style=\"color: #008000; text-decoration-color: #008000\">'distilabel.pipeline.local'</span><span style=\"font-weight: bold\">]</span> ⏳ Waiting for all the steps to load<span style=\"color: #808000; text-decoration-color: #808000\">...</span>     <a href=\"file:///home/demiangholipour/miniconda3/envs/glirel/lib/python3.10/site-packages/distilabel/pipeline/local.py\" target=\"_blank\"><span style=\"color: #7f7f7f; text-decoration-color: #7f7f7f\">local.py</span></a><span style=\"color: #7f7f7f; text-decoration-color: #7f7f7f\">:</span><a href=\"file:///home/demiangholipour/miniconda3/envs/glirel/lib/python3.10/site-packages/distilabel/pipeline/local.py#366\" target=\"_blank\"><span style=\"color: #7f7f7f; text-decoration-color: #7f7f7f\">366</span></a>\n",
       "</pre>\n"
      ],
      "text/plain": [
       "\u001b[2;36m                   \u001b[0m\u001b[2;36m \u001b[0m\u001b[34mINFO    \u001b[0m \u001b[1m[\u001b[0m\u001b[32m'distilabel.pipeline.local'\u001b[0m\u001b[1m]\u001b[0m ⏳ Waiting for all the steps to load\u001b[33m...\u001b[0m     \u001b]8;id=593054;file:///home/demiangholipour/miniconda3/envs/glirel/lib/python3.10/site-packages/distilabel/pipeline/local.py\u001b\\\u001b[2mlocal.py\u001b[0m\u001b]8;;\u001b\\\u001b[2m:\u001b[0m\u001b]8;id=873749;file:///home/demiangholipour/miniconda3/envs/glirel/lib/python3.10/site-packages/distilabel/pipeline/local.py#366\u001b\\\u001b[2m366\u001b[0m\u001b]8;;\u001b\\\n"
      ]
     },
     "metadata": {},
     "output_type": "display_data"
    },
    {
     "data": {
      "text/html": [
       "<pre style=\"white-space:pre;overflow-x:auto;line-height:normal;font-family:Menlo,'DejaVu Sans Mono',consolas,'Courier New',monospace\"><span style=\"color: #7fbfbf; text-decoration-color: #7fbfbf\">[04/23/24 14:59:39] </span><span style=\"color: #000080; text-decoration-color: #000080\">INFO    </span> <span style=\"font-weight: bold\">[</span><span style=\"color: #008000; text-decoration-color: #008000\">'distilabel.pipeline.local'</span><span style=\"font-weight: bold\">]</span> ⏳ Steps loaded: <span style=\"color: #008080; text-decoration-color: #008080; font-weight: bold\">2</span>/<span style=\"color: #008080; text-decoration-color: #008080; font-weight: bold\">2</span>                        <a href=\"file:///home/demiangholipour/miniconda3/envs/glirel/lib/python3.10/site-packages/distilabel/pipeline/local.py\" target=\"_blank\"><span style=\"color: #7f7f7f; text-decoration-color: #7f7f7f\">local.py</span></a><span style=\"color: #7f7f7f; text-decoration-color: #7f7f7f\">:</span><a href=\"file:///home/demiangholipour/miniconda3/envs/glirel/lib/python3.10/site-packages/distilabel/pipeline/local.py#380\" target=\"_blank\"><span style=\"color: #7f7f7f; text-decoration-color: #7f7f7f\">380</span></a>\n",
       "</pre>\n"
      ],
      "text/plain": [
       "\u001b[2;36m[04/23/24 14:59:39]\u001b[0m\u001b[2;36m \u001b[0m\u001b[34mINFO    \u001b[0m \u001b[1m[\u001b[0m\u001b[32m'distilabel.pipeline.local'\u001b[0m\u001b[1m]\u001b[0m ⏳ Steps loaded: \u001b[1;36m2\u001b[0m/\u001b[1;36m2\u001b[0m                        \u001b]8;id=25789;file:///home/demiangholipour/miniconda3/envs/glirel/lib/python3.10/site-packages/distilabel/pipeline/local.py\u001b\\\u001b[2mlocal.py\u001b[0m\u001b]8;;\u001b\\\u001b[2m:\u001b[0m\u001b]8;id=193525;file:///home/demiangholipour/miniconda3/envs/glirel/lib/python3.10/site-packages/distilabel/pipeline/local.py#380\u001b\\\u001b[2m380\u001b[0m\u001b]8;;\u001b\\\n"
      ]
     },
     "metadata": {},
     "output_type": "display_data"
    },
    {
     "data": {
      "text/html": [
       "<pre style=\"white-space:pre;overflow-x:auto;line-height:normal;font-family:Menlo,'DejaVu Sans Mono',consolas,'Courier New',monospace\"><span style=\"color: #7fbfbf; text-decoration-color: #7fbfbf\">                    </span><span style=\"color: #000080; text-decoration-color: #000080\">INFO    </span> <span style=\"font-weight: bold\">[</span><span style=\"color: #008000; text-decoration-color: #008000\">'distilabel.pipeline.local'</span><span style=\"font-weight: bold\">]</span> ✅ All the steps have been loaded!          <a href=\"file:///home/demiangholipour/miniconda3/envs/glirel/lib/python3.10/site-packages/distilabel/pipeline/local.py\" target=\"_blank\"><span style=\"color: #7f7f7f; text-decoration-color: #7f7f7f\">local.py</span></a><span style=\"color: #7f7f7f; text-decoration-color: #7f7f7f\">:</span><a href=\"file:///home/demiangholipour/miniconda3/envs/glirel/lib/python3.10/site-packages/distilabel/pipeline/local.py#384\" target=\"_blank\"><span style=\"color: #7f7f7f; text-decoration-color: #7f7f7f\">384</span></a>\n",
       "</pre>\n"
      ],
      "text/plain": [
       "\u001b[2;36m                   \u001b[0m\u001b[2;36m \u001b[0m\u001b[34mINFO    \u001b[0m \u001b[1m[\u001b[0m\u001b[32m'distilabel.pipeline.local'\u001b[0m\u001b[1m]\u001b[0m ✅ All the steps have been loaded!          \u001b]8;id=244002;file:///home/demiangholipour/miniconda3/envs/glirel/lib/python3.10/site-packages/distilabel/pipeline/local.py\u001b\\\u001b[2mlocal.py\u001b[0m\u001b]8;;\u001b\\\u001b[2m:\u001b[0m\u001b]8;id=582872;file:///home/demiangholipour/miniconda3/envs/glirel/lib/python3.10/site-packages/distilabel/pipeline/local.py#384\u001b\\\u001b[2m384\u001b[0m\u001b]8;;\u001b\\\n"
      ]
     },
     "metadata": {},
     "output_type": "display_data"
    },
    {
     "data": {
      "text/html": [
       "<pre style=\"white-space:pre;overflow-x:auto;line-height:normal;font-family:Menlo,'DejaVu Sans Mono',consolas,'Courier New',monospace\"><span style=\"color: #7fbfbf; text-decoration-color: #7fbfbf\">[04/23/24 14:59:41] </span><span style=\"color: #000080; text-decoration-color: #000080\">INFO    </span> <span style=\"font-weight: bold\">[</span><span style=\"color: #008000; text-decoration-color: #008000\">'distilabel.step.load_data'</span><span style=\"font-weight: bold\">]</span> 🧬 Starting yielding batches from generator <a href=\"file:///home/demiangholipour/miniconda3/envs/glirel/lib/python3.10/site-packages/distilabel/pipeline/local.py\" target=\"_blank\"><span style=\"color: #7f7f7f; text-decoration-color: #7f7f7f\">local.py</span></a><span style=\"color: #7f7f7f; text-decoration-color: #7f7f7f\">:</span><a href=\"file:///home/demiangholipour/miniconda3/envs/glirel/lib/python3.10/site-packages/distilabel/pipeline/local.py#747\" target=\"_blank\"><span style=\"color: #7f7f7f; text-decoration-color: #7f7f7f\">747</span></a>\n",
       "<span style=\"color: #7fbfbf; text-decoration-color: #7fbfbf\">                    </span>         step <span style=\"color: #008000; text-decoration-color: #008000\">'load_data'</span>. Offset: <span style=\"color: #008080; text-decoration-color: #008080; font-weight: bold\">0</span>                                               <span style=\"color: #7f7f7f; text-decoration-color: #7f7f7f\">            </span>\n",
       "</pre>\n"
      ],
      "text/plain": [
       "\u001b[2;36m[04/23/24 14:59:41]\u001b[0m\u001b[2;36m \u001b[0m\u001b[34mINFO    \u001b[0m \u001b[1m[\u001b[0m\u001b[32m'distilabel.step.load_data'\u001b[0m\u001b[1m]\u001b[0m 🧬 Starting yielding batches from generator \u001b]8;id=374984;file:///home/demiangholipour/miniconda3/envs/glirel/lib/python3.10/site-packages/distilabel/pipeline/local.py\u001b\\\u001b[2mlocal.py\u001b[0m\u001b]8;;\u001b\\\u001b[2m:\u001b[0m\u001b]8;id=56581;file:///home/demiangholipour/miniconda3/envs/glirel/lib/python3.10/site-packages/distilabel/pipeline/local.py#747\u001b\\\u001b[2m747\u001b[0m\u001b]8;;\u001b\\\n",
       "\u001b[2;36m                    \u001b[0m         step \u001b[32m'load_data'\u001b[0m. Offset: \u001b[1;36m0\u001b[0m                                               \u001b[2m            \u001b[0m\n"
      ]
     },
     "metadata": {},
     "output_type": "display_data"
    },
    {
     "data": {
      "text/html": [
       "<pre style=\"white-space:pre;overflow-x:auto;line-height:normal;font-family:Menlo,'DejaVu Sans Mono',consolas,'Courier New',monospace\"><span style=\"color: #7fbfbf; text-decoration-color: #7fbfbf\">                    </span><span style=\"color: #000080; text-decoration-color: #000080\">INFO    </span> <span style=\"font-weight: bold\">[</span><span style=\"color: #008000; text-decoration-color: #008000\">'distilabel.step.load_data'</span><span style=\"font-weight: bold\">]</span> 📨 Step <span style=\"color: #008000; text-decoration-color: #008000\">'load_data'</span> sending batch <span style=\"color: #008080; text-decoration-color: #008080; font-weight: bold\">0</span> to      <a href=\"file:///home/demiangholipour/miniconda3/envs/glirel/lib/python3.10/site-packages/distilabel/pipeline/local.py\" target=\"_blank\"><span style=\"color: #7f7f7f; text-decoration-color: #7f7f7f\">local.py</span></a><span style=\"color: #7f7f7f; text-decoration-color: #7f7f7f\">:</span><a href=\"file:///home/demiangholipour/miniconda3/envs/glirel/lib/python3.10/site-packages/distilabel/pipeline/local.py#825\" target=\"_blank\"><span style=\"color: #7f7f7f; text-decoration-color: #7f7f7f\">825</span></a>\n",
       "<span style=\"color: #7fbfbf; text-decoration-color: #7fbfbf\">                    </span>         output queue                                                              <span style=\"color: #7f7f7f; text-decoration-color: #7f7f7f\">            </span>\n",
       "</pre>\n"
      ],
      "text/plain": [
       "\u001b[2;36m                   \u001b[0m\u001b[2;36m \u001b[0m\u001b[34mINFO    \u001b[0m \u001b[1m[\u001b[0m\u001b[32m'distilabel.step.load_data'\u001b[0m\u001b[1m]\u001b[0m 📨 Step \u001b[32m'load_data'\u001b[0m sending batch \u001b[1;36m0\u001b[0m to      \u001b]8;id=965512;file:///home/demiangholipour/miniconda3/envs/glirel/lib/python3.10/site-packages/distilabel/pipeline/local.py\u001b\\\u001b[2mlocal.py\u001b[0m\u001b]8;;\u001b\\\u001b[2m:\u001b[0m\u001b]8;id=230100;file:///home/demiangholipour/miniconda3/envs/glirel/lib/python3.10/site-packages/distilabel/pipeline/local.py#825\u001b\\\u001b[2m825\u001b[0m\u001b]8;;\u001b\\\n",
       "\u001b[2;36m                    \u001b[0m         output queue                                                              \u001b[2m            \u001b[0m\n"
      ]
     },
     "metadata": {},
     "output_type": "display_data"
    },
    {
     "data": {
      "text/html": [
       "<pre style=\"white-space:pre;overflow-x:auto;line-height:normal;font-family:Menlo,'DejaVu Sans Mono',consolas,'Courier New',monospace\"><span style=\"color: #7fbfbf; text-decoration-color: #7fbfbf\">                    </span><span style=\"color: #000080; text-decoration-color: #000080\">INFO    </span> <span style=\"font-weight: bold\">[</span><span style=\"color: #008000; text-decoration-color: #008000\">'distilabel.step.load_data'</span><span style=\"font-weight: bold\">]</span> 📨 Step <span style=\"color: #008000; text-decoration-color: #008000\">'load_data'</span> sending batch <span style=\"color: #008080; text-decoration-color: #008080; font-weight: bold\">1</span> to      <a href=\"file:///home/demiangholipour/miniconda3/envs/glirel/lib/python3.10/site-packages/distilabel/pipeline/local.py\" target=\"_blank\"><span style=\"color: #7f7f7f; text-decoration-color: #7f7f7f\">local.py</span></a><span style=\"color: #7f7f7f; text-decoration-color: #7f7f7f\">:</span><a href=\"file:///home/demiangholipour/miniconda3/envs/glirel/lib/python3.10/site-packages/distilabel/pipeline/local.py#825\" target=\"_blank\"><span style=\"color: #7f7f7f; text-decoration-color: #7f7f7f\">825</span></a>\n",
       "<span style=\"color: #7fbfbf; text-decoration-color: #7fbfbf\">                    </span>         output queue                                                              <span style=\"color: #7f7f7f; text-decoration-color: #7f7f7f\">            </span>\n",
       "</pre>\n"
      ],
      "text/plain": [
       "\u001b[2;36m                   \u001b[0m\u001b[2;36m \u001b[0m\u001b[34mINFO    \u001b[0m \u001b[1m[\u001b[0m\u001b[32m'distilabel.step.load_data'\u001b[0m\u001b[1m]\u001b[0m 📨 Step \u001b[32m'load_data'\u001b[0m sending batch \u001b[1;36m1\u001b[0m to      \u001b]8;id=530435;file:///home/demiangholipour/miniconda3/envs/glirel/lib/python3.10/site-packages/distilabel/pipeline/local.py\u001b\\\u001b[2mlocal.py\u001b[0m\u001b]8;;\u001b\\\u001b[2m:\u001b[0m\u001b]8;id=946621;file:///home/demiangholipour/miniconda3/envs/glirel/lib/python3.10/site-packages/distilabel/pipeline/local.py#825\u001b\\\u001b[2m825\u001b[0m\u001b]8;;\u001b\\\n",
       "\u001b[2;36m                    \u001b[0m         output queue                                                              \u001b[2m            \u001b[0m\n"
      ]
     },
     "metadata": {},
     "output_type": "display_data"
    },
    {
     "data": {
      "text/html": [
       "<pre style=\"white-space:pre;overflow-x:auto;line-height:normal;font-family:Menlo,'DejaVu Sans Mono',consolas,'Courier New',monospace\"><span style=\"color: #7fbfbf; text-decoration-color: #7fbfbf\">                    </span><span style=\"color: #000080; text-decoration-color: #000080\">INFO    </span> <span style=\"font-weight: bold\">[</span><span style=\"color: #008000; text-decoration-color: #008000\">'distilabel.step.load_data'</span><span style=\"font-weight: bold\">]</span> 📨 Step <span style=\"color: #008000; text-decoration-color: #008000\">'load_data'</span> sending batch <span style=\"color: #008080; text-decoration-color: #008080; font-weight: bold\">2</span> to      <a href=\"file:///home/demiangholipour/miniconda3/envs/glirel/lib/python3.10/site-packages/distilabel/pipeline/local.py\" target=\"_blank\"><span style=\"color: #7f7f7f; text-decoration-color: #7f7f7f\">local.py</span></a><span style=\"color: #7f7f7f; text-decoration-color: #7f7f7f\">:</span><a href=\"file:///home/demiangholipour/miniconda3/envs/glirel/lib/python3.10/site-packages/distilabel/pipeline/local.py#825\" target=\"_blank\"><span style=\"color: #7f7f7f; text-decoration-color: #7f7f7f\">825</span></a>\n",
       "<span style=\"color: #7fbfbf; text-decoration-color: #7fbfbf\">                    </span>         output queue                                                              <span style=\"color: #7f7f7f; text-decoration-color: #7f7f7f\">            </span>\n",
       "</pre>\n"
      ],
      "text/plain": [
       "\u001b[2;36m                   \u001b[0m\u001b[2;36m \u001b[0m\u001b[34mINFO    \u001b[0m \u001b[1m[\u001b[0m\u001b[32m'distilabel.step.load_data'\u001b[0m\u001b[1m]\u001b[0m 📨 Step \u001b[32m'load_data'\u001b[0m sending batch \u001b[1;36m2\u001b[0m to      \u001b]8;id=947524;file:///home/demiangholipour/miniconda3/envs/glirel/lib/python3.10/site-packages/distilabel/pipeline/local.py\u001b\\\u001b[2mlocal.py\u001b[0m\u001b]8;;\u001b\\\u001b[2m:\u001b[0m\u001b]8;id=134258;file:///home/demiangholipour/miniconda3/envs/glirel/lib/python3.10/site-packages/distilabel/pipeline/local.py#825\u001b\\\u001b[2m825\u001b[0m\u001b]8;;\u001b\\\n",
       "\u001b[2;36m                    \u001b[0m         output queue                                                              \u001b[2m            \u001b[0m\n"
      ]
     },
     "metadata": {},
     "output_type": "display_data"
    },
    {
     "data": {
      "text/html": [
       "<pre style=\"white-space:pre;overflow-x:auto;line-height:normal;font-family:Menlo,'DejaVu Sans Mono',consolas,'Courier New',monospace\"><span style=\"color: #7fbfbf; text-decoration-color: #7fbfbf\">                    </span><span style=\"color: #000080; text-decoration-color: #000080\">INFO    </span> <span style=\"font-weight: bold\">[</span><span style=\"color: #008000; text-decoration-color: #008000\">'distilabel.step.load_data'</span><span style=\"font-weight: bold\">]</span> 📨 Step <span style=\"color: #008000; text-decoration-color: #008000\">'load_data'</span> sending batch <span style=\"color: #008080; text-decoration-color: #008080; font-weight: bold\">3</span> to      <a href=\"file:///home/demiangholipour/miniconda3/envs/glirel/lib/python3.10/site-packages/distilabel/pipeline/local.py\" target=\"_blank\"><span style=\"color: #7f7f7f; text-decoration-color: #7f7f7f\">local.py</span></a><span style=\"color: #7f7f7f; text-decoration-color: #7f7f7f\">:</span><a href=\"file:///home/demiangholipour/miniconda3/envs/glirel/lib/python3.10/site-packages/distilabel/pipeline/local.py#825\" target=\"_blank\"><span style=\"color: #7f7f7f; text-decoration-color: #7f7f7f\">825</span></a>\n",
       "<span style=\"color: #7fbfbf; text-decoration-color: #7fbfbf\">                    </span>         output queue                                                              <span style=\"color: #7f7f7f; text-decoration-color: #7f7f7f\">            </span>\n",
       "</pre>\n"
      ],
      "text/plain": [
       "\u001b[2;36m                   \u001b[0m\u001b[2;36m \u001b[0m\u001b[34mINFO    \u001b[0m \u001b[1m[\u001b[0m\u001b[32m'distilabel.step.load_data'\u001b[0m\u001b[1m]\u001b[0m 📨 Step \u001b[32m'load_data'\u001b[0m sending batch \u001b[1;36m3\u001b[0m to      \u001b]8;id=789808;file:///home/demiangholipour/miniconda3/envs/glirel/lib/python3.10/site-packages/distilabel/pipeline/local.py\u001b\\\u001b[2mlocal.py\u001b[0m\u001b]8;;\u001b\\\u001b[2m:\u001b[0m\u001b]8;id=459522;file:///home/demiangholipour/miniconda3/envs/glirel/lib/python3.10/site-packages/distilabel/pipeline/local.py#825\u001b\\\u001b[2m825\u001b[0m\u001b]8;;\u001b\\\n",
       "\u001b[2;36m                    \u001b[0m         output queue                                                              \u001b[2m            \u001b[0m\n"
      ]
     },
     "metadata": {},
     "output_type": "display_data"
    },
    {
     "data": {
      "text/html": [
       "<pre style=\"white-space:pre;overflow-x:auto;line-height:normal;font-family:Menlo,'DejaVu Sans Mono',consolas,'Courier New',monospace\"><span style=\"color: #7fbfbf; text-decoration-color: #7fbfbf\">                    </span><span style=\"color: #000080; text-decoration-color: #000080\">INFO    </span> <span style=\"font-weight: bold\">[</span><span style=\"color: #008000; text-decoration-color: #008000\">'distilabel.step.load_data'</span><span style=\"font-weight: bold\">]</span> 📨 Step <span style=\"color: #008000; text-decoration-color: #008000\">'load_data'</span> sending batch <span style=\"color: #008080; text-decoration-color: #008080; font-weight: bold\">4</span> to      <a href=\"file:///home/demiangholipour/miniconda3/envs/glirel/lib/python3.10/site-packages/distilabel/pipeline/local.py\" target=\"_blank\"><span style=\"color: #7f7f7f; text-decoration-color: #7f7f7f\">local.py</span></a><span style=\"color: #7f7f7f; text-decoration-color: #7f7f7f\">:</span><a href=\"file:///home/demiangholipour/miniconda3/envs/glirel/lib/python3.10/site-packages/distilabel/pipeline/local.py#825\" target=\"_blank\"><span style=\"color: #7f7f7f; text-decoration-color: #7f7f7f\">825</span></a>\n",
       "<span style=\"color: #7fbfbf; text-decoration-color: #7fbfbf\">                    </span>         output queue                                                              <span style=\"color: #7f7f7f; text-decoration-color: #7f7f7f\">            </span>\n",
       "</pre>\n"
      ],
      "text/plain": [
       "\u001b[2;36m                   \u001b[0m\u001b[2;36m \u001b[0m\u001b[34mINFO    \u001b[0m \u001b[1m[\u001b[0m\u001b[32m'distilabel.step.load_data'\u001b[0m\u001b[1m]\u001b[0m 📨 Step \u001b[32m'load_data'\u001b[0m sending batch \u001b[1;36m4\u001b[0m to      \u001b]8;id=753616;file:///home/demiangholipour/miniconda3/envs/glirel/lib/python3.10/site-packages/distilabel/pipeline/local.py\u001b\\\u001b[2mlocal.py\u001b[0m\u001b]8;;\u001b\\\u001b[2m:\u001b[0m\u001b]8;id=991034;file:///home/demiangholipour/miniconda3/envs/glirel/lib/python3.10/site-packages/distilabel/pipeline/local.py#825\u001b\\\u001b[2m825\u001b[0m\u001b]8;;\u001b\\\n",
       "\u001b[2;36m                    \u001b[0m         output queue                                                              \u001b[2m            \u001b[0m\n"
      ]
     },
     "metadata": {},
     "output_type": "display_data"
    },
    {
     "data": {
      "text/html": [
       "<pre style=\"white-space:pre;overflow-x:auto;line-height:normal;font-family:Menlo,'DejaVu Sans Mono',consolas,'Courier New',monospace\"><span style=\"color: #7fbfbf; text-decoration-color: #7fbfbf\">                    </span><span style=\"color: #000080; text-decoration-color: #000080\">INFO    </span> <span style=\"font-weight: bold\">[</span><span style=\"color: #008000; text-decoration-color: #008000\">'distilabel.step.load_data'</span><span style=\"font-weight: bold\">]</span> 📨 Step <span style=\"color: #008000; text-decoration-color: #008000\">'load_data'</span> sending batch <span style=\"color: #008080; text-decoration-color: #008080; font-weight: bold\">5</span> to      <a href=\"file:///home/demiangholipour/miniconda3/envs/glirel/lib/python3.10/site-packages/distilabel/pipeline/local.py\" target=\"_blank\"><span style=\"color: #7f7f7f; text-decoration-color: #7f7f7f\">local.py</span></a><span style=\"color: #7f7f7f; text-decoration-color: #7f7f7f\">:</span><a href=\"file:///home/demiangholipour/miniconda3/envs/glirel/lib/python3.10/site-packages/distilabel/pipeline/local.py#825\" target=\"_blank\"><span style=\"color: #7f7f7f; text-decoration-color: #7f7f7f\">825</span></a>\n",
       "<span style=\"color: #7fbfbf; text-decoration-color: #7fbfbf\">                    </span>         output queue                                                              <span style=\"color: #7f7f7f; text-decoration-color: #7f7f7f\">            </span>\n",
       "</pre>\n"
      ],
      "text/plain": [
       "\u001b[2;36m                   \u001b[0m\u001b[2;36m \u001b[0m\u001b[34mINFO    \u001b[0m \u001b[1m[\u001b[0m\u001b[32m'distilabel.step.load_data'\u001b[0m\u001b[1m]\u001b[0m 📨 Step \u001b[32m'load_data'\u001b[0m sending batch \u001b[1;36m5\u001b[0m to      \u001b]8;id=845826;file:///home/demiangholipour/miniconda3/envs/glirel/lib/python3.10/site-packages/distilabel/pipeline/local.py\u001b\\\u001b[2mlocal.py\u001b[0m\u001b]8;;\u001b\\\u001b[2m:\u001b[0m\u001b]8;id=932129;file:///home/demiangholipour/miniconda3/envs/glirel/lib/python3.10/site-packages/distilabel/pipeline/local.py#825\u001b\\\u001b[2m825\u001b[0m\u001b]8;;\u001b\\\n",
       "\u001b[2;36m                    \u001b[0m         output queue                                                              \u001b[2m            \u001b[0m\n"
      ]
     },
     "metadata": {},
     "output_type": "display_data"
    },
    {
     "data": {
      "text/html": [
       "<pre style=\"white-space:pre;overflow-x:auto;line-height:normal;font-family:Menlo,'DejaVu Sans Mono',consolas,'Courier New',monospace\"><span style=\"color: #7fbfbf; text-decoration-color: #7fbfbf\">                    </span><span style=\"color: #000080; text-decoration-color: #000080\">INFO    </span> <span style=\"font-weight: bold\">[</span><span style=\"color: #008000; text-decoration-color: #008000\">'distilabel.step.load_data'</span><span style=\"font-weight: bold\">]</span> 📨 Step <span style=\"color: #008000; text-decoration-color: #008000\">'load_data'</span> sending batch <span style=\"color: #008080; text-decoration-color: #008080; font-weight: bold\">6</span> to      <a href=\"file:///home/demiangholipour/miniconda3/envs/glirel/lib/python3.10/site-packages/distilabel/pipeline/local.py\" target=\"_blank\"><span style=\"color: #7f7f7f; text-decoration-color: #7f7f7f\">local.py</span></a><span style=\"color: #7f7f7f; text-decoration-color: #7f7f7f\">:</span><a href=\"file:///home/demiangholipour/miniconda3/envs/glirel/lib/python3.10/site-packages/distilabel/pipeline/local.py#825\" target=\"_blank\"><span style=\"color: #7f7f7f; text-decoration-color: #7f7f7f\">825</span></a>\n",
       "<span style=\"color: #7fbfbf; text-decoration-color: #7fbfbf\">                    </span>         output queue                                                              <span style=\"color: #7f7f7f; text-decoration-color: #7f7f7f\">            </span>\n",
       "</pre>\n"
      ],
      "text/plain": [
       "\u001b[2;36m                   \u001b[0m\u001b[2;36m \u001b[0m\u001b[34mINFO    \u001b[0m \u001b[1m[\u001b[0m\u001b[32m'distilabel.step.load_data'\u001b[0m\u001b[1m]\u001b[0m 📨 Step \u001b[32m'load_data'\u001b[0m sending batch \u001b[1;36m6\u001b[0m to      \u001b]8;id=834332;file:///home/demiangholipour/miniconda3/envs/glirel/lib/python3.10/site-packages/distilabel/pipeline/local.py\u001b\\\u001b[2mlocal.py\u001b[0m\u001b]8;;\u001b\\\u001b[2m:\u001b[0m\u001b]8;id=514864;file:///home/demiangholipour/miniconda3/envs/glirel/lib/python3.10/site-packages/distilabel/pipeline/local.py#825\u001b\\\u001b[2m825\u001b[0m\u001b]8;;\u001b\\\n",
       "\u001b[2;36m                    \u001b[0m         output queue                                                              \u001b[2m            \u001b[0m\n"
      ]
     },
     "metadata": {},
     "output_type": "display_data"
    },
    {
     "data": {
      "text/html": [
       "<pre style=\"white-space:pre;overflow-x:auto;line-height:normal;font-family:Menlo,'DejaVu Sans Mono',consolas,'Courier New',monospace\"><span style=\"color: #7fbfbf; text-decoration-color: #7fbfbf\">                    </span><span style=\"color: #000080; text-decoration-color: #000080\">INFO    </span> <span style=\"font-weight: bold\">[</span><span style=\"color: #008000; text-decoration-color: #008000\">'distilabel.step.load_data'</span><span style=\"font-weight: bold\">]</span> 📨 Step <span style=\"color: #008000; text-decoration-color: #008000\">'load_data'</span> sending batch <span style=\"color: #008080; text-decoration-color: #008080; font-weight: bold\">7</span> to      <a href=\"file:///home/demiangholipour/miniconda3/envs/glirel/lib/python3.10/site-packages/distilabel/pipeline/local.py\" target=\"_blank\"><span style=\"color: #7f7f7f; text-decoration-color: #7f7f7f\">local.py</span></a><span style=\"color: #7f7f7f; text-decoration-color: #7f7f7f\">:</span><a href=\"file:///home/demiangholipour/miniconda3/envs/glirel/lib/python3.10/site-packages/distilabel/pipeline/local.py#825\" target=\"_blank\"><span style=\"color: #7f7f7f; text-decoration-color: #7f7f7f\">825</span></a>\n",
       "<span style=\"color: #7fbfbf; text-decoration-color: #7fbfbf\">                    </span>         output queue                                                              <span style=\"color: #7f7f7f; text-decoration-color: #7f7f7f\">            </span>\n",
       "</pre>\n"
      ],
      "text/plain": [
       "\u001b[2;36m                   \u001b[0m\u001b[2;36m \u001b[0m\u001b[34mINFO    \u001b[0m \u001b[1m[\u001b[0m\u001b[32m'distilabel.step.load_data'\u001b[0m\u001b[1m]\u001b[0m 📨 Step \u001b[32m'load_data'\u001b[0m sending batch \u001b[1;36m7\u001b[0m to      \u001b]8;id=925923;file:///home/demiangholipour/miniconda3/envs/glirel/lib/python3.10/site-packages/distilabel/pipeline/local.py\u001b\\\u001b[2mlocal.py\u001b[0m\u001b]8;;\u001b\\\u001b[2m:\u001b[0m\u001b]8;id=940283;file:///home/demiangholipour/miniconda3/envs/glirel/lib/python3.10/site-packages/distilabel/pipeline/local.py#825\u001b\\\u001b[2m825\u001b[0m\u001b]8;;\u001b\\\n",
       "\u001b[2;36m                    \u001b[0m         output queue                                                              \u001b[2m            \u001b[0m\n"
      ]
     },
     "metadata": {},
     "output_type": "display_data"
    },
    {
     "data": {
      "text/html": [
       "<pre style=\"white-space:pre;overflow-x:auto;line-height:normal;font-family:Menlo,'DejaVu Sans Mono',consolas,'Courier New',monospace\"><span style=\"color: #7fbfbf; text-decoration-color: #7fbfbf\">                    </span><span style=\"color: #000080; text-decoration-color: #000080\">INFO    </span> <span style=\"font-weight: bold\">[</span><span style=\"color: #008000; text-decoration-color: #008000\">'distilabel.step.load_data'</span><span style=\"font-weight: bold\">]</span> 📨 Step <span style=\"color: #008000; text-decoration-color: #008000\">'load_data'</span> sending batch <span style=\"color: #008080; text-decoration-color: #008080; font-weight: bold\">8</span> to      <a href=\"file:///home/demiangholipour/miniconda3/envs/glirel/lib/python3.10/site-packages/distilabel/pipeline/local.py\" target=\"_blank\"><span style=\"color: #7f7f7f; text-decoration-color: #7f7f7f\">local.py</span></a><span style=\"color: #7f7f7f; text-decoration-color: #7f7f7f\">:</span><a href=\"file:///home/demiangholipour/miniconda3/envs/glirel/lib/python3.10/site-packages/distilabel/pipeline/local.py#825\" target=\"_blank\"><span style=\"color: #7f7f7f; text-decoration-color: #7f7f7f\">825</span></a>\n",
       "<span style=\"color: #7fbfbf; text-decoration-color: #7fbfbf\">                    </span>         output queue                                                              <span style=\"color: #7f7f7f; text-decoration-color: #7f7f7f\">            </span>\n",
       "</pre>\n"
      ],
      "text/plain": [
       "\u001b[2;36m                   \u001b[0m\u001b[2;36m \u001b[0m\u001b[34mINFO    \u001b[0m \u001b[1m[\u001b[0m\u001b[32m'distilabel.step.load_data'\u001b[0m\u001b[1m]\u001b[0m 📨 Step \u001b[32m'load_data'\u001b[0m sending batch \u001b[1;36m8\u001b[0m to      \u001b]8;id=820461;file:///home/demiangholipour/miniconda3/envs/glirel/lib/python3.10/site-packages/distilabel/pipeline/local.py\u001b\\\u001b[2mlocal.py\u001b[0m\u001b]8;;\u001b\\\u001b[2m:\u001b[0m\u001b]8;id=760116;file:///home/demiangholipour/miniconda3/envs/glirel/lib/python3.10/site-packages/distilabel/pipeline/local.py#825\u001b\\\u001b[2m825\u001b[0m\u001b]8;;\u001b\\\n",
       "\u001b[2;36m                    \u001b[0m         output queue                                                              \u001b[2m            \u001b[0m\n"
      ]
     },
     "metadata": {},
     "output_type": "display_data"
    },
    {
     "data": {
      "text/html": [
       "<pre style=\"white-space:pre;overflow-x:auto;line-height:normal;font-family:Menlo,'DejaVu Sans Mono',consolas,'Courier New',monospace\"><span style=\"color: #7fbfbf; text-decoration-color: #7fbfbf\">                    </span><span style=\"color: #000080; text-decoration-color: #000080\">INFO    </span> <span style=\"font-weight: bold\">[</span><span style=\"color: #008000; text-decoration-color: #008000\">'distilabel.step.load_data'</span><span style=\"font-weight: bold\">]</span> 📨 Step <span style=\"color: #008000; text-decoration-color: #008000\">'load_data'</span> sending batch <span style=\"color: #008080; text-decoration-color: #008080; font-weight: bold\">9</span> to      <a href=\"file:///home/demiangholipour/miniconda3/envs/glirel/lib/python3.10/site-packages/distilabel/pipeline/local.py\" target=\"_blank\"><span style=\"color: #7f7f7f; text-decoration-color: #7f7f7f\">local.py</span></a><span style=\"color: #7f7f7f; text-decoration-color: #7f7f7f\">:</span><a href=\"file:///home/demiangholipour/miniconda3/envs/glirel/lib/python3.10/site-packages/distilabel/pipeline/local.py#825\" target=\"_blank\"><span style=\"color: #7f7f7f; text-decoration-color: #7f7f7f\">825</span></a>\n",
       "<span style=\"color: #7fbfbf; text-decoration-color: #7fbfbf\">                    </span>         output queue                                                              <span style=\"color: #7f7f7f; text-decoration-color: #7f7f7f\">            </span>\n",
       "</pre>\n"
      ],
      "text/plain": [
       "\u001b[2;36m                   \u001b[0m\u001b[2;36m \u001b[0m\u001b[34mINFO    \u001b[0m \u001b[1m[\u001b[0m\u001b[32m'distilabel.step.load_data'\u001b[0m\u001b[1m]\u001b[0m 📨 Step \u001b[32m'load_data'\u001b[0m sending batch \u001b[1;36m9\u001b[0m to      \u001b]8;id=644312;file:///home/demiangholipour/miniconda3/envs/glirel/lib/python3.10/site-packages/distilabel/pipeline/local.py\u001b\\\u001b[2mlocal.py\u001b[0m\u001b]8;;\u001b\\\u001b[2m:\u001b[0m\u001b]8;id=537643;file:///home/demiangholipour/miniconda3/envs/glirel/lib/python3.10/site-packages/distilabel/pipeline/local.py#825\u001b\\\u001b[2m825\u001b[0m\u001b]8;;\u001b\\\n",
       "\u001b[2;36m                    \u001b[0m         output queue                                                              \u001b[2m            \u001b[0m\n"
      ]
     },
     "metadata": {},
     "output_type": "display_data"
    },
    {
     "data": {
      "text/html": [
       "<pre style=\"white-space:pre;overflow-x:auto;line-height:normal;font-family:Menlo,'DejaVu Sans Mono',consolas,'Courier New',monospace\"><span style=\"color: #7fbfbf; text-decoration-color: #7fbfbf\">                    </span><span style=\"color: #000080; text-decoration-color: #000080\">INFO    </span> <span style=\"font-weight: bold\">[</span><span style=\"color: #008000; text-decoration-color: #008000\">'distilabel.step.load_data'</span><span style=\"font-weight: bold\">]</span> 🏁 Finished running step <span style=\"color: #008000; text-decoration-color: #008000\">'load_data'</span>        <a href=\"file:///home/demiangholipour/miniconda3/envs/glirel/lib/python3.10/site-packages/distilabel/pipeline/local.py\" target=\"_blank\"><span style=\"color: #7f7f7f; text-decoration-color: #7f7f7f\">local.py</span></a><span style=\"color: #7f7f7f; text-decoration-color: #7f7f7f\">:</span><a href=\"file:///home/demiangholipour/miniconda3/envs/glirel/lib/python3.10/site-packages/distilabel/pipeline/local.py#715\" target=\"_blank\"><span style=\"color: #7f7f7f; text-decoration-color: #7f7f7f\">715</span></a>\n",
       "</pre>\n"
      ],
      "text/plain": [
       "\u001b[2;36m                   \u001b[0m\u001b[2;36m \u001b[0m\u001b[34mINFO    \u001b[0m \u001b[1m[\u001b[0m\u001b[32m'distilabel.step.load_data'\u001b[0m\u001b[1m]\u001b[0m 🏁 Finished running step \u001b[32m'load_data'\u001b[0m        \u001b]8;id=88543;file:///home/demiangholipour/miniconda3/envs/glirel/lib/python3.10/site-packages/distilabel/pipeline/local.py\u001b\\\u001b[2mlocal.py\u001b[0m\u001b]8;;\u001b\\\u001b[2m:\u001b[0m\u001b]8;id=923848;file:///home/demiangholipour/miniconda3/envs/glirel/lib/python3.10/site-packages/distilabel/pipeline/local.py#715\u001b\\\u001b[2m715\u001b[0m\u001b]8;;\u001b\\\n"
      ]
     },
     "metadata": {},
     "output_type": "display_data"
    },
    {
     "data": {
      "text/html": [
       "<pre style=\"white-space:pre;overflow-x:auto;line-height:normal;font-family:Menlo,'DejaVu Sans Mono',consolas,'Courier New',monospace\"><span style=\"color: #7fbfbf; text-decoration-color: #7fbfbf\">                    </span><span style=\"color: #000080; text-decoration-color: #000080\">INFO    </span> <span style=\"font-weight: bold\">[</span><span style=\"color: #008000; text-decoration-color: #008000\">'distilabel.step.generate_with_gpt35'</span><span style=\"font-weight: bold\">]</span> 📦 Processing batch <span style=\"color: #008080; text-decoration-color: #008080; font-weight: bold\">0</span> in          <a href=\"file:///home/demiangholipour/miniconda3/envs/glirel/lib/python3.10/site-packages/distilabel/pipeline/local.py\" target=\"_blank\"><span style=\"color: #7f7f7f; text-decoration-color: #7f7f7f\">local.py</span></a><span style=\"color: #7f7f7f; text-decoration-color: #7f7f7f\">:</span><a href=\"file:///home/demiangholipour/miniconda3/envs/glirel/lib/python3.10/site-packages/distilabel/pipeline/local.py#792\" target=\"_blank\"><span style=\"color: #7f7f7f; text-decoration-color: #7f7f7f\">792</span></a>\n",
       "<span style=\"color: #7fbfbf; text-decoration-color: #7fbfbf\">                    </span>         <span style=\"color: #008000; text-decoration-color: #008000\">'generate_with_gpt35'</span>                                                     <span style=\"color: #7f7f7f; text-decoration-color: #7f7f7f\">            </span>\n",
       "</pre>\n"
      ],
      "text/plain": [
       "\u001b[2;36m                   \u001b[0m\u001b[2;36m \u001b[0m\u001b[34mINFO    \u001b[0m \u001b[1m[\u001b[0m\u001b[32m'distilabel.step.generate_with_gpt35'\u001b[0m\u001b[1m]\u001b[0m 📦 Processing batch \u001b[1;36m0\u001b[0m in          \u001b]8;id=387509;file:///home/demiangholipour/miniconda3/envs/glirel/lib/python3.10/site-packages/distilabel/pipeline/local.py\u001b\\\u001b[2mlocal.py\u001b[0m\u001b]8;;\u001b\\\u001b[2m:\u001b[0m\u001b]8;id=944762;file:///home/demiangholipour/miniconda3/envs/glirel/lib/python3.10/site-packages/distilabel/pipeline/local.py#792\u001b\\\u001b[2m792\u001b[0m\u001b]8;;\u001b\\\n",
       "\u001b[2;36m                    \u001b[0m         \u001b[32m'generate_with_gpt35'\u001b[0m                                                     \u001b[2m            \u001b[0m\n"
      ]
     },
     "metadata": {},
     "output_type": "display_data"
    },
    {
     "data": {
      "text/html": [
       "<pre style=\"white-space:pre;overflow-x:auto;line-height:normal;font-family:Menlo,'DejaVu Sans Mono',consolas,'Courier New',monospace\"><span style=\"color: #7fbfbf; text-decoration-color: #7fbfbf\">[04/23/24 14:59:56] </span><span style=\"color: #000080; text-decoration-color: #000080\">INFO    </span> <span style=\"font-weight: bold\">[</span><span style=\"color: #008000; text-decoration-color: #008000\">'distilabel.step.generate_with_gpt35'</span><span style=\"font-weight: bold\">]</span> 📨 Step <span style=\"color: #008000; text-decoration-color: #008000\">'generate_with_gpt35'</span>     <a href=\"file:///home/demiangholipour/miniconda3/envs/glirel/lib/python3.10/site-packages/distilabel/pipeline/local.py\" target=\"_blank\"><span style=\"color: #7f7f7f; text-decoration-color: #7f7f7f\">local.py</span></a><span style=\"color: #7f7f7f; text-decoration-color: #7f7f7f\">:</span><a href=\"file:///home/demiangholipour/miniconda3/envs/glirel/lib/python3.10/site-packages/distilabel/pipeline/local.py#825\" target=\"_blank\"><span style=\"color: #7f7f7f; text-decoration-color: #7f7f7f\">825</span></a>\n",
       "<span style=\"color: #7fbfbf; text-decoration-color: #7fbfbf\">                    </span>         sending batch <span style=\"color: #008080; text-decoration-color: #008080; font-weight: bold\">0</span> to output queue                                           <span style=\"color: #7f7f7f; text-decoration-color: #7f7f7f\">            </span>\n",
       "</pre>\n"
      ],
      "text/plain": [
       "\u001b[2;36m[04/23/24 14:59:56]\u001b[0m\u001b[2;36m \u001b[0m\u001b[34mINFO    \u001b[0m \u001b[1m[\u001b[0m\u001b[32m'distilabel.step.generate_with_gpt35'\u001b[0m\u001b[1m]\u001b[0m 📨 Step \u001b[32m'generate_with_gpt35'\u001b[0m     \u001b]8;id=664315;file:///home/demiangholipour/miniconda3/envs/glirel/lib/python3.10/site-packages/distilabel/pipeline/local.py\u001b\\\u001b[2mlocal.py\u001b[0m\u001b]8;;\u001b\\\u001b[2m:\u001b[0m\u001b]8;id=659543;file:///home/demiangholipour/miniconda3/envs/glirel/lib/python3.10/site-packages/distilabel/pipeline/local.py#825\u001b\\\u001b[2m825\u001b[0m\u001b]8;;\u001b\\\n",
       "\u001b[2;36m                    \u001b[0m         sending batch \u001b[1;36m0\u001b[0m to output queue                                           \u001b[2m            \u001b[0m\n"
      ]
     },
     "metadata": {},
     "output_type": "display_data"
    },
    {
     "data": {
      "text/html": [
       "<pre style=\"white-space:pre;overflow-x:auto;line-height:normal;font-family:Menlo,'DejaVu Sans Mono',consolas,'Courier New',monospace\"><span style=\"color: #7fbfbf; text-decoration-color: #7fbfbf\">                    </span><span style=\"color: #000080; text-decoration-color: #000080\">INFO    </span> <span style=\"font-weight: bold\">[</span><span style=\"color: #008000; text-decoration-color: #008000\">'distilabel.step.generate_with_gpt35'</span><span style=\"font-weight: bold\">]</span> 🏁 Finished running step          <a href=\"file:///home/demiangholipour/miniconda3/envs/glirel/lib/python3.10/site-packages/distilabel/pipeline/local.py\" target=\"_blank\"><span style=\"color: #7f7f7f; text-decoration-color: #7f7f7f\">local.py</span></a><span style=\"color: #7f7f7f; text-decoration-color: #7f7f7f\">:</span><a href=\"file:///home/demiangholipour/miniconda3/envs/glirel/lib/python3.10/site-packages/distilabel/pipeline/local.py#715\" target=\"_blank\"><span style=\"color: #7f7f7f; text-decoration-color: #7f7f7f\">715</span></a>\n",
       "<span style=\"color: #7fbfbf; text-decoration-color: #7fbfbf\">                    </span>         <span style=\"color: #008000; text-decoration-color: #008000\">'generate_with_gpt35'</span>                                                     <span style=\"color: #7f7f7f; text-decoration-color: #7f7f7f\">            </span>\n",
       "</pre>\n"
      ],
      "text/plain": [
       "\u001b[2;36m                   \u001b[0m\u001b[2;36m \u001b[0m\u001b[34mINFO    \u001b[0m \u001b[1m[\u001b[0m\u001b[32m'distilabel.step.generate_with_gpt35'\u001b[0m\u001b[1m]\u001b[0m 🏁 Finished running step          \u001b]8;id=192319;file:///home/demiangholipour/miniconda3/envs/glirel/lib/python3.10/site-packages/distilabel/pipeline/local.py\u001b\\\u001b[2mlocal.py\u001b[0m\u001b]8;;\u001b\\\u001b[2m:\u001b[0m\u001b]8;id=577926;file:///home/demiangholipour/miniconda3/envs/glirel/lib/python3.10/site-packages/distilabel/pipeline/local.py#715\u001b\\\u001b[2m715\u001b[0m\u001b]8;;\u001b\\\n",
       "\u001b[2;36m                    \u001b[0m         \u001b[32m'generate_with_gpt35'\u001b[0m                                                     \u001b[2m            \u001b[0m\n"
      ]
     },
     "metadata": {},
     "output_type": "display_data"
    },
    {
     "name": "stderr",
     "output_type": "stream",
     "text": [
      "Generating train split: 10 examples [00:00, 3070.05 examples/s]\n"
     ]
    }
   ],
   "source": [
    "distiset = pipeline.run(\n",
    "    parameters={\n",
    "        # \"load_dataset\": {\n",
    "        #     \"repo_id\": \"distilabel-internal-testing/instruction-dataset-mini\",\n",
    "        #     \"split\": \"test\",\n",
    "        # },\n",
    "        \"generate_with_gpt35\": {\n",
    "            \"llm\": {\n",
    "                \"generation_kwargs\": {\n",
    "                    \"temperature\": 0.7,\n",
    "                    \"max_new_tokens\": 512,\n",
    "                }\n",
    "            }\n",
    "        },\n",
    "    },\n",
    ")"
   ]
  },
  {
   "cell_type": "code",
   "execution_count": 36,
   "metadata": {},
   "outputs": [
    {
     "data": {
      "text/plain": [
       "Distiset({\n",
       "    default: DatasetDict({\n",
       "        train: Dataset({\n",
       "            features: ['instruction', 'model_name', 'generation'],\n",
       "            num_rows: 10\n",
       "        })\n",
       "    })\n",
       "})"
      ]
     },
     "execution_count": 36,
     "metadata": {},
     "output_type": "execute_result"
    }
   ],
   "source": [
    "distiset"
   ]
  },
  {
   "cell_type": "code",
   "execution_count": 47,
   "metadata": {},
   "outputs": [
    {
     "name": "stdout",
     "output_type": "stream",
     "text": [
      "```json\n",
      "[\n",
      "    {\n",
      "        \"head\": \"Steamer\",\n",
      "        \"tail\": \"Lake Michigan\",\n",
      "        \"relation\": \"located_in\"\n",
      "    },\n",
      "    {\n",
      "        \"head\": \"Captain\",\n",
      "        \"tail\": \"John McLeod\",\n",
      "        \"relation\": \"has_captain\"\n",
      "    },\n",
      "    {\n",
      "        \"head\": \"Date\",\n",
      "        \"tail\": \"Feb. 9, 1899\",\n",
      "        \"relation\": \"sunk_on\"\n",
      "    },\n",
      "    {\n",
      "        \"head\": \"Quantity\",\n",
      "        \"tail\": \"214-foot\",\n",
      "        \"relation\": \"has_length\"\n",
      "    },\n",
      "    {\n",
      "        \"head\": \"Quantity\",\n",
      "        \"tail\": \"11 years old\",\n",
      "        \"relation\": \"has_age\"\n",
      "    },\n",
      "    {\n",
      "        \"head\": \"Organization\",\n",
      "        \"tail\": \"Michigan Shipwreck Research Association\",\n",
      "        \"relation\": \"member_of\"\n",
      "    }\n",
      "]\n",
      "```\n",
      "```json\n",
      "[\n",
      "    {\n",
      "        \"head\": \"Organization\",\n",
      "        \"tail\": \"Organization\",\n",
      "        \"relation\": \"co-occurs\"\n",
      "    },\n",
      "    {\n",
      "        \"head\": \"Organization\",\n",
      "        \"tail\": \"Organization\",\n",
      "        \"relation\": \"co-occurs\"\n",
      "    },\n",
      "    {\n",
      "        \"head\": \"Classification\",\n",
      "        \"tail\": \"Classification\",\n",
      "        \"relation\": \"related\"\n",
      "    },\n",
      "    {\n",
      "        \"head\": \"Classification\",\n",
      "        \"tail\": \"Classification\",\n",
      "        \"relation\": \"related\"\n",
      "    },\n",
      "    {\n",
      "        \"head\": \"Process\",\n",
      "        \"tail\": \"Organization\",\n",
      "        \"relation\": \"related\"\n",
      "    },\n",
      "    {\n",
      "        \"head\": \"Organization\",\n",
      "        \"tail\": \"Location\",\n",
      "        \"relation\": \"located_in\"\n",
      "    },\n",
      "    {\n",
      "        \"head\": \"Organization\",\n",
      "        \"tail\": \"Classification\",\n",
      "        \"relation\": \"related\"\n",
      "    },\n",
      "    {\n",
      "        \"head\": \"Quantity\",\n",
      "        \"tail\": \"Organization\",\n",
      "        \"relation\": \"related\"\n",
      "    }\n",
      "]\n",
      "```\n",
      "[\n",
      "    {\"head\": \"Kenworthy\", \"tail\": \"Book\", \"relation\": \"author\"},\n",
      "    {\"head\": \"Vermont senator\", \"tail\": \"United States\", \"relation\": \"represent\"},\n",
      "    {\"head\": \"United States\", \"tail\": \"Scandinavian countries\", \"relation\": \"compare\"},\n",
      "    {\"head\": \"government\", \"tail\": \"parents\", \"relation\": \"provide resources for\"},\n",
      "    {\"head\": \"government\", \"tail\": \"economically insecure\", \"relation\": \"provide resources for\"},\n",
      "    {\"head\": \"Kenworthy\", \"tail\": \"book\", \"relation\": \"call for\"},\n",
      "    {\"head\": \"government\", \"tail\": \"family and sick leave\", \"relation\": \"provide and paid for\"},\n",
      "    {\"head\": \"government\", \"tail\": \"pre-kindergarten program\", \"relation\": \"subsidize\"},\n",
      "    {\"head\": \"government\", \"tail\": \"all families\", \"relation\": \"subsidize\"},\n",
      "    {\"head\": \"Kenworthy\", \"tail\": \"Social Democratic America\", \"relation\": \"title of\"},\n",
      "    {\"head\": \"Kenworthy\", \"tail\": \"Social Democratic America\", \"relation\": \"mention in\"},\n",
      "    {\"head\": \"Social democracy\", \"tail\": \"governmental insurance\", \"relation\": \"setting up\"},\n",
      "    {\"head\": \"governmental insurance\", \"tail\": \"Americans\", \"relation\": \"cover\"},\n",
      "    {\"head\": \"Americans\", \"tail\": \"economic stability\", \"relation\": \"guarantee\"},\n",
      "    {\"head\": \"Americans\", \"tail\": \"circumstances\", \"relation\": \"change suddenly\"},\n",
      "    {\"head\": \"working-class families\", \"tail\": \"financial headaches\", \"relation\": \"handle\"},\n",
      "    {\"head\": \"Americans\", \"tail\": \"disability insurance\", \"relation\": \"have through\"},\n",
      "    {\"head\": \"Americans\", \"tail\": \"unemployment insurance\", \"relation\": \"have through\"},\n",
      "    {\"head\": \"Americans\", \"tail\": \"old-age insurance\", \"relation\": \"have through\"},\n",
      "    {\"head\": \"old-age insurance\", \"tail\": \"Social Security\", \"relation\": \"take the form of\"},\n",
      "    {\"head\": \"old-age insurance\", \"tail\": \"Medicare\", \"relation\": \"take the form of\"},\n",
      "    {\"head\": \"President Obama\", \"tail\": \"health reform\", \"relation\": \"help many Americans pay for\"},\n",
      "    {\"head\": \"sick leave\", \"tail\n",
      "```json\n",
      "[]\n",
      "```\n",
      "{\n",
      "    \"head\": \"Wuhan ShenZhiDu KeJi YouXian GongSi\",\n",
      "    \"tail\": \"deepin.org\",\n",
      "    \"relation\": \"is associated with\"\n",
      "}\n",
      "```json\n",
      "[\n",
      "    {\n",
      "        \"head\": \"Chemical Substances\",\n",
      "        \"tail\": \"Air Pollutants\",\n",
      "        \"relation\": \"Components extracted from DEPs\"\n",
      "    },\n",
      "    {\n",
      "        \"head\": \"Cells\",\n",
      "        \"tail\": \"Chemical Substances\",\n",
      "        \"relation\": \"Benzene-extracted components\"\n",
      "    },\n",
      "    {\n",
      "        \"head\": \"Chemical Substances\",\n",
      "        \"tail\": \"Cells\",\n",
      "        \"relation\": \"Benzene-extracted components\"\n",
      "    },\n",
      "    {\n",
      "        \"head\": \"Cells\",\n",
      "        \"tail\": \"Air Pollutants\",\n",
      "        \"relation\": \"Human bronchial epithelial cells\"\n",
      "    },\n",
      "    {\n",
      "        \"head\": \"Chemical Substances\",\n",
      "        \"tail\": \"Proteins\",\n",
      "        \"relation\": \"Protein kinase C inhibitor staurosporin\"\n",
      "    },\n",
      "    {\n",
      "        \"head\": \"Chemical Substances\",\n",
      "        \"tail\": \"Chemicals\",\n",
      "        \"relation\": \"Antioxidant agents including N-acetyl cysteine (NAC) and pyrrolidine dithiocarbamate (PDTC)\"\n",
      "    },\n",
      "    {\n",
      "        \"head\": \"Chemical Substances\",\n",
      "        \"tail\": \"Proteins\",\n",
      "        \"relation\": \"P38 mitogen-activated protein kinase (MAPK) inhibitor SB203580\"\n",
      "    },\n",
      "    {\n",
      "        \"head\": \"Chemical Substances\",\n",
      "        \"tail\": \"Drugs\",\n",
      "        \"relation\": \"N-acetyl cysteine (NAC)\"\n",
      "    },\n",
      "    {\n",
      "        \"head\": \"Chemical Substances\",\n",
      "        \"tail\": \"Drugs\",\n",
      "        \"relation\": \"Pyrrolidine dithiocarbamate (PDTC)\"\n",
      "    },\n",
      "    {\n",
      "        \"head\": \"Chemical Substances\",\n",
      "        \"tail\": \"Drugs\",\n",
      "        \"relation\": \"SB203580\"\n",
      "    },\n",
      "    {\n",
      "        \"head\": \"Chemical Substances\",\n",
      "        \"tail\": \"Drugs\",\n",
      "        \"relation\": \"Benzene-extracted components\"\n",
      "    },\n",
      "    {\n",
      "        \"head\": \"Cells\",\n",
      "        \"tail\": \"Proteins\",\n",
      "        \"relation\": \"IL-8 gene expression\"\n",
      "    },\n",
      "    {\n",
      "        \"head\": \"Cells\",\n",
      "        \"tail\": \"Proteins\",\n",
      "        \"relation\": \"Several cytokines (IL-8; granulocyte macrophage colony-stimulating factor; and regulated on activation, normal T cells expressed and secreted)\"\n",
      "    },\n",
      "    {\n",
      "\n",
      "{\n",
      "    \"head\": \"Pat Cummins\",\n",
      "    \"tail\": \"Australia\",\n",
      "    \"relation\": \"represents\"\n",
      "}\n",
      "{\n",
      "    \"head\": \"Australian team\",\n",
      "    \"tail\": \"Pat Cummins\",\n",
      "    \"relation\": \"features\"\n",
      "}\n",
      "{\n",
      "    \"head\": \"Australian team\",\n",
      "    \"tail\": \"India\",\n",
      "    \"relation\": \"competes against\"\n",
      "}\n",
      "{\n",
      "    \"head\": \"Pat Cummins\",\n",
      "    \"tail\": \"T20 series\",\n",
      "    \"relation\": \"skips\"\n",
      "}\n",
      "{\n",
      "    \"head\": \"Pat Cummins\",\n",
      "    \"tail\": \"Cricket Australia\",\n",
      "    \"relation\": \"confirmed by\"\n",
      "}\n",
      "{\n",
      "    \"head\": \"Pat Cummins\",\n",
      "    \"tail\": \"T20 leg of Australia’s Qantas Tour of India\",\n",
      "    \"relation\": \"skips\"\n",
      "}\n",
      "{\n",
      "    \"head\": \"Pat Cummins\",\n",
      "    \"tail\": \"Magellan Ashes\",\n",
      "    \"relation\": \"prepares for\"\n",
      "}\n",
      "{\n",
      "    \"head\": \"Cricket Australia\",\n",
      "    \"tail\": \"Pat Cummins\",\n",
      "    \"relation\": \"clarified by\"\n",
      "}\n",
      "{\n",
      "    \"head\": \"Pat Cummins\",\n",
      "    \"tail\": \"Sheffield Shield season\",\n",
      "    \"relation\": \"looks to freshen up ahead of\"\n",
      "}\n",
      "{\n",
      "    \"head\": \"selectors\",\n",
      "    \"tail\": \"Pat Cummins\",\n",
      "    \"relation\": \"decided to send\"\n",
      "}\n",
      "{\n",
      "    \"head\": \"Australia\",\n",
      "    \"tail\": \"T20Is\",\n",
      "    \"relation\": \"slated to play\"\n",
      "}\n",
      "{\n",
      "    \"head\": \"Australia\",\n",
      "    \"tail\": \"Ranchi, Guwahati and Hyderabad\",\n",
      "    \"relation\": \"play in\"\n",
      "}\n",
      "{\n",
      "    \"head\": \"Author\",\n",
      "    \"tail\": \"Heisenberg-Weyl algebra\",\n",
      "    \"relation\": \"formulated\"\n",
      "}\n",
      "```json\n",
      "[]\n",
      "```\n",
      "[\n",
      "    {\"head\": \"KARIE N . DUVERNAY\", \"tail\": \"W . R . D .\", \"relation\": \"Natural Guardian and Legal Representative\"},\n",
      "    {\"head\": \"KARIE N . DUVERNAY\", \"tail\": \"Petitioner\", \"relation\": \"Natural Guardian and Legal Representative\"},\n",
      "    {\"head\": \"Special Master Sanders\", \"tail\": \"SECRETARY OF HEALTH AND HUMAN SERVICES\", \"relation\": \"Respondent\"},\n",
      "    {\"head\": \"Nancy R . Meyers\", \"tail\": \"Ward Black Law\", \"relation\": \"Attorneys\"},\n",
      "    {\"head\": \"Nancy R . Meyers\", \"tail\": \"Greensboro , NC\", \"relation\": \"Location\"},\n",
      "    {\"head\": \"Jennifer L . Reynaud\", \"tail\": \"United States Department of Justice\", \"relation\": \"Attorneys\"},\n",
      "    {\"head\": \"Jennifer L . Reynaud\", \"tail\": \"Washington , DC\", \"relation\": \"Location\"}\n",
      "]\n"
     ]
    }
   ],
   "source": [
    "for x in distiset['default']['train']:\n",
    "    print(x['generation'])"
   ]
  },
  {
   "cell_type": "code",
   "execution_count": null,
   "metadata": {},
   "outputs": [],
   "source": []
  }
 ],
 "metadata": {
  "kernelspec": {
   "display_name": "glirel",
   "language": "python",
   "name": "python3"
  },
  "language_info": {
   "codemirror_mode": {
    "name": "ipython",
    "version": 3
   },
   "file_extension": ".py",
   "mimetype": "text/x-python",
   "name": "python",
   "nbconvert_exporter": "python",
   "pygments_lexer": "ipython3",
   "version": "3.10.14"
  }
 },
 "nbformat": 4,
 "nbformat_minor": 2
}
