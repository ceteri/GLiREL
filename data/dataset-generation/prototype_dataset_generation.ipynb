{
 "cells": [
  {
   "cell_type": "code",
   "execution_count": 1,
   "metadata": {},
   "outputs": [],
   "source": [
    "import json\n",
    "from openai import OpenAI\n",
    "from jinja2 import Template\n",
    "# import instructor\n",
    "# from pydantic import BaseModel\n",
    "# client = instructor.from_openai(OpenAI())\n",
    "client = OpenAI()\n",
    "\n",
    "\n",
    "def run_openai(rendered_prompt, system_prompt, model=\"gpt-3.5-turbo\", max_tokens=512, temperature=0.5):\n",
    "    response = client.chat.completions.create(\n",
    "        model=model,\n",
    "        response_format={ \"type\": \"json_object\"}, # note json object constrains to only generating one item per request\n",
    "        messages=[\n",
    "            {\"role\": \"system\", \"content\": system_prompt},\n",
    "            {\"role\": \"user\", \"content\": rendered_prompt}\n",
    "        ],\n",
    "        max_tokens=max_tokens,\n",
    "        temperature=temperature\n",
    "    )\n",
    "    content = response.choices[0].message.content\n",
    "    try:\n",
    "        return json.loads(content)\n",
    "    except json.JSONDecodeError as e:\n",
    "        print(f\"Failed to parse JSON response: {content}\")\n",
    "        return [{\"error\": str(e), \"response\": content}]\n",
    "\n",
    "\n",
    "# def run_openai_with_instructor(text, response_model, model=\"gpt-3.5-turbo\"):\n",
    "#     return client.chat.completions.create(\n",
    "#         model=model,\n",
    "#         response_model=response_model,\n",
    "#         messages=[{\"role\": \"user\", \"content\": text}],\n",
    "#     )"
   ]
  },
  {
   "cell_type": "markdown",
   "metadata": {},
   "source": [
    "### Prompts for Identifying Open-Form Relations"
   ]
  },
  {
   "cell_type": "code",
   "execution_count": 2,
   "metadata": {},
   "outputs": [],
   "source": [
    "SYSTEM_PROMPT = \"You are an expert in identifying and characterizing the relationships between entities in text.\"\n",
    "\n",
    "PAIRWISE_PROMPT_1 = \"\"\"\n",
    "Here is a text:\n",
    "{{text}}\n",
    "\n",
    "Please identify the relationship between the head/subject entity {{head}} and the tail/object entity {{tail}}.\n",
    "If the relationship is not meaningful, please instantiate \"relation\" with a null value in the JSON response.\n",
    "\n",
    "Answer directly in a JSON format as follows: {\"head\": {{head}}, \"tail\": {{tail}}, \"relation\": ...}}}\n",
    "Return only JSON, do not use backticks or other markdown syntax.\n",
    "\"\"\"\n",
    "\n",
    "\n",
    "PAIRWISE_PROMPT_2 = \"\"\"\n",
    "Here is a text:\n",
    "{{text}}\n",
    "\n",
    "Please identify the relationship between the head/subject entity {{head}} and the tail/object entity {{tail}}.\n",
    "If the relationship is not meaningful, please instantiate \"relation\" with a null value in the JSON response.\n",
    "\n",
    "Pick a relation with a similar level of specificity to the following examples:\n",
    "{{relation_examples}}\n",
    "\n",
    "IMPORTANT: Depending on which entity is the head and which is the tail, we expect a differently worded relation!\n",
    "\n",
    "Answer directly in a JSON format as follows: {\"head\": {{head}}, \"tail\": {{tail}}, \"relation\": ...}}}\n",
    "Return only JSON, do not use backticks or other markdown syntax.\n",
    "\"\"\"\n",
    "\n",
    "\n",
    "LABEL_EXAMPLES_BY_VERBOSITY = {\n",
    "    0: [\"contains\", \"spouse\", \"employer\", \"causes\"],\n",
    "    1: [\"is a\", \"is a type of\", \"is a part of\", \"is a member\", \"married to\"],\n",
    "    2: [\"is the father of\", \"had a dinner with\"],\n",
    "    3: [\"place where person had an accident\", \"date when company was founded\", \"tried to commit crime in\"]\n",
    "}"
   ]
  },
  {
   "cell_type": "code",
   "execution_count": 3,
   "metadata": {},
   "outputs": [
    {
     "name": "stdout",
     "output_type": "stream",
     "text": [
      "\n",
      "Here is a text:\n",
      "\n",
      "Historic shipwreck identified in Lake Michigan MUSKEGON – The bottom of Lake Michigan is literally a graveyard of shipwrecks .\n",
      "Local maritime historians say 1,200 of the 2,000 sunken vessels in Lake Michigan no longer exist because they hit shore and broke apart .\n",
      "Experts add that about 360 wrecks have been found in the lake ' s deeper water , but there are still many wrecks out there that remain undiscovered .\n",
      "A group of explorers recently found a historic steamship off the coast of Muskegon more than a century after it sank . Members of the Michigan Shipwreck Research Association say this is one of the deepest wrecks ever discovered in Lake Michigan . The story begins around midnight on Feb . 9 , 1899 . Lake Michigan was ice-caked and the 214-foot John V . Moran bucked the ice floes on its run from Milwaukee to Muskegon to deliver a cargo of barreled flour and package goods . The ship was only 11 years old and had an iron-reinforced hull for winter transit , but the conditions on this particular day were too much for the steamer . Ice struck a hole in the hull and water began pouring in . Capt . John McLeod dumped as much of the cargo as he could to lighten the load and try to keep the ship afloat , but it began slipping underneath the ice .\n",
      "\n",
      "\n",
      "Please identify the relationship between the head/subject entity John McLeod and the tail/object entity Lake Michigan.\n",
      "If the relationship is not meaningful, please instantiate \"relation\" with a null value in the JSON response.\n",
      "\n",
      "Pick a relation with a similar level of specificity to the following examples:\n",
      "['is the father of', 'had a dinner with']\n",
      "\n",
      "IMPORTANT: Depending on which entity is the head and which is the tail, we expect a differently worded relation!\n",
      "\n",
      "Answer directly in a JSON format as follows: {\"head\": John McLeod, \"tail\": Lake Michigan, \"relation\": ...}}}\n",
      "Return only JSON, do not use backticks or other markdown syntax.\n"
     ]
    },
    {
     "data": {
      "text/plain": [
       "{'head': 'John McLeod',\n",
       " 'tail': 'Lake Michigan',\n",
       " 'relation': 'was the captain of'}"
      ]
     },
     "execution_count": 3,
     "metadata": {},
     "output_type": "execute_result"
    }
   ],
   "source": [
    "text = \"\"\"\n",
    "Historic shipwreck identified in Lake Michigan MUSKEGON – The bottom of Lake Michigan is literally a graveyard of shipwrecks .\n",
    "Local maritime historians say 1,200 of the 2,000 sunken vessels in Lake Michigan no longer exist because they hit shore and broke apart .\n",
    "Experts add that about 360 wrecks have been found in the lake ' s deeper water , but there are still many wrecks out there that remain undiscovered .\n",
    "A group of explorers recently found a historic steamship off the coast of Muskegon more than a century after it sank . Members of the Michigan Shipwreck Research Association say this is one of the deepest wrecks ever discovered in Lake Michigan . The story begins around midnight on Feb . 9 , 1899 . Lake Michigan was ice-caked and the 214-foot John V . Moran bucked the ice floes on its run from Milwaukee to Muskegon to deliver a cargo of barreled flour and package goods . The ship was only 11 years old and had an iron-reinforced hull for winter transit , but the conditions on this particular day were too much for the steamer . Ice struck a hole in the hull and water began pouring in . Capt . John McLeod dumped as much of the cargo as he could to lighten the load and try to keep the ship afloat , but it began slipping underneath the ice .\n",
    "\"\"\"\n",
    "rendered_prompt = Template(PAIRWISE_PROMPT_2).render(\n",
    "    text=text,\n",
    "    head=\"John McLeod\",\n",
    "    tail=\"Lake Michigan\",\n",
    "    relation_examples=LABEL_EXAMPLES_BY_VERBOSITY[2]\n",
    ")\n",
    "print(rendered_prompt)\n",
    "output = run_openai(rendered_prompt, system_prompt=SYSTEM_PROMPT, model=\"gpt-3.5-turbo\", max_tokens=512, temperature=0.5)\n",
    "output\n"
   ]
  },
  {
   "cell_type": "code",
   "execution_count": 4,
   "metadata": {},
   "outputs": [
    {
     "data": {
      "text/plain": [
       "{'head': 'Lake Michigan',\n",
       " 'tail': 'John McLeod',\n",
       " 'relation': 'is the location where the shipwreck of John V. Moran occurred'}"
      ]
     },
     "execution_count": 4,
     "metadata": {},
     "output_type": "execute_result"
    }
   ],
   "source": [
    "rendered_prompt = Template(PAIRWISE_PROMPT_2).render(\n",
    "    text=text,\n",
    "    head=\"Lake Michigan\",\n",
    "    tail=\"John McLeod\",\n",
    "    relation_examples=LABEL_EXAMPLES_BY_VERBOSITY[2]\n",
    ")\n",
    "output = run_openai(rendered_prompt, system_prompt=SYSTEM_PROMPT, model=\"gpt-3.5-turbo\", max_tokens=512, temperature=0.5)\n",
    "output"
   ]
  },
  {
   "cell_type": "code",
   "execution_count": 5,
   "metadata": {},
   "outputs": [],
   "source": [
    "# download spacy model\n",
    "# !pip install spacy\n",
    "# !python -m spacy download en_core_web_trf"
   ]
  },
  {
   "cell_type": "markdown",
   "metadata": {},
   "source": [
    "### Creating Pairwise Inputs for LLM"
   ]
  },
  {
   "cell_type": "code",
   "execution_count": 6,
   "metadata": {},
   "outputs": [
    {
     "name": "stderr",
     "output_type": "stream",
     "text": [
      "/home/demiangholipour/miniconda3/envs/glirel/lib/python3.10/site-packages/tqdm/auto.py:21: TqdmWarning: IProgress not found. Please update jupyter and ipywidgets. See https://ipywidgets.readthedocs.io/en/stable/user_install.html\n",
      "  from .autonotebook import tqdm as notebook_tqdm\n"
     ]
    }
   ],
   "source": [
    "import spacy\n",
    "\n",
    "nlp = spacy.load(\"en_core_web_trf\")"
   ]
  },
  {
   "cell_type": "code",
   "execution_count": 7,
   "metadata": {},
   "outputs": [
    {
     "data": {
      "text/plain": [
       "19783"
      ]
     },
     "execution_count": 7,
     "metadata": {},
     "output_type": "execute_result"
    }
   ],
   "source": [
    "# !wget https://huggingface.co/datasets/urchade/pile-mistral-v0.1/resolve/main/data.json?download=true -O pile-mistral-v0.1.json\n",
    "\n",
    "with open('pile-mistral-v0.1.json') as f:\n",
    "    example_data = json.load(f)\n",
    "for x in example_data:\n",
    "    x[\"text\"] = \" \".join(x[\"tokenized_text\"])\n",
    "len(example_data)"
   ]
  },
  {
   "cell_type": "code",
   "execution_count": 8,
   "metadata": {},
   "outputs": [],
   "source": [
    "import random\n",
    "import tqdm\n",
    "\n",
    "random.seed(24)\n",
    "\n",
    "\n",
    "def create_data_items(nlp, dataset, n_sents=1):\n",
    "    \"\"\"\n",
    "    Create items that contain sentence + entity pairs for relation extraction.\n",
    "    Note we also add sentence IDs because we need to group all pairs of a sentence together later.\n",
    "    We don't need all sentences of a doc but we do need all pairs of a sentence!\n",
    "    \"\"\"\n",
    "    pair_items = []\n",
    "    sent_id = 0\n",
    "    for x in tqdm.tqdm(dataset):\n",
    "        doc = nlp(x['text'])\n",
    "        sents = list(doc.sents)\n",
    "        sampled_sents = random.sample(sents, min(n_sents, len(sents)))\n",
    "        for sent in sampled_sents:\n",
    "            entities = [ent.text for ent in sent.ents]\n",
    "            for e1 in entities:\n",
    "                for e2 in entities:\n",
    "                    if e1 != e2:\n",
    "                        pair_items.append({\"relation\": {\"head\": e1, \"tail\": e2}, \"text\": sent.text, \"sentence_id\": sent_id})\n",
    "            sent_id += 1\n",
    "    return pair_items"
   ]
  },
  {
   "cell_type": "code",
   "execution_count": 9,
   "metadata": {},
   "outputs": [
    {
     "name": "stderr",
     "output_type": "stream",
     "text": [
      "100%|██████████| 10/10 [00:07<00:00,  1.29it/s]\n"
     ]
    },
    {
     "data": {
      "text/plain": [
       "34"
      ]
     },
     "execution_count": 9,
     "metadata": {},
     "output_type": "execute_result"
    }
   ],
   "source": [
    "pair_items = create_data_items(nlp, example_data[:10], n_sents=1)\n",
    "len(pair_items)"
   ]
  },
  {
   "cell_type": "code",
   "execution_count": 10,
   "metadata": {},
   "outputs": [],
   "source": [
    "random.shuffle(pair_items)"
   ]
  },
  {
   "cell_type": "markdown",
   "metadata": {},
   "source": [
    "### Generate Labelled Data"
   ]
  },
  {
   "cell_type": "code",
   "execution_count": 11,
   "metadata": {},
   "outputs": [
    {
     "data": {
      "text/plain": [
       "[0, 1, 2, 3]"
      ]
     },
     "execution_count": 11,
     "metadata": {},
     "output_type": "execute_result"
    }
   ],
   "source": [
    "verbosity_levels = sorted(LABEL_EXAMPLES_BY_VERBOSITY)\n",
    "verbosity_levels"
   ]
  },
  {
   "cell_type": "code",
   "execution_count": 12,
   "metadata": {},
   "outputs": [
    {
     "name": "stderr",
     "output_type": "stream",
     "text": [
      "  0%|          | 0/25 [00:00<?, ?it/s]"
     ]
    },
    {
     "name": "stdout",
     "output_type": "stream",
     "text": [
      "{'relation': {'head': 'Americans', 'tail': 'Kenworthy'}, 'text': 'As Kenworthy explains it , social democracy is really just about setting up governmental insurance to cover Americans in the event of unexpected expenses and losses of income .', 'sentence_id': 2}\n"
     ]
    },
    {
     "name": "stderr",
     "output_type": "stream",
     "text": [
      "  4%|▍         | 1/25 [00:01<00:24,  1.01s/it]"
     ]
    },
    {
     "name": "stdout",
     "output_type": "stream",
     "text": [
      "\n",
      "verbosity 1\n",
      "generated relation: {'head': 'Americans', 'tail': 'Kenworthy', 'relation': 'is explained by'}\n",
      "\n",
      "{'relation': {'head': 'Kenworthy', 'tail': 'Americans'}, 'text': 'As Kenworthy explains it , social democracy is really just about setting up governmental insurance to cover Americans in the event of unexpected expenses and losses of income .', 'sentence_id': 2}\n"
     ]
    },
    {
     "name": "stderr",
     "output_type": "stream",
     "text": [
      "  8%|▊         | 2/25 [00:02<00:23,  1.03s/it]"
     ]
    },
    {
     "name": "stdout",
     "output_type": "stream",
     "text": [
      "\n",
      "verbosity 3\n",
      "generated relation: {'head': 'Kenworthy', 'tail': 'Americans', 'relation': 'proposes governmental insurance to cover'}\n",
      "\n",
      "{'relation': {'head': 'Ashes', 'tail': 'Friday'}, 'text': 'Cummins will be leaving this series and return home to prepare for the Ashes later this year , Cricket Australia confirmed on Friday .', 'sentence_id': 6}\n"
     ]
    },
    {
     "name": "stderr",
     "output_type": "stream",
     "text": [
      " 12%|█▏        | 3/25 [00:02<00:19,  1.10it/s]"
     ]
    },
    {
     "name": "stdout",
     "output_type": "stream",
     "text": [
      "\n",
      "verbosity 2\n",
      "generated relation: {'head': 'Ashes', 'tail': 'Friday', 'relation': 'is the date of'}\n",
      "\n",
      "{'relation': {'head': '15', 'tail': 'one'}, 'text': 'We analyzed the variation of one nuclear ( Gpi ) and one mitochondrial ( Nd1 ) gene among 60 TcI strains and 15 reference strains belonging to the six DTUs .', 'sentence_id': 1}\n"
     ]
    },
    {
     "name": "stderr",
     "output_type": "stream",
     "text": [
      " 16%|█▌        | 4/25 [00:04<00:22,  1.07s/it]"
     ]
    },
    {
     "name": "stdout",
     "output_type": "stream",
     "text": [
      "\n",
      "verbosity 2\n",
      "generated relation: {'head': 15, 'tail': 'one', 'relation': 'belongs to'}\n",
      "\n",
      "{'relation': {'head': 'Cricket Australia', 'tail': 'Friday'}, 'text': 'Cummins will be leaving this series and return home to prepare for the Ashes later this year , Cricket Australia confirmed on Friday .', 'sentence_id': 6}\n"
     ]
    },
    {
     "name": "stderr",
     "output_type": "stream",
     "text": [
      " 20%|██        | 5/25 [00:05<00:22,  1.11s/it]"
     ]
    },
    {
     "name": "stdout",
     "output_type": "stream",
     "text": [
      "\n",
      "verbosity 2\n",
      "generated relation: {'head': 'Cricket Australia', 'tail': 'Friday', 'relation': 'confirmed the news on'}\n",
      "\n",
      "{'relation': {'head': '15', 'tail': '60'}, 'text': 'We analyzed the variation of one nuclear ( Gpi ) and one mitochondrial ( Nd1 ) gene among 60 TcI strains and 15 reference strains belonging to the six DTUs .', 'sentence_id': 1}\n"
     ]
    },
    {
     "name": "stderr",
     "output_type": "stream",
     "text": [
      " 24%|██▍       | 6/25 [00:06<00:19,  1.00s/it]"
     ]
    },
    {
     "name": "stdout",
     "output_type": "stream",
     "text": [
      "\n",
      "verbosity 1\n",
      "generated relation: {'head': 15, 'tail': 60, 'relation': 'belongs to'}\n",
      "\n",
      "{'relation': {'head': 'Friday', 'tail': 'Cricket Australia'}, 'text': 'Cummins will be leaving this series and return home to prepare for the Ashes later this year , Cricket Australia confirmed on Friday .', 'sentence_id': 6}\n"
     ]
    },
    {
     "name": "stderr",
     "output_type": "stream",
     "text": [
      " 28%|██▊       | 7/25 [00:07<00:19,  1.07s/it]"
     ]
    },
    {
     "name": "stdout",
     "output_type": "stream",
     "text": [
      "\n",
      "verbosity 0\n",
      "generated relation: {'head': 'Friday', 'tail': 'Cricket Australia', 'relation': 'confirms'}\n",
      "\n",
      "{'relation': {'head': 'six', 'tail': '15'}, 'text': 'We analyzed the variation of one nuclear ( Gpi ) and one mitochondrial ( Nd1 ) gene among 60 TcI strains and 15 reference strains belonging to the six DTUs .', 'sentence_id': 1}\n"
     ]
    },
    {
     "name": "stderr",
     "output_type": "stream",
     "text": [
      " 32%|███▏      | 8/25 [00:08<00:16,  1.02it/s]"
     ]
    },
    {
     "name": "stdout",
     "output_type": "stream",
     "text": [
      "\n",
      "verbosity 3\n",
      "generated relation: {'head': 'six', 'tail': 15, 'relation': 'number of reference strains'}\n",
      "\n",
      "{'relation': {'head': 'Cricket Australia', 'tail': 'Cummins'}, 'text': 'Cummins will be leaving this series and return home to prepare for the Ashes later this year , Cricket Australia confirmed on Friday .', 'sentence_id': 6}\n"
     ]
    },
    {
     "name": "stderr",
     "output_type": "stream",
     "text": [
      " 36%|███▌      | 9/25 [00:09<00:16,  1.00s/it]"
     ]
    },
    {
     "name": "stdout",
     "output_type": "stream",
     "text": [
      "\n",
      "verbosity 1\n",
      "generated relation: {'head': 'Cricket Australia', 'tail': 'Cummins', 'relation': 'confirmed by'}\n",
      "\n",
      "{'relation': {'head': 'later this year', 'tail': 'Friday'}, 'text': 'Cummins will be leaving this series and return home to prepare for the Ashes later this year , Cricket Australia confirmed on Friday .', 'sentence_id': 6}\n"
     ]
    },
    {
     "name": "stderr",
     "output_type": "stream",
     "text": [
      " 40%|████      | 10/25 [00:10<00:14,  1.02it/s]"
     ]
    },
    {
     "name": "stdout",
     "output_type": "stream",
     "text": [
      "\n",
      "verbosity 1\n",
      "generated relation: {'head': 'later this year', 'tail': 'Friday', 'relation': 'is a'}\n",
      "\n",
      "{'relation': {'head': 'later this year', 'tail': 'Cricket Australia'}, 'text': 'Cummins will be leaving this series and return home to prepare for the Ashes later this year , Cricket Australia confirmed on Friday .', 'sentence_id': 6}\n"
     ]
    },
    {
     "name": "stderr",
     "output_type": "stream",
     "text": [
      " 44%|████▍     | 11/25 [00:11<00:13,  1.04it/s]"
     ]
    },
    {
     "name": "stdout",
     "output_type": "stream",
     "text": [
      "\n",
      "verbosity 2\n",
      "generated relation: {'head': 'later this year', 'tail': 'Cricket Australia', 'relation': 'confirmed the departure of'}\n",
      "\n",
      "{'relation': {'head': 'Ashes', 'tail': 'later this year'}, 'text': 'Cummins will be leaving this series and return home to prepare for the Ashes later this year , Cricket Australia confirmed on Friday .', 'sentence_id': 6}\n"
     ]
    },
    {
     "name": "stderr",
     "output_type": "stream",
     "text": [
      " 48%|████▊     | 12/25 [00:11<00:11,  1.10it/s]"
     ]
    },
    {
     "name": "stdout",
     "output_type": "stream",
     "text": [
      "\n",
      "verbosity 3\n",
      "generated relation: {'head': 'Ashes', 'tail': 'later this year', 'relation': 'scheduled event'}\n",
      "\n",
      "{'relation': {'head': 'Cummins', 'tail': 'Friday'}, 'text': 'Cummins will be leaving this series and return home to prepare for the Ashes later this year , Cricket Australia confirmed on Friday .', 'sentence_id': 6}\n"
     ]
    },
    {
     "name": "stderr",
     "output_type": "stream",
     "text": [
      " 52%|█████▏    | 13/25 [00:12<00:11,  1.01it/s]"
     ]
    },
    {
     "name": "stdout",
     "output_type": "stream",
     "text": [
      "\n",
      "verbosity 1\n",
      "generated relation: {'head': 'Cummins', 'tail': 'Friday', 'relation': 'is confirmed on'}\n",
      "\n",
      "{'relation': {'head': 'one', 'tail': '15'}, 'text': 'We analyzed the variation of one nuclear ( Gpi ) and one mitochondrial ( Nd1 ) gene among 60 TcI strains and 15 reference strains belonging to the six DTUs .', 'sentence_id': 1}\n"
     ]
    },
    {
     "name": "stderr",
     "output_type": "stream",
     "text": [
      " 56%|█████▌    | 14/25 [00:14<00:12,  1.12s/it]"
     ]
    },
    {
     "name": "stdout",
     "output_type": "stream",
     "text": [
      "\n",
      "verbosity 1\n",
      "generated relation: {'head': 'one', 'tail': 15, 'relation': 'belongs to'}\n",
      "\n",
      "{'relation': {'head': '60', 'tail': '15'}, 'text': 'We analyzed the variation of one nuclear ( Gpi ) and one mitochondrial ( Nd1 ) gene among 60 TcI strains and 15 reference strains belonging to the six DTUs .', 'sentence_id': 1}\n"
     ]
    },
    {
     "name": "stderr",
     "output_type": "stream",
     "text": [
      " 60%|██████    | 15/25 [00:15<00:10,  1.04s/it]"
     ]
    },
    {
     "name": "stdout",
     "output_type": "stream",
     "text": [
      "\n",
      "verbosity 3\n",
      "generated relation: {'head': 60, 'tail': 15, 'relation': 'number of strains compared to'}\n",
      "\n",
      "{'relation': {'head': 'six', 'tail': '60'}, 'text': 'We analyzed the variation of one nuclear ( Gpi ) and one mitochondrial ( Nd1 ) gene among 60 TcI strains and 15 reference strains belonging to the six DTUs .', 'sentence_id': 1}\n"
     ]
    },
    {
     "name": "stderr",
     "output_type": "stream",
     "text": [
      " 64%|██████▍   | 16/25 [00:16<00:08,  1.04it/s]"
     ]
    },
    {
     "name": "stdout",
     "output_type": "stream",
     "text": [
      "\n",
      "verbosity 2\n",
      "generated relation: {'head': 'six', 'tail': 60, 'relation': 'analyzed the variation of'}\n",
      "\n",
      "{'relation': {'head': 'Friday', 'tail': 'Ashes'}, 'text': 'Cummins will be leaving this series and return home to prepare for the Ashes later this year , Cricket Australia confirmed on Friday .', 'sentence_id': 6}\n"
     ]
    },
    {
     "name": "stderr",
     "output_type": "stream",
     "text": [
      " 68%|██████▊   | 17/25 [00:16<00:07,  1.05it/s]"
     ]
    },
    {
     "name": "stdout",
     "output_type": "stream",
     "text": [
      "\n",
      "verbosity 1\n",
      "generated relation: {'head': 'Friday', 'tail': 'Ashes', 'relation': 'is a time period for'}\n",
      "\n",
      "{'relation': {'head': '15', 'tail': 'six'}, 'text': 'We analyzed the variation of one nuclear ( Gpi ) and one mitochondrial ( Nd1 ) gene among 60 TcI strains and 15 reference strains belonging to the six DTUs .', 'sentence_id': 1}\n"
     ]
    },
    {
     "name": "stderr",
     "output_type": "stream",
     "text": [
      " 72%|███████▏  | 18/25 [00:17<00:06,  1.03it/s]"
     ]
    },
    {
     "name": "stdout",
     "output_type": "stream",
     "text": [
      "\n",
      "verbosity 1\n",
      "generated relation: {'head': 15, 'tail': 6, 'relation': 'belongs to'}\n",
      "\n",
      "{'relation': {'head': 'one', 'tail': 'six'}, 'text': 'We analyzed the variation of one nuclear ( Gpi ) and one mitochondrial ( Nd1 ) gene among 60 TcI strains and 15 reference strains belonging to the six DTUs .', 'sentence_id': 1}\n"
     ]
    },
    {
     "name": "stderr",
     "output_type": "stream",
     "text": [
      " 76%|███████▌  | 19/25 [00:18<00:05,  1.10it/s]"
     ]
    },
    {
     "name": "stdout",
     "output_type": "stream",
     "text": [
      "\n",
      "verbosity 0\n",
      "generated relation: {'head': 'one', 'tail': 'six', 'relation': 'belongs_to'}\n",
      "\n",
      "{'relation': {'head': 'later this year', 'tail': 'Cummins'}, 'text': 'Cummins will be leaving this series and return home to prepare for the Ashes later this year , Cricket Australia confirmed on Friday .', 'sentence_id': 6}\n"
     ]
    },
    {
     "name": "stderr",
     "output_type": "stream",
     "text": [
      " 80%|████████  | 20/25 [00:19<00:04,  1.13it/s]"
     ]
    },
    {
     "name": "stdout",
     "output_type": "stream",
     "text": [
      "\n",
      "verbosity 1\n",
      "generated relation: {'head': 'later this year', 'tail': 'Cummins', 'relation': 'is preparing for'}\n",
      "\n",
      "{'relation': {'head': 'six', 'tail': 'one'}, 'text': 'We analyzed the variation of one nuclear ( Gpi ) and one mitochondrial ( Nd1 ) gene among 60 TcI strains and 15 reference strains belonging to the six DTUs .', 'sentence_id': 1}\n"
     ]
    },
    {
     "name": "stderr",
     "output_type": "stream",
     "text": [
      " 84%|████████▍ | 21/25 [00:20<00:03,  1.03it/s]"
     ]
    },
    {
     "name": "stdout",
     "output_type": "stream",
     "text": [
      "\n",
      "verbosity 2\n",
      "generated relation: {'head': 'six', 'tail': 'one', 'relation': 'belonging to'}\n",
      "\n",
      "{'relation': {'head': 'Friday', 'tail': 'Cummins'}, 'text': 'Cummins will be leaving this series and return home to prepare for the Ashes later this year , Cricket Australia confirmed on Friday .', 'sentence_id': 6}\n"
     ]
    },
    {
     "name": "stderr",
     "output_type": "stream",
     "text": [
      " 88%|████████▊ | 22/25 [00:21<00:03,  1.04s/it]"
     ]
    },
    {
     "name": "stdout",
     "output_type": "stream",
     "text": [
      "\n",
      "verbosity 2\n",
      "generated relation: {'head': 'Friday', 'tail': 'Cummins', 'relation': 'confirmed on'}\n",
      "\n",
      "{'relation': {'head': 'Cummins', 'tail': 'later this year'}, 'text': 'Cummins will be leaving this series and return home to prepare for the Ashes later this year , Cricket Australia confirmed on Friday .', 'sentence_id': 6}\n"
     ]
    },
    {
     "name": "stderr",
     "output_type": "stream",
     "text": [
      " 92%|█████████▏| 23/25 [00:23<00:02,  1.06s/it]"
     ]
    },
    {
     "name": "stdout",
     "output_type": "stream",
     "text": [
      "\n",
      "verbosity 1\n",
      "generated relation: {'head': 'Cummins', 'tail': 'later this year', 'relation': 'will be preparing for'}\n",
      "\n",
      "{'relation': {'head': '60', 'tail': 'six'}, 'text': 'We analyzed the variation of one nuclear ( Gpi ) and one mitochondrial ( Nd1 ) gene among 60 TcI strains and 15 reference strains belonging to the six DTUs .', 'sentence_id': 1}\n"
     ]
    },
    {
     "name": "stderr",
     "output_type": "stream",
     "text": [
      " 96%|█████████▌| 24/25 [00:23<00:01,  1.02s/it]"
     ]
    },
    {
     "name": "stdout",
     "output_type": "stream",
     "text": [
      "\n",
      "verbosity 3\n",
      "generated relation: {'head': 60, 'tail': 'six', 'relation': 'number of TcI strains compared to number of DTUs'}\n",
      "\n",
      "{'relation': {'head': 'Cummins', 'tail': 'Cricket Australia'}, 'text': 'Cummins will be leaving this series and return home to prepare for the Ashes later this year , Cricket Australia confirmed on Friday .', 'sentence_id': 6}\n"
     ]
    },
    {
     "name": "stderr",
     "output_type": "stream",
     "text": [
      "100%|██████████| 25/25 [00:24<00:00,  1.01it/s]"
     ]
    },
    {
     "name": "stdout",
     "output_type": "stream",
     "text": [
      "\n",
      "verbosity 1\n",
      "generated relation: {'head': 'Cummins', 'tail': 'Cricket Australia', 'relation': 'is leaving'}\n",
      "\n"
     ]
    },
    {
     "name": "stderr",
     "output_type": "stream",
     "text": [
      "\n"
     ]
    }
   ],
   "source": [
    "data_with_llm_outputs = []\n",
    "for x in tqdm.tqdm(pair_items[:25]):\n",
    "    print(x)\n",
    "    verbosity = random.choice(verbosity_levels)\n",
    "    rendered_prompt = Template(PAIRWISE_PROMPT_2).render(\n",
    "        text=x['text'],\n",
    "        head=x['relation']['head'],\n",
    "        tail=x['relation']['tail'],\n",
    "        relation_examples=LABEL_EXAMPLES_BY_VERBOSITY[verbosity]\n",
    "    )\n",
    "    output = run_openai(rendered_prompt, system_prompt=SYSTEM_PROMPT, model=\"gpt-3.5-turbo\", max_tokens=512, temperature=0.5)\n",
    "    relation_label = output['relation']\n",
    "    print()\n",
    "    print('verbosity', verbosity)\n",
    "    print('generated relation:', output)\n",
    "    print()\n",
    "    new_item = x.copy()\n",
    "    new_item['relation']['label'] = relation_label\n",
    "    data_with_llm_outputs.append(new_item)"
   ]
  },
  {
   "cell_type": "code",
   "execution_count": 13,
   "metadata": {},
   "outputs": [],
   "source": [
    "from collections import defaultdict\n",
    "\n",
    "def group_items_by_sentence(data):\n",
    "    sentence_id_to_items = defaultdict(list)\n",
    "    for x in data:\n",
    "        sentence_id_to_items[x['sentence_id']].append(x)\n",
    "    sentence_items = []\n",
    "    for pair_items in sentence_id_to_items.values():\n",
    "        sent_item = {\n",
    "            'text': pair_items[0]['text'],\n",
    "            'relations': [x['relation'] for x in pair_items]\n",
    "        }\n",
    "        sentence_items.append(sent_item)\n",
    "    return sentence_items"
   ]
  },
  {
   "cell_type": "code",
   "execution_count": 14,
   "metadata": {},
   "outputs": [
    {
     "data": {
      "text/plain": [
       "[{'relation': {'head': 'Americans',\n",
       "   'tail': 'Kenworthy',\n",
       "   'label': 'is explained by'},\n",
       "  'text': 'As Kenworthy explains it , social democracy is really just about setting up governmental insurance to cover Americans in the event of unexpected expenses and losses of income .',\n",
       "  'sentence_id': 2},\n",
       " {'relation': {'head': 'Kenworthy',\n",
       "   'tail': 'Americans',\n",
       "   'label': 'proposes governmental insurance to cover'},\n",
       "  'text': 'As Kenworthy explains it , social democracy is really just about setting up governmental insurance to cover Americans in the event of unexpected expenses and losses of income .',\n",
       "  'sentence_id': 2},\n",
       " {'relation': {'head': 'Ashes', 'tail': 'Friday', 'label': 'is the date of'},\n",
       "  'text': 'Cummins will be leaving this series and return home to prepare for the Ashes later this year , Cricket Australia confirmed on Friday .',\n",
       "  'sentence_id': 6},\n",
       " {'relation': {'head': '15', 'tail': 'one', 'label': 'belongs to'},\n",
       "  'text': 'We analyzed the variation of one nuclear ( Gpi ) and one mitochondrial ( Nd1 ) gene among 60 TcI strains and 15 reference strains belonging to the six DTUs .',\n",
       "  'sentence_id': 1},\n",
       " {'relation': {'head': 'Cricket Australia',\n",
       "   'tail': 'Friday',\n",
       "   'label': 'confirmed the news on'},\n",
       "  'text': 'Cummins will be leaving this series and return home to prepare for the Ashes later this year , Cricket Australia confirmed on Friday .',\n",
       "  'sentence_id': 6},\n",
       " {'relation': {'head': '15', 'tail': '60', 'label': 'belongs to'},\n",
       "  'text': 'We analyzed the variation of one nuclear ( Gpi ) and one mitochondrial ( Nd1 ) gene among 60 TcI strains and 15 reference strains belonging to the six DTUs .',\n",
       "  'sentence_id': 1},\n",
       " {'relation': {'head': 'Friday',\n",
       "   'tail': 'Cricket Australia',\n",
       "   'label': 'confirms'},\n",
       "  'text': 'Cummins will be leaving this series and return home to prepare for the Ashes later this year , Cricket Australia confirmed on Friday .',\n",
       "  'sentence_id': 6},\n",
       " {'relation': {'head': 'six',\n",
       "   'tail': '15',\n",
       "   'label': 'number of reference strains'},\n",
       "  'text': 'We analyzed the variation of one nuclear ( Gpi ) and one mitochondrial ( Nd1 ) gene among 60 TcI strains and 15 reference strains belonging to the six DTUs .',\n",
       "  'sentence_id': 1},\n",
       " {'relation': {'head': 'Cricket Australia',\n",
       "   'tail': 'Cummins',\n",
       "   'label': 'confirmed by'},\n",
       "  'text': 'Cummins will be leaving this series and return home to prepare for the Ashes later this year , Cricket Australia confirmed on Friday .',\n",
       "  'sentence_id': 6},\n",
       " {'relation': {'head': 'later this year', 'tail': 'Friday', 'label': 'is a'},\n",
       "  'text': 'Cummins will be leaving this series and return home to prepare for the Ashes later this year , Cricket Australia confirmed on Friday .',\n",
       "  'sentence_id': 6},\n",
       " {'relation': {'head': 'later this year',\n",
       "   'tail': 'Cricket Australia',\n",
       "   'label': 'confirmed the departure of'},\n",
       "  'text': 'Cummins will be leaving this series and return home to prepare for the Ashes later this year , Cricket Australia confirmed on Friday .',\n",
       "  'sentence_id': 6},\n",
       " {'relation': {'head': 'Ashes',\n",
       "   'tail': 'later this year',\n",
       "   'label': 'scheduled event'},\n",
       "  'text': 'Cummins will be leaving this series and return home to prepare for the Ashes later this year , Cricket Australia confirmed on Friday .',\n",
       "  'sentence_id': 6},\n",
       " {'relation': {'head': 'Cummins',\n",
       "   'tail': 'Friday',\n",
       "   'label': 'is confirmed on'},\n",
       "  'text': 'Cummins will be leaving this series and return home to prepare for the Ashes later this year , Cricket Australia confirmed on Friday .',\n",
       "  'sentence_id': 6},\n",
       " {'relation': {'head': 'one', 'tail': '15', 'label': 'belongs to'},\n",
       "  'text': 'We analyzed the variation of one nuclear ( Gpi ) and one mitochondrial ( Nd1 ) gene among 60 TcI strains and 15 reference strains belonging to the six DTUs .',\n",
       "  'sentence_id': 1},\n",
       " {'relation': {'head': '60',\n",
       "   'tail': '15',\n",
       "   'label': 'number of strains compared to'},\n",
       "  'text': 'We analyzed the variation of one nuclear ( Gpi ) and one mitochondrial ( Nd1 ) gene among 60 TcI strains and 15 reference strains belonging to the six DTUs .',\n",
       "  'sentence_id': 1},\n",
       " {'relation': {'head': 'six',\n",
       "   'tail': '60',\n",
       "   'label': 'analyzed the variation of'},\n",
       "  'text': 'We analyzed the variation of one nuclear ( Gpi ) and one mitochondrial ( Nd1 ) gene among 60 TcI strains and 15 reference strains belonging to the six DTUs .',\n",
       "  'sentence_id': 1},\n",
       " {'relation': {'head': 'Friday',\n",
       "   'tail': 'Ashes',\n",
       "   'label': 'is a time period for'},\n",
       "  'text': 'Cummins will be leaving this series and return home to prepare for the Ashes later this year , Cricket Australia confirmed on Friday .',\n",
       "  'sentence_id': 6},\n",
       " {'relation': {'head': '15', 'tail': 'six', 'label': 'belongs to'},\n",
       "  'text': 'We analyzed the variation of one nuclear ( Gpi ) and one mitochondrial ( Nd1 ) gene among 60 TcI strains and 15 reference strains belonging to the six DTUs .',\n",
       "  'sentence_id': 1},\n",
       " {'relation': {'head': 'one', 'tail': 'six', 'label': 'belongs_to'},\n",
       "  'text': 'We analyzed the variation of one nuclear ( Gpi ) and one mitochondrial ( Nd1 ) gene among 60 TcI strains and 15 reference strains belonging to the six DTUs .',\n",
       "  'sentence_id': 1},\n",
       " {'relation': {'head': 'later this year',\n",
       "   'tail': 'Cummins',\n",
       "   'label': 'is preparing for'},\n",
       "  'text': 'Cummins will be leaving this series and return home to prepare for the Ashes later this year , Cricket Australia confirmed on Friday .',\n",
       "  'sentence_id': 6},\n",
       " {'relation': {'head': 'six', 'tail': 'one', 'label': 'belonging to'},\n",
       "  'text': 'We analyzed the variation of one nuclear ( Gpi ) and one mitochondrial ( Nd1 ) gene among 60 TcI strains and 15 reference strains belonging to the six DTUs .',\n",
       "  'sentence_id': 1},\n",
       " {'relation': {'head': 'Friday', 'tail': 'Cummins', 'label': 'confirmed on'},\n",
       "  'text': 'Cummins will be leaving this series and return home to prepare for the Ashes later this year , Cricket Australia confirmed on Friday .',\n",
       "  'sentence_id': 6},\n",
       " {'relation': {'head': 'Cummins',\n",
       "   'tail': 'later this year',\n",
       "   'label': 'will be preparing for'},\n",
       "  'text': 'Cummins will be leaving this series and return home to prepare for the Ashes later this year , Cricket Australia confirmed on Friday .',\n",
       "  'sentence_id': 6},\n",
       " {'relation': {'head': '60',\n",
       "   'tail': 'six',\n",
       "   'label': 'number of TcI strains compared to number of DTUs'},\n",
       "  'text': 'We analyzed the variation of one nuclear ( Gpi ) and one mitochondrial ( Nd1 ) gene among 60 TcI strains and 15 reference strains belonging to the six DTUs .',\n",
       "  'sentence_id': 1},\n",
       " {'relation': {'head': 'Cummins',\n",
       "   'tail': 'Cricket Australia',\n",
       "   'label': 'is leaving'},\n",
       "  'text': 'Cummins will be leaving this series and return home to prepare for the Ashes later this year , Cricket Australia confirmed on Friday .',\n",
       "  'sentence_id': 6}]"
      ]
     },
     "execution_count": 14,
     "metadata": {},
     "output_type": "execute_result"
    }
   ],
   "source": [
    "data_with_llm_outputs"
   ]
  },
  {
   "cell_type": "code",
   "execution_count": 15,
   "metadata": {},
   "outputs": [
    {
     "data": {
      "text/plain": [
       "3"
      ]
     },
     "execution_count": 15,
     "metadata": {},
     "output_type": "execute_result"
    }
   ],
   "source": [
    "annotated_dataset = group_items_by_sentence(data_with_llm_outputs)\n",
    "len(annotated_dataset)"
   ]
  },
  {
   "cell_type": "code",
   "execution_count": 16,
   "metadata": {},
   "outputs": [
    {
     "data": {
      "text/plain": [
       "{'text': 'As Kenworthy explains it , social democracy is really just about setting up governmental insurance to cover Americans in the event of unexpected expenses and losses of income .',\n",
       " 'relations': [{'head': 'Americans',\n",
       "   'tail': 'Kenworthy',\n",
       "   'label': 'is explained by'},\n",
       "  {'head': 'Kenworthy',\n",
       "   'tail': 'Americans',\n",
       "   'label': 'proposes governmental insurance to cover'}]}"
      ]
     },
     "execution_count": 16,
     "metadata": {},
     "output_type": "execute_result"
    }
   ],
   "source": [
    "annotated_dataset[0]"
   ]
  }
 ],
 "metadata": {
  "kernelspec": {
   "display_name": "glirel",
   "language": "python",
   "name": "python3"
  },
  "language_info": {
   "codemirror_mode": {
    "name": "ipython",
    "version": 3
   },
   "file_extension": ".py",
   "mimetype": "text/x-python",
   "name": "python",
   "nbconvert_exporter": "python",
   "pygments_lexer": "ipython3",
   "version": "3.10.14"
  }
 },
 "nbformat": 4,
 "nbformat_minor": 2
}
